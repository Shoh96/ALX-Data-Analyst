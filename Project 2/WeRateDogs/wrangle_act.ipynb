{
 "cells": [
  {
   "cell_type": "markdown",
   "metadata": {
    "extensions": {
     "jupyter_dashboards": {
      "version": 1,
      "views": {
       "grid_default": {
        "col": 0,
        "height": 4,
        "hidden": false,
        "row": 0,
        "width": 4
       },
       "report_default": {
        "hidden": false
       }
      }
     }
    }
   },
   "source": [
    "# Project: Wrangling and Analyze Data"
   ]
  },
  {
   "cell_type": "markdown",
   "metadata": {},
   "source": [
    "## Data Gathering\n",
    "In the cell below, gather **all** three pieces of data for this project and load them in the notebook. **Note:** the methods required to gather each data are different.\n",
    "1. Directly download the WeRateDogs Twitter archive data (twitter_archive_enhanced.csv)"
   ]
  },
  {
   "cell_type": "code",
   "execution_count": 1,
   "metadata": {},
   "outputs": [],
   "source": [
    "# Importing libraries\n",
    "import pandas as pd\n",
    "import numpy as np\n",
    "from matplotlib import pyplot as plt\n",
    "import seaborn as sns\n",
    "%matplotlib inline\n",
    "import json\n",
    "import tweepy\n",
    "import requests\n",
    "import os\n",
    "import glob\n",
    "from tweepy import OAuthHandler\n",
    "import re"
   ]
  },
  {
   "cell_type": "code",
   "execution_count": 2,
   "metadata": {
    "extensions": {
     "jupyter_dashboards": {
      "version": 1,
      "views": {
       "grid_default": {
        "hidden": true
       },
       "report_default": {
        "hidden": true
       }
      }
     }
    }
   },
   "outputs": [],
   "source": [
    "#uploading the csv file\n",
    "df = pd.read_csv('twitter-archive-enhanced.csv')"
   ]
  },
  {
   "cell_type": "code",
   "execution_count": 3,
   "metadata": {},
   "outputs": [
    {
     "data": {
      "text/html": [
       "<div>\n",
       "<style scoped>\n",
       "    .dataframe tbody tr th:only-of-type {\n",
       "        vertical-align: middle;\n",
       "    }\n",
       "\n",
       "    .dataframe tbody tr th {\n",
       "        vertical-align: top;\n",
       "    }\n",
       "\n",
       "    .dataframe thead th {\n",
       "        text-align: right;\n",
       "    }\n",
       "</style>\n",
       "<table border=\"1\" class=\"dataframe\">\n",
       "  <thead>\n",
       "    <tr style=\"text-align: right;\">\n",
       "      <th></th>\n",
       "      <th>tweet_id</th>\n",
       "      <th>in_reply_to_status_id</th>\n",
       "      <th>in_reply_to_user_id</th>\n",
       "      <th>timestamp</th>\n",
       "      <th>source</th>\n",
       "      <th>text</th>\n",
       "      <th>retweeted_status_id</th>\n",
       "      <th>retweeted_status_user_id</th>\n",
       "      <th>retweeted_status_timestamp</th>\n",
       "      <th>expanded_urls</th>\n",
       "      <th>rating_numerator</th>\n",
       "      <th>rating_denominator</th>\n",
       "      <th>name</th>\n",
       "      <th>doggo</th>\n",
       "      <th>floofer</th>\n",
       "      <th>pupper</th>\n",
       "      <th>puppo</th>\n",
       "    </tr>\n",
       "  </thead>\n",
       "  <tbody>\n",
       "    <tr>\n",
       "      <th>0</th>\n",
       "      <td>892420643555336193</td>\n",
       "      <td>NaN</td>\n",
       "      <td>NaN</td>\n",
       "      <td>2017-08-01 16:23:56 +0000</td>\n",
       "      <td>&lt;a href=\"http://twitter.com/download/iphone\" r...</td>\n",
       "      <td>This is Phineas. He's a mystical boy. Only eve...</td>\n",
       "      <td>NaN</td>\n",
       "      <td>NaN</td>\n",
       "      <td>NaN</td>\n",
       "      <td>https://twitter.com/dog_rates/status/892420643...</td>\n",
       "      <td>13</td>\n",
       "      <td>10</td>\n",
       "      <td>Phineas</td>\n",
       "      <td>None</td>\n",
       "      <td>None</td>\n",
       "      <td>None</td>\n",
       "      <td>None</td>\n",
       "    </tr>\n",
       "    <tr>\n",
       "      <th>1</th>\n",
       "      <td>892177421306343426</td>\n",
       "      <td>NaN</td>\n",
       "      <td>NaN</td>\n",
       "      <td>2017-08-01 00:17:27 +0000</td>\n",
       "      <td>&lt;a href=\"http://twitter.com/download/iphone\" r...</td>\n",
       "      <td>This is Tilly. She's just checking pup on you....</td>\n",
       "      <td>NaN</td>\n",
       "      <td>NaN</td>\n",
       "      <td>NaN</td>\n",
       "      <td>https://twitter.com/dog_rates/status/892177421...</td>\n",
       "      <td>13</td>\n",
       "      <td>10</td>\n",
       "      <td>Tilly</td>\n",
       "      <td>None</td>\n",
       "      <td>None</td>\n",
       "      <td>None</td>\n",
       "      <td>None</td>\n",
       "    </tr>\n",
       "    <tr>\n",
       "      <th>2</th>\n",
       "      <td>891815181378084864</td>\n",
       "      <td>NaN</td>\n",
       "      <td>NaN</td>\n",
       "      <td>2017-07-31 00:18:03 +0000</td>\n",
       "      <td>&lt;a href=\"http://twitter.com/download/iphone\" r...</td>\n",
       "      <td>This is Archie. He is a rare Norwegian Pouncin...</td>\n",
       "      <td>NaN</td>\n",
       "      <td>NaN</td>\n",
       "      <td>NaN</td>\n",
       "      <td>https://twitter.com/dog_rates/status/891815181...</td>\n",
       "      <td>12</td>\n",
       "      <td>10</td>\n",
       "      <td>Archie</td>\n",
       "      <td>None</td>\n",
       "      <td>None</td>\n",
       "      <td>None</td>\n",
       "      <td>None</td>\n",
       "    </tr>\n",
       "    <tr>\n",
       "      <th>3</th>\n",
       "      <td>891689557279858688</td>\n",
       "      <td>NaN</td>\n",
       "      <td>NaN</td>\n",
       "      <td>2017-07-30 15:58:51 +0000</td>\n",
       "      <td>&lt;a href=\"http://twitter.com/download/iphone\" r...</td>\n",
       "      <td>This is Darla. She commenced a snooze mid meal...</td>\n",
       "      <td>NaN</td>\n",
       "      <td>NaN</td>\n",
       "      <td>NaN</td>\n",
       "      <td>https://twitter.com/dog_rates/status/891689557...</td>\n",
       "      <td>13</td>\n",
       "      <td>10</td>\n",
       "      <td>Darla</td>\n",
       "      <td>None</td>\n",
       "      <td>None</td>\n",
       "      <td>None</td>\n",
       "      <td>None</td>\n",
       "    </tr>\n",
       "    <tr>\n",
       "      <th>4</th>\n",
       "      <td>891327558926688256</td>\n",
       "      <td>NaN</td>\n",
       "      <td>NaN</td>\n",
       "      <td>2017-07-29 16:00:24 +0000</td>\n",
       "      <td>&lt;a href=\"http://twitter.com/download/iphone\" r...</td>\n",
       "      <td>This is Franklin. He would like you to stop ca...</td>\n",
       "      <td>NaN</td>\n",
       "      <td>NaN</td>\n",
       "      <td>NaN</td>\n",
       "      <td>https://twitter.com/dog_rates/status/891327558...</td>\n",
       "      <td>12</td>\n",
       "      <td>10</td>\n",
       "      <td>Franklin</td>\n",
       "      <td>None</td>\n",
       "      <td>None</td>\n",
       "      <td>None</td>\n",
       "      <td>None</td>\n",
       "    </tr>\n",
       "  </tbody>\n",
       "</table>\n",
       "</div>"
      ],
      "text/plain": [
       "             tweet_id  in_reply_to_status_id  in_reply_to_user_id  \\\n",
       "0  892420643555336193                    NaN                  NaN   \n",
       "1  892177421306343426                    NaN                  NaN   \n",
       "2  891815181378084864                    NaN                  NaN   \n",
       "3  891689557279858688                    NaN                  NaN   \n",
       "4  891327558926688256                    NaN                  NaN   \n",
       "\n",
       "                   timestamp  \\\n",
       "0  2017-08-01 16:23:56 +0000   \n",
       "1  2017-08-01 00:17:27 +0000   \n",
       "2  2017-07-31 00:18:03 +0000   \n",
       "3  2017-07-30 15:58:51 +0000   \n",
       "4  2017-07-29 16:00:24 +0000   \n",
       "\n",
       "                                              source  \\\n",
       "0  <a href=\"http://twitter.com/download/iphone\" r...   \n",
       "1  <a href=\"http://twitter.com/download/iphone\" r...   \n",
       "2  <a href=\"http://twitter.com/download/iphone\" r...   \n",
       "3  <a href=\"http://twitter.com/download/iphone\" r...   \n",
       "4  <a href=\"http://twitter.com/download/iphone\" r...   \n",
       "\n",
       "                                                text  retweeted_status_id  \\\n",
       "0  This is Phineas. He's a mystical boy. Only eve...                  NaN   \n",
       "1  This is Tilly. She's just checking pup on you....                  NaN   \n",
       "2  This is Archie. He is a rare Norwegian Pouncin...                  NaN   \n",
       "3  This is Darla. She commenced a snooze mid meal...                  NaN   \n",
       "4  This is Franklin. He would like you to stop ca...                  NaN   \n",
       "\n",
       "   retweeted_status_user_id retweeted_status_timestamp  \\\n",
       "0                       NaN                        NaN   \n",
       "1                       NaN                        NaN   \n",
       "2                       NaN                        NaN   \n",
       "3                       NaN                        NaN   \n",
       "4                       NaN                        NaN   \n",
       "\n",
       "                                       expanded_urls  rating_numerator  \\\n",
       "0  https://twitter.com/dog_rates/status/892420643...                13   \n",
       "1  https://twitter.com/dog_rates/status/892177421...                13   \n",
       "2  https://twitter.com/dog_rates/status/891815181...                12   \n",
       "3  https://twitter.com/dog_rates/status/891689557...                13   \n",
       "4  https://twitter.com/dog_rates/status/891327558...                12   \n",
       "\n",
       "   rating_denominator      name doggo floofer pupper puppo  \n",
       "0                  10   Phineas  None    None   None  None  \n",
       "1                  10     Tilly  None    None   None  None  \n",
       "2                  10    Archie  None    None   None  None  \n",
       "3                  10     Darla  None    None   None  None  \n",
       "4                  10  Franklin  None    None   None  None  "
      ]
     },
     "execution_count": 3,
     "metadata": {},
     "output_type": "execute_result"
    }
   ],
   "source": [
    "# preview\n",
    "df.head()"
   ]
  },
  {
   "cell_type": "markdown",
   "metadata": {},
   "source": [
    "2. Use the Requests library to download the tweet image prediction (image_predictions.tsv)"
   ]
  },
  {
   "cell_type": "code",
   "execution_count": 4,
   "metadata": {},
   "outputs": [],
   "source": [
    "# download image_predictions using the request library\n",
    "url = \"https://d17h27t6h515a5.cloudfront.net/topher/2017/August/599fd2ad_image-predictions/image-predictions.tsv\"\n",
    "response = requests.get(url)\n",
    "\n",
    "with open('image_predictions.tsv', mode ='wb') as file:\n",
    "    file.write(response.content)"
   ]
  },
  {
   "cell_type": "code",
   "execution_count": 5,
   "metadata": {},
   "outputs": [],
   "source": [
    "# Read tsv file after download via request\n",
    "df_image = pd.read_csv('image_predictions.tsv', sep='\\t')"
   ]
  },
  {
   "cell_type": "code",
   "execution_count": 6,
   "metadata": {},
   "outputs": [
    {
     "data": {
      "text/html": [
       "<div>\n",
       "<style scoped>\n",
       "    .dataframe tbody tr th:only-of-type {\n",
       "        vertical-align: middle;\n",
       "    }\n",
       "\n",
       "    .dataframe tbody tr th {\n",
       "        vertical-align: top;\n",
       "    }\n",
       "\n",
       "    .dataframe thead th {\n",
       "        text-align: right;\n",
       "    }\n",
       "</style>\n",
       "<table border=\"1\" class=\"dataframe\">\n",
       "  <thead>\n",
       "    <tr style=\"text-align: right;\">\n",
       "      <th></th>\n",
       "      <th>tweet_id</th>\n",
       "      <th>jpg_url</th>\n",
       "      <th>img_num</th>\n",
       "      <th>p1</th>\n",
       "      <th>p1_conf</th>\n",
       "      <th>p1_dog</th>\n",
       "      <th>p2</th>\n",
       "      <th>p2_conf</th>\n",
       "      <th>p2_dog</th>\n",
       "      <th>p3</th>\n",
       "      <th>p3_conf</th>\n",
       "      <th>p3_dog</th>\n",
       "    </tr>\n",
       "  </thead>\n",
       "  <tbody>\n",
       "    <tr>\n",
       "      <th>0</th>\n",
       "      <td>666020888022790149</td>\n",
       "      <td>https://pbs.twimg.com/media/CT4udn0WwAA0aMy.jpg</td>\n",
       "      <td>1</td>\n",
       "      <td>Welsh_springer_spaniel</td>\n",
       "      <td>0.465074</td>\n",
       "      <td>True</td>\n",
       "      <td>collie</td>\n",
       "      <td>0.156665</td>\n",
       "      <td>True</td>\n",
       "      <td>Shetland_sheepdog</td>\n",
       "      <td>0.061428</td>\n",
       "      <td>True</td>\n",
       "    </tr>\n",
       "    <tr>\n",
       "      <th>1</th>\n",
       "      <td>666029285002620928</td>\n",
       "      <td>https://pbs.twimg.com/media/CT42GRgUYAA5iDo.jpg</td>\n",
       "      <td>1</td>\n",
       "      <td>redbone</td>\n",
       "      <td>0.506826</td>\n",
       "      <td>True</td>\n",
       "      <td>miniature_pinscher</td>\n",
       "      <td>0.074192</td>\n",
       "      <td>True</td>\n",
       "      <td>Rhodesian_ridgeback</td>\n",
       "      <td>0.072010</td>\n",
       "      <td>True</td>\n",
       "    </tr>\n",
       "    <tr>\n",
       "      <th>2</th>\n",
       "      <td>666033412701032449</td>\n",
       "      <td>https://pbs.twimg.com/media/CT4521TWwAEvMyu.jpg</td>\n",
       "      <td>1</td>\n",
       "      <td>German_shepherd</td>\n",
       "      <td>0.596461</td>\n",
       "      <td>True</td>\n",
       "      <td>malinois</td>\n",
       "      <td>0.138584</td>\n",
       "      <td>True</td>\n",
       "      <td>bloodhound</td>\n",
       "      <td>0.116197</td>\n",
       "      <td>True</td>\n",
       "    </tr>\n",
       "    <tr>\n",
       "      <th>3</th>\n",
       "      <td>666044226329800704</td>\n",
       "      <td>https://pbs.twimg.com/media/CT5Dr8HUEAA-lEu.jpg</td>\n",
       "      <td>1</td>\n",
       "      <td>Rhodesian_ridgeback</td>\n",
       "      <td>0.408143</td>\n",
       "      <td>True</td>\n",
       "      <td>redbone</td>\n",
       "      <td>0.360687</td>\n",
       "      <td>True</td>\n",
       "      <td>miniature_pinscher</td>\n",
       "      <td>0.222752</td>\n",
       "      <td>True</td>\n",
       "    </tr>\n",
       "    <tr>\n",
       "      <th>4</th>\n",
       "      <td>666049248165822465</td>\n",
       "      <td>https://pbs.twimg.com/media/CT5IQmsXIAAKY4A.jpg</td>\n",
       "      <td>1</td>\n",
       "      <td>miniature_pinscher</td>\n",
       "      <td>0.560311</td>\n",
       "      <td>True</td>\n",
       "      <td>Rottweiler</td>\n",
       "      <td>0.243682</td>\n",
       "      <td>True</td>\n",
       "      <td>Doberman</td>\n",
       "      <td>0.154629</td>\n",
       "      <td>True</td>\n",
       "    </tr>\n",
       "  </tbody>\n",
       "</table>\n",
       "</div>"
      ],
      "text/plain": [
       "             tweet_id                                          jpg_url  \\\n",
       "0  666020888022790149  https://pbs.twimg.com/media/CT4udn0WwAA0aMy.jpg   \n",
       "1  666029285002620928  https://pbs.twimg.com/media/CT42GRgUYAA5iDo.jpg   \n",
       "2  666033412701032449  https://pbs.twimg.com/media/CT4521TWwAEvMyu.jpg   \n",
       "3  666044226329800704  https://pbs.twimg.com/media/CT5Dr8HUEAA-lEu.jpg   \n",
       "4  666049248165822465  https://pbs.twimg.com/media/CT5IQmsXIAAKY4A.jpg   \n",
       "\n",
       "   img_num                      p1   p1_conf  p1_dog                  p2  \\\n",
       "0        1  Welsh_springer_spaniel  0.465074    True              collie   \n",
       "1        1                 redbone  0.506826    True  miniature_pinscher   \n",
       "2        1         German_shepherd  0.596461    True            malinois   \n",
       "3        1     Rhodesian_ridgeback  0.408143    True             redbone   \n",
       "4        1      miniature_pinscher  0.560311    True          Rottweiler   \n",
       "\n",
       "    p2_conf  p2_dog                   p3   p3_conf  p3_dog  \n",
       "0  0.156665    True    Shetland_sheepdog  0.061428    True  \n",
       "1  0.074192    True  Rhodesian_ridgeback  0.072010    True  \n",
       "2  0.138584    True           bloodhound  0.116197    True  \n",
       "3  0.360687    True   miniature_pinscher  0.222752    True  \n",
       "4  0.243682    True             Doberman  0.154629    True  "
      ]
     },
     "execution_count": 6,
     "metadata": {},
     "output_type": "execute_result"
    }
   ],
   "source": [
    "df_image.head()"
   ]
  },
  {
   "cell_type": "markdown",
   "metadata": {},
   "source": [
    "3. Use the Tweepy library to query additional data via the Twitter API (tweet_json.txt)"
   ]
  },
  {
   "cell_type": "code",
   "execution_count": 7,
   "metadata": {},
   "outputs": [
    {
     "data": {
      "text/plain": [
       "2356"
      ]
     },
     "execution_count": 7,
     "metadata": {},
     "output_type": "execute_result"
    }
   ],
   "source": [
    "# Query Twitter API for each tweet in the Twitter archive and save JSON in a text file\n",
    "# These are hidden to comply with Twitter's API terms and conditions\n",
    "consumer_key = 'HIDDEN'\n",
    "consumer_secret = 'HIDDEN'\n",
    "access_token = 'HIDDEN'\n",
    "access_secret = 'HIDDEN'\n",
    "\n",
    "auth = OAuthHandler(consumer_key, consumer_secret)\n",
    "auth.set_access_token(access_token, access_secret)\n",
    "\n",
    "api = tweepy.API(auth, wait_on_rate_limit=True)\n",
    "\n",
    "# NOTE TO REVIEWER: this student had mobile verification issues so the following\n",
    "# Twitter API code was sent to this student from a Udacity instructor\n",
    "\n",
    "# Tweet IDs for which to gather additional data via Twitter's API\n",
    "tweet_ids = df.tweet_id.values\n",
    "len(tweet_ids)"
   ]
  },
  {
   "cell_type": "code",
   "execution_count": 8,
   "metadata": {
    "scrolled": true
   },
   "outputs": [
    {
     "data": {
      "text/html": [
       "<div>\n",
       "<style scoped>\n",
       "    .dataframe tbody tr th:only-of-type {\n",
       "        vertical-align: middle;\n",
       "    }\n",
       "\n",
       "    .dataframe tbody tr th {\n",
       "        vertical-align: top;\n",
       "    }\n",
       "\n",
       "    .dataframe thead th {\n",
       "        text-align: right;\n",
       "    }\n",
       "</style>\n",
       "<table border=\"1\" class=\"dataframe\">\n",
       "  <thead>\n",
       "    <tr style=\"text-align: right;\">\n",
       "      <th></th>\n",
       "      <th>tweet_id</th>\n",
       "      <th>retweet_count</th>\n",
       "      <th>favorite_count</th>\n",
       "      <th>created_at</th>\n",
       "      <th>full_text</th>\n",
       "    </tr>\n",
       "  </thead>\n",
       "  <tbody>\n",
       "    <tr>\n",
       "      <th>0</th>\n",
       "      <td>892420643555336193</td>\n",
       "      <td>8853</td>\n",
       "      <td>39467</td>\n",
       "      <td>Tue Aug 01 16:23:56 +0000 2017</td>\n",
       "      <td>This is Phineas. He's a mystical boy. Only eve...</td>\n",
       "    </tr>\n",
       "    <tr>\n",
       "      <th>1</th>\n",
       "      <td>892177421306343426</td>\n",
       "      <td>6514</td>\n",
       "      <td>33819</td>\n",
       "      <td>Tue Aug 01 00:17:27 +0000 2017</td>\n",
       "      <td>This is Tilly. She's just checking pup on you....</td>\n",
       "    </tr>\n",
       "    <tr>\n",
       "      <th>2</th>\n",
       "      <td>891815181378084864</td>\n",
       "      <td>4328</td>\n",
       "      <td>25461</td>\n",
       "      <td>Mon Jul 31 00:18:03 +0000 2017</td>\n",
       "      <td>This is Archie. He is a rare Norwegian Pouncin...</td>\n",
       "    </tr>\n",
       "    <tr>\n",
       "      <th>3</th>\n",
       "      <td>891689557279858688</td>\n",
       "      <td>8964</td>\n",
       "      <td>42908</td>\n",
       "      <td>Sun Jul 30 15:58:51 +0000 2017</td>\n",
       "      <td>This is Darla. She commenced a snooze mid meal...</td>\n",
       "    </tr>\n",
       "    <tr>\n",
       "      <th>4</th>\n",
       "      <td>891327558926688256</td>\n",
       "      <td>9774</td>\n",
       "      <td>41048</td>\n",
       "      <td>Sat Jul 29 16:00:24 +0000 2017</td>\n",
       "      <td>This is Franklin. He would like you to stop ca...</td>\n",
       "    </tr>\n",
       "    <tr>\n",
       "      <th>...</th>\n",
       "      <td>...</td>\n",
       "      <td>...</td>\n",
       "      <td>...</td>\n",
       "      <td>...</td>\n",
       "      <td>...</td>\n",
       "    </tr>\n",
       "    <tr>\n",
       "      <th>2349</th>\n",
       "      <td>666049248165822465</td>\n",
       "      <td>41</td>\n",
       "      <td>111</td>\n",
       "      <td>Mon Nov 16 00:24:50 +0000 2015</td>\n",
       "      <td>Here we have a 1949 1st generation vulpix. Enj...</td>\n",
       "    </tr>\n",
       "    <tr>\n",
       "      <th>2350</th>\n",
       "      <td>666044226329800704</td>\n",
       "      <td>147</td>\n",
       "      <td>311</td>\n",
       "      <td>Mon Nov 16 00:04:52 +0000 2015</td>\n",
       "      <td>This is a purebred Piers Morgan. Loves to Netf...</td>\n",
       "    </tr>\n",
       "    <tr>\n",
       "      <th>2351</th>\n",
       "      <td>666033412701032449</td>\n",
       "      <td>47</td>\n",
       "      <td>128</td>\n",
       "      <td>Sun Nov 15 23:21:54 +0000 2015</td>\n",
       "      <td>Here is a very happy pup. Big fan of well-main...</td>\n",
       "    </tr>\n",
       "    <tr>\n",
       "      <th>2352</th>\n",
       "      <td>666029285002620928</td>\n",
       "      <td>48</td>\n",
       "      <td>132</td>\n",
       "      <td>Sun Nov 15 23:05:30 +0000 2015</td>\n",
       "      <td>This is a western brown Mitsubishi terrier. Up...</td>\n",
       "    </tr>\n",
       "    <tr>\n",
       "      <th>2353</th>\n",
       "      <td>666020888022790149</td>\n",
       "      <td>532</td>\n",
       "      <td>2535</td>\n",
       "      <td>Sun Nov 15 22:32:08 +0000 2015</td>\n",
       "      <td>Here we have a Japanese Irish Setter. Lost eye...</td>\n",
       "    </tr>\n",
       "  </tbody>\n",
       "</table>\n",
       "<p>2354 rows × 5 columns</p>\n",
       "</div>"
      ],
      "text/plain": [
       "                tweet_id  retweet_count  favorite_count  \\\n",
       "0     892420643555336193           8853           39467   \n",
       "1     892177421306343426           6514           33819   \n",
       "2     891815181378084864           4328           25461   \n",
       "3     891689557279858688           8964           42908   \n",
       "4     891327558926688256           9774           41048   \n",
       "...                  ...            ...             ...   \n",
       "2349  666049248165822465             41             111   \n",
       "2350  666044226329800704            147             311   \n",
       "2351  666033412701032449             47             128   \n",
       "2352  666029285002620928             48             132   \n",
       "2353  666020888022790149            532            2535   \n",
       "\n",
       "                          created_at  \\\n",
       "0     Tue Aug 01 16:23:56 +0000 2017   \n",
       "1     Tue Aug 01 00:17:27 +0000 2017   \n",
       "2     Mon Jul 31 00:18:03 +0000 2017   \n",
       "3     Sun Jul 30 15:58:51 +0000 2017   \n",
       "4     Sat Jul 29 16:00:24 +0000 2017   \n",
       "...                              ...   \n",
       "2349  Mon Nov 16 00:24:50 +0000 2015   \n",
       "2350  Mon Nov 16 00:04:52 +0000 2015   \n",
       "2351  Sun Nov 15 23:21:54 +0000 2015   \n",
       "2352  Sun Nov 15 23:05:30 +0000 2015   \n",
       "2353  Sun Nov 15 22:32:08 +0000 2015   \n",
       "\n",
       "                                              full_text  \n",
       "0     This is Phineas. He's a mystical boy. Only eve...  \n",
       "1     This is Tilly. She's just checking pup on you....  \n",
       "2     This is Archie. He is a rare Norwegian Pouncin...  \n",
       "3     This is Darla. She commenced a snooze mid meal...  \n",
       "4     This is Franklin. He would like you to stop ca...  \n",
       "...                                                 ...  \n",
       "2349  Here we have a 1949 1st generation vulpix. Enj...  \n",
       "2350  This is a purebred Piers Morgan. Loves to Netf...  \n",
       "2351  Here is a very happy pup. Big fan of well-main...  \n",
       "2352  This is a western brown Mitsubishi terrier. Up...  \n",
       "2353  Here we have a Japanese Irish Setter. Lost eye...  \n",
       "\n",
       "[2354 rows x 5 columns]"
      ]
     },
     "execution_count": 8,
     "metadata": {},
     "output_type": "execute_result"
    }
   ],
   "source": [
    "# Creating Dataframe of tweet_json.txt\n",
    "\n",
    "# step 1: Create a list to store the each tweets from the tweet_txt per column\n",
    "\n",
    "tweet_list = []\n",
    "\n",
    "json_file = open('tweet_json.txt', \"r\")\n",
    "\n",
    "for ln in json_file:\n",
    "    try:\n",
    "        twt = json.loads(ln)\n",
    "        tweet_list.append(twt)\n",
    "    except:\n",
    "        continue\n",
    "        \n",
    "json_file.close()\n",
    "\n",
    "# Step 2: Create dataframe\n",
    "\n",
    "tweet_df = pd.DataFrame()\n",
    "\n",
    "tweet_df['tweet_id'] = list(map(lambda tweet: tweet['id'], tweet_list))\n",
    "tweet_df['retweet_count'] = list(map(lambda tweet: tweet['retweet_count'], tweet_list))\n",
    "tweet_df['favorite_count'] = list(map(lambda tweet: tweet['favorite_count'], tweet_list))\n",
    "tweet_df['created_at'] = list(map(lambda tweet: tweet['created_at'], tweet_list))\n",
    "tweet_df['full_text'] = list(map(lambda tweet: tweet['full_text'], tweet_list))\n",
    "\n",
    "# check for the extracted file\n",
    "tweet_df"
   ]
  },
  {
   "cell_type": "markdown",
   "metadata": {
    "extensions": {
     "jupyter_dashboards": {
      "version": 1,
      "views": {
       "grid_default": {
        "col": 4,
        "height": 4,
        "hidden": false,
        "row": 28,
        "width": 4
       },
       "report_default": {
        "hidden": false
       }
      }
     }
    }
   },
   "source": [
    "## Assessing Data\n",
    "In this section, detect and document at least **eight (8) quality issues and two (2) tidiness issue**. You must use **both** visual assessment\n",
    "programmatic assessment to assess the data.\n",
    "\n",
    "**Note:** pay attention to the following key points when you access the data.\n",
    "\n",
    "* You only want original ratings (no retweets) that have images. Though there are 5000+ tweets in the dataset, not all are dog ratings and some are retweets.\n",
    "* Assessing and cleaning the entire dataset completely would require a lot of time, and is not necessary to practice and demonstrate your skills in data wrangling. Therefore, the requirements of this project are only to assess and clean at least 8 quality issues and at least 2 tidiness issues in this dataset.\n",
    "* The fact that the rating numerators are greater than the denominators does not need to be cleaned. This [unique rating system](http://knowyourmeme.com/memes/theyre-good-dogs-brent) is a big part of the popularity of WeRateDogs.\n",
    "* You do not need to gather the tweets beyond August 1st, 2017. You can, but note that you won't be able to gather the image predictions for these tweets since you don't have access to the algorithm used.\n",
    "\n"
   ]
  },
  {
   "cell_type": "markdown",
   "metadata": {},
   "source": [
    "**We have the three dataset:**\n",
    "1. twitter archive uploaded directly: `df`\n",
    "2. image prediction via request: `df_image`\n",
    "3. tweets via api: `tweet_txt`\n"
   ]
  },
  {
   "cell_type": "markdown",
   "metadata": {},
   "source": [
    "### Dataset 1: WeRateDogs Twitter archive"
   ]
  },
  {
   "cell_type": "code",
   "execution_count": 9,
   "metadata": {
    "scrolled": true
   },
   "outputs": [
    {
     "data": {
      "text/html": [
       "<div>\n",
       "<style scoped>\n",
       "    .dataframe tbody tr th:only-of-type {\n",
       "        vertical-align: middle;\n",
       "    }\n",
       "\n",
       "    .dataframe tbody tr th {\n",
       "        vertical-align: top;\n",
       "    }\n",
       "\n",
       "    .dataframe thead th {\n",
       "        text-align: right;\n",
       "    }\n",
       "</style>\n",
       "<table border=\"1\" class=\"dataframe\">\n",
       "  <thead>\n",
       "    <tr style=\"text-align: right;\">\n",
       "      <th></th>\n",
       "      <th>tweet_id</th>\n",
       "      <th>in_reply_to_status_id</th>\n",
       "      <th>in_reply_to_user_id</th>\n",
       "      <th>timestamp</th>\n",
       "      <th>source</th>\n",
       "      <th>text</th>\n",
       "      <th>retweeted_status_id</th>\n",
       "      <th>retweeted_status_user_id</th>\n",
       "      <th>retweeted_status_timestamp</th>\n",
       "      <th>expanded_urls</th>\n",
       "      <th>rating_numerator</th>\n",
       "      <th>rating_denominator</th>\n",
       "      <th>name</th>\n",
       "      <th>doggo</th>\n",
       "      <th>floofer</th>\n",
       "      <th>pupper</th>\n",
       "      <th>puppo</th>\n",
       "    </tr>\n",
       "  </thead>\n",
       "  <tbody>\n",
       "    <tr>\n",
       "      <th>0</th>\n",
       "      <td>892420643555336193</td>\n",
       "      <td>NaN</td>\n",
       "      <td>NaN</td>\n",
       "      <td>2017-08-01 16:23:56 +0000</td>\n",
       "      <td>&lt;a href=\"http://twitter.com/download/iphone\" r...</td>\n",
       "      <td>This is Phineas. He's a mystical boy. Only eve...</td>\n",
       "      <td>NaN</td>\n",
       "      <td>NaN</td>\n",
       "      <td>NaN</td>\n",
       "      <td>https://twitter.com/dog_rates/status/892420643...</td>\n",
       "      <td>13</td>\n",
       "      <td>10</td>\n",
       "      <td>Phineas</td>\n",
       "      <td>None</td>\n",
       "      <td>None</td>\n",
       "      <td>None</td>\n",
       "      <td>None</td>\n",
       "    </tr>\n",
       "    <tr>\n",
       "      <th>1</th>\n",
       "      <td>892177421306343426</td>\n",
       "      <td>NaN</td>\n",
       "      <td>NaN</td>\n",
       "      <td>2017-08-01 00:17:27 +0000</td>\n",
       "      <td>&lt;a href=\"http://twitter.com/download/iphone\" r...</td>\n",
       "      <td>This is Tilly. She's just checking pup on you....</td>\n",
       "      <td>NaN</td>\n",
       "      <td>NaN</td>\n",
       "      <td>NaN</td>\n",
       "      <td>https://twitter.com/dog_rates/status/892177421...</td>\n",
       "      <td>13</td>\n",
       "      <td>10</td>\n",
       "      <td>Tilly</td>\n",
       "      <td>None</td>\n",
       "      <td>None</td>\n",
       "      <td>None</td>\n",
       "      <td>None</td>\n",
       "    </tr>\n",
       "    <tr>\n",
       "      <th>2</th>\n",
       "      <td>891815181378084864</td>\n",
       "      <td>NaN</td>\n",
       "      <td>NaN</td>\n",
       "      <td>2017-07-31 00:18:03 +0000</td>\n",
       "      <td>&lt;a href=\"http://twitter.com/download/iphone\" r...</td>\n",
       "      <td>This is Archie. He is a rare Norwegian Pouncin...</td>\n",
       "      <td>NaN</td>\n",
       "      <td>NaN</td>\n",
       "      <td>NaN</td>\n",
       "      <td>https://twitter.com/dog_rates/status/891815181...</td>\n",
       "      <td>12</td>\n",
       "      <td>10</td>\n",
       "      <td>Archie</td>\n",
       "      <td>None</td>\n",
       "      <td>None</td>\n",
       "      <td>None</td>\n",
       "      <td>None</td>\n",
       "    </tr>\n",
       "    <tr>\n",
       "      <th>3</th>\n",
       "      <td>891689557279858688</td>\n",
       "      <td>NaN</td>\n",
       "      <td>NaN</td>\n",
       "      <td>2017-07-30 15:58:51 +0000</td>\n",
       "      <td>&lt;a href=\"http://twitter.com/download/iphone\" r...</td>\n",
       "      <td>This is Darla. She commenced a snooze mid meal...</td>\n",
       "      <td>NaN</td>\n",
       "      <td>NaN</td>\n",
       "      <td>NaN</td>\n",
       "      <td>https://twitter.com/dog_rates/status/891689557...</td>\n",
       "      <td>13</td>\n",
       "      <td>10</td>\n",
       "      <td>Darla</td>\n",
       "      <td>None</td>\n",
       "      <td>None</td>\n",
       "      <td>None</td>\n",
       "      <td>None</td>\n",
       "    </tr>\n",
       "    <tr>\n",
       "      <th>4</th>\n",
       "      <td>891327558926688256</td>\n",
       "      <td>NaN</td>\n",
       "      <td>NaN</td>\n",
       "      <td>2017-07-29 16:00:24 +0000</td>\n",
       "      <td>&lt;a href=\"http://twitter.com/download/iphone\" r...</td>\n",
       "      <td>This is Franklin. He would like you to stop ca...</td>\n",
       "      <td>NaN</td>\n",
       "      <td>NaN</td>\n",
       "      <td>NaN</td>\n",
       "      <td>https://twitter.com/dog_rates/status/891327558...</td>\n",
       "      <td>12</td>\n",
       "      <td>10</td>\n",
       "      <td>Franklin</td>\n",
       "      <td>None</td>\n",
       "      <td>None</td>\n",
       "      <td>None</td>\n",
       "      <td>None</td>\n",
       "    </tr>\n",
       "    <tr>\n",
       "      <th>...</th>\n",
       "      <td>...</td>\n",
       "      <td>...</td>\n",
       "      <td>...</td>\n",
       "      <td>...</td>\n",
       "      <td>...</td>\n",
       "      <td>...</td>\n",
       "      <td>...</td>\n",
       "      <td>...</td>\n",
       "      <td>...</td>\n",
       "      <td>...</td>\n",
       "      <td>...</td>\n",
       "      <td>...</td>\n",
       "      <td>...</td>\n",
       "      <td>...</td>\n",
       "      <td>...</td>\n",
       "      <td>...</td>\n",
       "      <td>...</td>\n",
       "    </tr>\n",
       "    <tr>\n",
       "      <th>2351</th>\n",
       "      <td>666049248165822465</td>\n",
       "      <td>NaN</td>\n",
       "      <td>NaN</td>\n",
       "      <td>2015-11-16 00:24:50 +0000</td>\n",
       "      <td>&lt;a href=\"http://twitter.com/download/iphone\" r...</td>\n",
       "      <td>Here we have a 1949 1st generation vulpix. Enj...</td>\n",
       "      <td>NaN</td>\n",
       "      <td>NaN</td>\n",
       "      <td>NaN</td>\n",
       "      <td>https://twitter.com/dog_rates/status/666049248...</td>\n",
       "      <td>5</td>\n",
       "      <td>10</td>\n",
       "      <td>None</td>\n",
       "      <td>None</td>\n",
       "      <td>None</td>\n",
       "      <td>None</td>\n",
       "      <td>None</td>\n",
       "    </tr>\n",
       "    <tr>\n",
       "      <th>2352</th>\n",
       "      <td>666044226329800704</td>\n",
       "      <td>NaN</td>\n",
       "      <td>NaN</td>\n",
       "      <td>2015-11-16 00:04:52 +0000</td>\n",
       "      <td>&lt;a href=\"http://twitter.com/download/iphone\" r...</td>\n",
       "      <td>This is a purebred Piers Morgan. Loves to Netf...</td>\n",
       "      <td>NaN</td>\n",
       "      <td>NaN</td>\n",
       "      <td>NaN</td>\n",
       "      <td>https://twitter.com/dog_rates/status/666044226...</td>\n",
       "      <td>6</td>\n",
       "      <td>10</td>\n",
       "      <td>a</td>\n",
       "      <td>None</td>\n",
       "      <td>None</td>\n",
       "      <td>None</td>\n",
       "      <td>None</td>\n",
       "    </tr>\n",
       "    <tr>\n",
       "      <th>2353</th>\n",
       "      <td>666033412701032449</td>\n",
       "      <td>NaN</td>\n",
       "      <td>NaN</td>\n",
       "      <td>2015-11-15 23:21:54 +0000</td>\n",
       "      <td>&lt;a href=\"http://twitter.com/download/iphone\" r...</td>\n",
       "      <td>Here is a very happy pup. Big fan of well-main...</td>\n",
       "      <td>NaN</td>\n",
       "      <td>NaN</td>\n",
       "      <td>NaN</td>\n",
       "      <td>https://twitter.com/dog_rates/status/666033412...</td>\n",
       "      <td>9</td>\n",
       "      <td>10</td>\n",
       "      <td>a</td>\n",
       "      <td>None</td>\n",
       "      <td>None</td>\n",
       "      <td>None</td>\n",
       "      <td>None</td>\n",
       "    </tr>\n",
       "    <tr>\n",
       "      <th>2354</th>\n",
       "      <td>666029285002620928</td>\n",
       "      <td>NaN</td>\n",
       "      <td>NaN</td>\n",
       "      <td>2015-11-15 23:05:30 +0000</td>\n",
       "      <td>&lt;a href=\"http://twitter.com/download/iphone\" r...</td>\n",
       "      <td>This is a western brown Mitsubishi terrier. Up...</td>\n",
       "      <td>NaN</td>\n",
       "      <td>NaN</td>\n",
       "      <td>NaN</td>\n",
       "      <td>https://twitter.com/dog_rates/status/666029285...</td>\n",
       "      <td>7</td>\n",
       "      <td>10</td>\n",
       "      <td>a</td>\n",
       "      <td>None</td>\n",
       "      <td>None</td>\n",
       "      <td>None</td>\n",
       "      <td>None</td>\n",
       "    </tr>\n",
       "    <tr>\n",
       "      <th>2355</th>\n",
       "      <td>666020888022790149</td>\n",
       "      <td>NaN</td>\n",
       "      <td>NaN</td>\n",
       "      <td>2015-11-15 22:32:08 +0000</td>\n",
       "      <td>&lt;a href=\"http://twitter.com/download/iphone\" r...</td>\n",
       "      <td>Here we have a Japanese Irish Setter. Lost eye...</td>\n",
       "      <td>NaN</td>\n",
       "      <td>NaN</td>\n",
       "      <td>NaN</td>\n",
       "      <td>https://twitter.com/dog_rates/status/666020888...</td>\n",
       "      <td>8</td>\n",
       "      <td>10</td>\n",
       "      <td>None</td>\n",
       "      <td>None</td>\n",
       "      <td>None</td>\n",
       "      <td>None</td>\n",
       "      <td>None</td>\n",
       "    </tr>\n",
       "  </tbody>\n",
       "</table>\n",
       "<p>2356 rows × 17 columns</p>\n",
       "</div>"
      ],
      "text/plain": [
       "                tweet_id  in_reply_to_status_id  in_reply_to_user_id  \\\n",
       "0     892420643555336193                    NaN                  NaN   \n",
       "1     892177421306343426                    NaN                  NaN   \n",
       "2     891815181378084864                    NaN                  NaN   \n",
       "3     891689557279858688                    NaN                  NaN   \n",
       "4     891327558926688256                    NaN                  NaN   \n",
       "...                  ...                    ...                  ...   \n",
       "2351  666049248165822465                    NaN                  NaN   \n",
       "2352  666044226329800704                    NaN                  NaN   \n",
       "2353  666033412701032449                    NaN                  NaN   \n",
       "2354  666029285002620928                    NaN                  NaN   \n",
       "2355  666020888022790149                    NaN                  NaN   \n",
       "\n",
       "                      timestamp  \\\n",
       "0     2017-08-01 16:23:56 +0000   \n",
       "1     2017-08-01 00:17:27 +0000   \n",
       "2     2017-07-31 00:18:03 +0000   \n",
       "3     2017-07-30 15:58:51 +0000   \n",
       "4     2017-07-29 16:00:24 +0000   \n",
       "...                         ...   \n",
       "2351  2015-11-16 00:24:50 +0000   \n",
       "2352  2015-11-16 00:04:52 +0000   \n",
       "2353  2015-11-15 23:21:54 +0000   \n",
       "2354  2015-11-15 23:05:30 +0000   \n",
       "2355  2015-11-15 22:32:08 +0000   \n",
       "\n",
       "                                                 source  \\\n",
       "0     <a href=\"http://twitter.com/download/iphone\" r...   \n",
       "1     <a href=\"http://twitter.com/download/iphone\" r...   \n",
       "2     <a href=\"http://twitter.com/download/iphone\" r...   \n",
       "3     <a href=\"http://twitter.com/download/iphone\" r...   \n",
       "4     <a href=\"http://twitter.com/download/iphone\" r...   \n",
       "...                                                 ...   \n",
       "2351  <a href=\"http://twitter.com/download/iphone\" r...   \n",
       "2352  <a href=\"http://twitter.com/download/iphone\" r...   \n",
       "2353  <a href=\"http://twitter.com/download/iphone\" r...   \n",
       "2354  <a href=\"http://twitter.com/download/iphone\" r...   \n",
       "2355  <a href=\"http://twitter.com/download/iphone\" r...   \n",
       "\n",
       "                                                   text  retweeted_status_id  \\\n",
       "0     This is Phineas. He's a mystical boy. Only eve...                  NaN   \n",
       "1     This is Tilly. She's just checking pup on you....                  NaN   \n",
       "2     This is Archie. He is a rare Norwegian Pouncin...                  NaN   \n",
       "3     This is Darla. She commenced a snooze mid meal...                  NaN   \n",
       "4     This is Franklin. He would like you to stop ca...                  NaN   \n",
       "...                                                 ...                  ...   \n",
       "2351  Here we have a 1949 1st generation vulpix. Enj...                  NaN   \n",
       "2352  This is a purebred Piers Morgan. Loves to Netf...                  NaN   \n",
       "2353  Here is a very happy pup. Big fan of well-main...                  NaN   \n",
       "2354  This is a western brown Mitsubishi terrier. Up...                  NaN   \n",
       "2355  Here we have a Japanese Irish Setter. Lost eye...                  NaN   \n",
       "\n",
       "      retweeted_status_user_id retweeted_status_timestamp  \\\n",
       "0                          NaN                        NaN   \n",
       "1                          NaN                        NaN   \n",
       "2                          NaN                        NaN   \n",
       "3                          NaN                        NaN   \n",
       "4                          NaN                        NaN   \n",
       "...                        ...                        ...   \n",
       "2351                       NaN                        NaN   \n",
       "2352                       NaN                        NaN   \n",
       "2353                       NaN                        NaN   \n",
       "2354                       NaN                        NaN   \n",
       "2355                       NaN                        NaN   \n",
       "\n",
       "                                          expanded_urls  rating_numerator  \\\n",
       "0     https://twitter.com/dog_rates/status/892420643...                13   \n",
       "1     https://twitter.com/dog_rates/status/892177421...                13   \n",
       "2     https://twitter.com/dog_rates/status/891815181...                12   \n",
       "3     https://twitter.com/dog_rates/status/891689557...                13   \n",
       "4     https://twitter.com/dog_rates/status/891327558...                12   \n",
       "...                                                 ...               ...   \n",
       "2351  https://twitter.com/dog_rates/status/666049248...                 5   \n",
       "2352  https://twitter.com/dog_rates/status/666044226...                 6   \n",
       "2353  https://twitter.com/dog_rates/status/666033412...                 9   \n",
       "2354  https://twitter.com/dog_rates/status/666029285...                 7   \n",
       "2355  https://twitter.com/dog_rates/status/666020888...                 8   \n",
       "\n",
       "      rating_denominator      name doggo floofer pupper puppo  \n",
       "0                     10   Phineas  None    None   None  None  \n",
       "1                     10     Tilly  None    None   None  None  \n",
       "2                     10    Archie  None    None   None  None  \n",
       "3                     10     Darla  None    None   None  None  \n",
       "4                     10  Franklin  None    None   None  None  \n",
       "...                  ...       ...   ...     ...    ...   ...  \n",
       "2351                  10      None  None    None   None  None  \n",
       "2352                  10         a  None    None   None  None  \n",
       "2353                  10         a  None    None   None  None  \n",
       "2354                  10         a  None    None   None  None  \n",
       "2355                  10      None  None    None   None  None  \n",
       "\n",
       "[2356 rows x 17 columns]"
      ]
     },
     "execution_count": 9,
     "metadata": {},
     "output_type": "execute_result"
    }
   ],
   "source": [
    "# df dataset\n",
    "df"
   ]
  },
  {
   "cell_type": "markdown",
   "metadata": {},
   "source": [
    "> From observation, there is a lot of null values in columns"
   ]
  },
  {
   "cell_type": "code",
   "execution_count": 10,
   "metadata": {
    "scrolled": true
   },
   "outputs": [
    {
     "name": "stdout",
     "output_type": "stream",
     "text": [
      "<class 'pandas.core.frame.DataFrame'>\n",
      "RangeIndex: 2356 entries, 0 to 2355\n",
      "Data columns (total 17 columns):\n",
      " #   Column                      Non-Null Count  Dtype  \n",
      "---  ------                      --------------  -----  \n",
      " 0   tweet_id                    2356 non-null   int64  \n",
      " 1   in_reply_to_status_id       78 non-null     float64\n",
      " 2   in_reply_to_user_id         78 non-null     float64\n",
      " 3   timestamp                   2356 non-null   object \n",
      " 4   source                      2356 non-null   object \n",
      " 5   text                        2356 non-null   object \n",
      " 6   retweeted_status_id         181 non-null    float64\n",
      " 7   retweeted_status_user_id    181 non-null    float64\n",
      " 8   retweeted_status_timestamp  181 non-null    object \n",
      " 9   expanded_urls               2297 non-null   object \n",
      " 10  rating_numerator            2356 non-null   int64  \n",
      " 11  rating_denominator          2356 non-null   int64  \n",
      " 12  name                        2356 non-null   object \n",
      " 13  doggo                       2356 non-null   object \n",
      " 14  floofer                     2356 non-null   object \n",
      " 15  pupper                      2356 non-null   object \n",
      " 16  puppo                       2356 non-null   object \n",
      "dtypes: float64(4), int64(3), object(10)\n",
      "memory usage: 313.0+ KB\n"
     ]
    }
   ],
   "source": [
    "# Assessing data info\n",
    "df.info()"
   ]
  },
  {
   "cell_type": "markdown",
   "metadata": {},
   "source": [
    "> `tweet_id` should be string instead of int64\n",
    "> `timestamp` should be in datetime dtype"
   ]
  },
  {
   "cell_type": "code",
   "execution_count": 11,
   "metadata": {},
   "outputs": [
    {
     "data": {
      "text/html": [
       "<div>\n",
       "<style scoped>\n",
       "    .dataframe tbody tr th:only-of-type {\n",
       "        vertical-align: middle;\n",
       "    }\n",
       "\n",
       "    .dataframe tbody tr th {\n",
       "        vertical-align: top;\n",
       "    }\n",
       "\n",
       "    .dataframe thead th {\n",
       "        text-align: right;\n",
       "    }\n",
       "</style>\n",
       "<table border=\"1\" class=\"dataframe\">\n",
       "  <thead>\n",
       "    <tr style=\"text-align: right;\">\n",
       "      <th></th>\n",
       "      <th>tweet_id</th>\n",
       "      <th>in_reply_to_status_id</th>\n",
       "      <th>in_reply_to_user_id</th>\n",
       "      <th>retweeted_status_id</th>\n",
       "      <th>retweeted_status_user_id</th>\n",
       "      <th>rating_numerator</th>\n",
       "      <th>rating_denominator</th>\n",
       "    </tr>\n",
       "  </thead>\n",
       "  <tbody>\n",
       "    <tr>\n",
       "      <th>count</th>\n",
       "      <td>2.356000e+03</td>\n",
       "      <td>7.800000e+01</td>\n",
       "      <td>7.800000e+01</td>\n",
       "      <td>1.810000e+02</td>\n",
       "      <td>1.810000e+02</td>\n",
       "      <td>2356.000000</td>\n",
       "      <td>2356.000000</td>\n",
       "    </tr>\n",
       "    <tr>\n",
       "      <th>mean</th>\n",
       "      <td>7.427716e+17</td>\n",
       "      <td>7.455079e+17</td>\n",
       "      <td>2.014171e+16</td>\n",
       "      <td>7.720400e+17</td>\n",
       "      <td>1.241698e+16</td>\n",
       "      <td>13.126486</td>\n",
       "      <td>10.455433</td>\n",
       "    </tr>\n",
       "    <tr>\n",
       "      <th>std</th>\n",
       "      <td>6.856705e+16</td>\n",
       "      <td>7.582492e+16</td>\n",
       "      <td>1.252797e+17</td>\n",
       "      <td>6.236928e+16</td>\n",
       "      <td>9.599254e+16</td>\n",
       "      <td>45.876648</td>\n",
       "      <td>6.745237</td>\n",
       "    </tr>\n",
       "    <tr>\n",
       "      <th>min</th>\n",
       "      <td>6.660209e+17</td>\n",
       "      <td>6.658147e+17</td>\n",
       "      <td>1.185634e+07</td>\n",
       "      <td>6.661041e+17</td>\n",
       "      <td>7.832140e+05</td>\n",
       "      <td>0.000000</td>\n",
       "      <td>0.000000</td>\n",
       "    </tr>\n",
       "    <tr>\n",
       "      <th>25%</th>\n",
       "      <td>6.783989e+17</td>\n",
       "      <td>6.757419e+17</td>\n",
       "      <td>3.086374e+08</td>\n",
       "      <td>7.186315e+17</td>\n",
       "      <td>4.196984e+09</td>\n",
       "      <td>10.000000</td>\n",
       "      <td>10.000000</td>\n",
       "    </tr>\n",
       "    <tr>\n",
       "      <th>50%</th>\n",
       "      <td>7.196279e+17</td>\n",
       "      <td>7.038708e+17</td>\n",
       "      <td>4.196984e+09</td>\n",
       "      <td>7.804657e+17</td>\n",
       "      <td>4.196984e+09</td>\n",
       "      <td>11.000000</td>\n",
       "      <td>10.000000</td>\n",
       "    </tr>\n",
       "    <tr>\n",
       "      <th>75%</th>\n",
       "      <td>7.993373e+17</td>\n",
       "      <td>8.257804e+17</td>\n",
       "      <td>4.196984e+09</td>\n",
       "      <td>8.203146e+17</td>\n",
       "      <td>4.196984e+09</td>\n",
       "      <td>12.000000</td>\n",
       "      <td>10.000000</td>\n",
       "    </tr>\n",
       "    <tr>\n",
       "      <th>max</th>\n",
       "      <td>8.924206e+17</td>\n",
       "      <td>8.862664e+17</td>\n",
       "      <td>8.405479e+17</td>\n",
       "      <td>8.874740e+17</td>\n",
       "      <td>7.874618e+17</td>\n",
       "      <td>1776.000000</td>\n",
       "      <td>170.000000</td>\n",
       "    </tr>\n",
       "  </tbody>\n",
       "</table>\n",
       "</div>"
      ],
      "text/plain": [
       "           tweet_id  in_reply_to_status_id  in_reply_to_user_id  \\\n",
       "count  2.356000e+03           7.800000e+01         7.800000e+01   \n",
       "mean   7.427716e+17           7.455079e+17         2.014171e+16   \n",
       "std    6.856705e+16           7.582492e+16         1.252797e+17   \n",
       "min    6.660209e+17           6.658147e+17         1.185634e+07   \n",
       "25%    6.783989e+17           6.757419e+17         3.086374e+08   \n",
       "50%    7.196279e+17           7.038708e+17         4.196984e+09   \n",
       "75%    7.993373e+17           8.257804e+17         4.196984e+09   \n",
       "max    8.924206e+17           8.862664e+17         8.405479e+17   \n",
       "\n",
       "       retweeted_status_id  retweeted_status_user_id  rating_numerator  \\\n",
       "count         1.810000e+02              1.810000e+02       2356.000000   \n",
       "mean          7.720400e+17              1.241698e+16         13.126486   \n",
       "std           6.236928e+16              9.599254e+16         45.876648   \n",
       "min           6.661041e+17              7.832140e+05          0.000000   \n",
       "25%           7.186315e+17              4.196984e+09         10.000000   \n",
       "50%           7.804657e+17              4.196984e+09         11.000000   \n",
       "75%           8.203146e+17              4.196984e+09         12.000000   \n",
       "max           8.874740e+17              7.874618e+17       1776.000000   \n",
       "\n",
       "       rating_denominator  \n",
       "count         2356.000000  \n",
       "mean            10.455433  \n",
       "std              6.745237  \n",
       "min              0.000000  \n",
       "25%             10.000000  \n",
       "50%             10.000000  \n",
       "75%             10.000000  \n",
       "max            170.000000  "
      ]
     },
     "execution_count": 11,
     "metadata": {},
     "output_type": "execute_result"
    }
   ],
   "source": [
    "df.describe()"
   ]
  },
  {
   "cell_type": "code",
   "execution_count": 12,
   "metadata": {},
   "outputs": [
    {
     "data": {
      "text/plain": [
       "['in_reply_to_status_id',\n",
       " 'in_reply_to_user_id',\n",
       " 'source',\n",
       " 'retweeted_status_id',\n",
       " 'retweeted_status_user_id',\n",
       " 'retweeted_status_timestamp',\n",
       " 'expanded_urls',\n",
       " 'rating_numerator',\n",
       " 'rating_denominator',\n",
       " 'name',\n",
       " 'doggo',\n",
       " 'floofer',\n",
       " 'pupper',\n",
       " 'puppo']"
      ]
     },
     "execution_count": 12,
     "metadata": {},
     "output_type": "execute_result"
    }
   ],
   "source": [
    "# function to find duplicates in each column\n",
    "def dupli(x):\n",
    "    dup_list = []\n",
    "    for col in x:\n",
    "        if df[col].duplicated().sum() > 0:\n",
    "            dup_list.append(col)\n",
    "    return dup_list\n",
    "\n",
    "dupli(df)"
   ]
  },
  {
   "cell_type": "code",
   "execution_count": 13,
   "metadata": {},
   "outputs": [
    {
     "data": {
      "text/plain": [
       "tweet_id                         0\n",
       "in_reply_to_status_id         2278\n",
       "in_reply_to_user_id           2278\n",
       "timestamp                        0\n",
       "source                           0\n",
       "text                             0\n",
       "retweeted_status_id           2175\n",
       "retweeted_status_user_id      2175\n",
       "retweeted_status_timestamp    2175\n",
       "expanded_urls                   59\n",
       "rating_numerator                 0\n",
       "rating_denominator               0\n",
       "name                             0\n",
       "doggo                            0\n",
       "floofer                          0\n",
       "pupper                           0\n",
       "puppo                            0\n",
       "dtype: int64"
      ]
     },
     "execution_count": 13,
     "metadata": {},
     "output_type": "execute_result"
    }
   ],
   "source": [
    "# check if there are any missing values\n",
    "\n",
    "df.isnull().sum()"
   ]
  },
  {
   "cell_type": "markdown",
   "metadata": {},
   "source": [
    "# Accessing the names, doggo, floofer, pupper, puppo, and ratings columns"
   ]
  },
  {
   "cell_type": "code",
   "execution_count": 14,
   "metadata": {
    "scrolled": true
   },
   "outputs": [
    {
     "data": {
      "text/plain": [
       "None          745\n",
       "a              55\n",
       "Charlie        12\n",
       "Cooper         11\n",
       "Lucy           11\n",
       "             ... \n",
       "Dex             1\n",
       "Ace             1\n",
       "Tayzie          1\n",
       "Grizzie         1\n",
       "Christoper      1\n",
       "Name: name, Length: 957, dtype: int64"
      ]
     },
     "execution_count": 14,
     "metadata": {},
     "output_type": "execute_result"
    }
   ],
   "source": [
    "# checking the different names present in the name column\n",
    "df.name.value_counts()"
   ]
  },
  {
   "cell_type": "code",
   "execution_count": 15,
   "metadata": {
    "scrolled": true
   },
   "outputs": [
    {
     "data": {
      "text/plain": [
       "True     2241\n",
       "False     115\n",
       "Name: name, dtype: int64"
      ]
     },
     "execution_count": 15,
     "metadata": {},
     "output_type": "execute_result"
    }
   ],
   "source": [
    "# dog names that are name titles\n",
    "df.name.str.istitle().value_counts()"
   ]
  },
  {
   "cell_type": "code",
   "execution_count": 16,
   "metadata": {
    "scrolled": true
   },
   "outputs": [
    {
     "data": {
      "text/plain": [
       "array(['such', 'a', 'quite', 'not', 'one', 'incredibly', 'BeBe', 'mad',\n",
       "       'an', 'very', 'just', 'DonDon', 'my', 'his', 'actually', 'getting',\n",
       "       'this', 'unacceptable', 'all', 'old', 'infuriating', 'CeCe', 'the',\n",
       "       'by', 'officially', 'life', 'light', 'space', 'JD', 'DayZ'],\n",
       "      dtype=object)"
      ]
     },
     "execution_count": 16,
     "metadata": {},
     "output_type": "execute_result"
    }
   ],
   "source": [
    "# dog names not name titles\n",
    "df.name.loc[df.name.str.istitle() == False].unique()"
   ]
  },
  {
   "cell_type": "markdown",
   "metadata": {},
   "source": [
    "> Some dogs names are invalid such as 'such', 'a', 'actually'\n",
    "\n",
    "> some dog names are not titled such as 'BeBe', 'DonDon', 'CeCe', 'JD', 'DayZ'"
   ]
  },
  {
   "cell_type": "code",
   "execution_count": 17,
   "metadata": {},
   "outputs": [
    {
     "data": {
      "text/plain": [
       "None     2259\n",
       "doggo      97\n",
       "Name: doggo, dtype: int64"
      ]
     },
     "execution_count": 17,
     "metadata": {},
     "output_type": "execute_result"
    }
   ],
   "source": [
    "# checking teh names in the doggo column\n",
    "df.doggo.value_counts()"
   ]
  },
  {
   "cell_type": "code",
   "execution_count": 18,
   "metadata": {},
   "outputs": [
    {
     "data": {
      "text/plain": [
       "None       2346\n",
       "floofer      10\n",
       "Name: floofer, dtype: int64"
      ]
     },
     "execution_count": 18,
     "metadata": {},
     "output_type": "execute_result"
    }
   ],
   "source": [
    "# checking the names in the floofer column\n",
    "df.floofer.value_counts()"
   ]
  },
  {
   "cell_type": "code",
   "execution_count": 19,
   "metadata": {},
   "outputs": [
    {
     "data": {
      "text/plain": [
       "None      2099\n",
       "pupper     257\n",
       "Name: pupper, dtype: int64"
      ]
     },
     "execution_count": 19,
     "metadata": {},
     "output_type": "execute_result"
    }
   ],
   "source": [
    "# checking the names in the pupper column\n",
    "df.pupper.value_counts()"
   ]
  },
  {
   "cell_type": "code",
   "execution_count": 20,
   "metadata": {},
   "outputs": [
    {
     "data": {
      "text/plain": [
       "None     2326\n",
       "puppo      30\n",
       "Name: puppo, dtype: int64"
      ]
     },
     "execution_count": 20,
     "metadata": {},
     "output_type": "execute_result"
    }
   ],
   "source": [
    "#checkingteh names in the puppo column\n",
    "df.puppo.value_counts()"
   ]
  },
  {
   "cell_type": "code",
   "execution_count": 21,
   "metadata": {
    "scrolled": true
   },
   "outputs": [
    {
     "data": {
      "text/plain": [
       "(1, 17)"
      ]
     },
     "execution_count": 21,
     "metadata": {},
     "output_type": "execute_result"
    }
   ],
   "source": [
    "# how many dogs are both doggo and floofer\n",
    "\n",
    "df[(df.doggo == \"doggo\") & (df.floofer == \"floofer\")].shape"
   ]
  },
  {
   "cell_type": "code",
   "execution_count": 22,
   "metadata": {},
   "outputs": [
    {
     "data": {
      "text/plain": [
       "(12, 17)"
      ]
     },
     "execution_count": 22,
     "metadata": {},
     "output_type": "execute_result"
    }
   ],
   "source": [
    "# how many dogs are both doggo and pupper\n",
    "\n",
    "df[(df.doggo == \"doggo\") & (df.pupper == \"pupper\")].shape"
   ]
  },
  {
   "cell_type": "code",
   "execution_count": 23,
   "metadata": {},
   "outputs": [
    {
     "data": {
      "text/plain": [
       "(1, 17)"
      ]
     },
     "execution_count": 23,
     "metadata": {},
     "output_type": "execute_result"
    }
   ],
   "source": [
    "# how many dogs are both doggo and puppo\n",
    "\n",
    "df[(df.doggo == \"doggo\") & (df.puppo == \"puppo\")].shape"
   ]
  },
  {
   "cell_type": "code",
   "execution_count": 24,
   "metadata": {},
   "outputs": [
    {
     "data": {
      "text/plain": [
       "(0, 17)"
      ]
     },
     "execution_count": 24,
     "metadata": {},
     "output_type": "execute_result"
    }
   ],
   "source": [
    "# how many dogs are both pupper and puppo\n",
    "\n",
    "df[(df.pupper == \"pupper\") & (df.puppo == \"puppo\")].shape"
   ]
  },
  {
   "cell_type": "markdown",
   "metadata": {},
   "source": [
    "### Dataset 2: Image Predictions"
   ]
  },
  {
   "cell_type": "code",
   "execution_count": 25,
   "metadata": {
    "scrolled": true
   },
   "outputs": [
    {
     "data": {
      "text/html": [
       "<div>\n",
       "<style scoped>\n",
       "    .dataframe tbody tr th:only-of-type {\n",
       "        vertical-align: middle;\n",
       "    }\n",
       "\n",
       "    .dataframe tbody tr th {\n",
       "        vertical-align: top;\n",
       "    }\n",
       "\n",
       "    .dataframe thead th {\n",
       "        text-align: right;\n",
       "    }\n",
       "</style>\n",
       "<table border=\"1\" class=\"dataframe\">\n",
       "  <thead>\n",
       "    <tr style=\"text-align: right;\">\n",
       "      <th></th>\n",
       "      <th>tweet_id</th>\n",
       "      <th>jpg_url</th>\n",
       "      <th>img_num</th>\n",
       "      <th>p1</th>\n",
       "      <th>p1_conf</th>\n",
       "      <th>p1_dog</th>\n",
       "      <th>p2</th>\n",
       "      <th>p2_conf</th>\n",
       "      <th>p2_dog</th>\n",
       "      <th>p3</th>\n",
       "      <th>p3_conf</th>\n",
       "      <th>p3_dog</th>\n",
       "    </tr>\n",
       "  </thead>\n",
       "  <tbody>\n",
       "    <tr>\n",
       "      <th>0</th>\n",
       "      <td>666020888022790149</td>\n",
       "      <td>https://pbs.twimg.com/media/CT4udn0WwAA0aMy.jpg</td>\n",
       "      <td>1</td>\n",
       "      <td>Welsh_springer_spaniel</td>\n",
       "      <td>0.465074</td>\n",
       "      <td>True</td>\n",
       "      <td>collie</td>\n",
       "      <td>0.156665</td>\n",
       "      <td>True</td>\n",
       "      <td>Shetland_sheepdog</td>\n",
       "      <td>0.061428</td>\n",
       "      <td>True</td>\n",
       "    </tr>\n",
       "    <tr>\n",
       "      <th>1</th>\n",
       "      <td>666029285002620928</td>\n",
       "      <td>https://pbs.twimg.com/media/CT42GRgUYAA5iDo.jpg</td>\n",
       "      <td>1</td>\n",
       "      <td>redbone</td>\n",
       "      <td>0.506826</td>\n",
       "      <td>True</td>\n",
       "      <td>miniature_pinscher</td>\n",
       "      <td>0.074192</td>\n",
       "      <td>True</td>\n",
       "      <td>Rhodesian_ridgeback</td>\n",
       "      <td>0.072010</td>\n",
       "      <td>True</td>\n",
       "    </tr>\n",
       "    <tr>\n",
       "      <th>2</th>\n",
       "      <td>666033412701032449</td>\n",
       "      <td>https://pbs.twimg.com/media/CT4521TWwAEvMyu.jpg</td>\n",
       "      <td>1</td>\n",
       "      <td>German_shepherd</td>\n",
       "      <td>0.596461</td>\n",
       "      <td>True</td>\n",
       "      <td>malinois</td>\n",
       "      <td>0.138584</td>\n",
       "      <td>True</td>\n",
       "      <td>bloodhound</td>\n",
       "      <td>0.116197</td>\n",
       "      <td>True</td>\n",
       "    </tr>\n",
       "    <tr>\n",
       "      <th>3</th>\n",
       "      <td>666044226329800704</td>\n",
       "      <td>https://pbs.twimg.com/media/CT5Dr8HUEAA-lEu.jpg</td>\n",
       "      <td>1</td>\n",
       "      <td>Rhodesian_ridgeback</td>\n",
       "      <td>0.408143</td>\n",
       "      <td>True</td>\n",
       "      <td>redbone</td>\n",
       "      <td>0.360687</td>\n",
       "      <td>True</td>\n",
       "      <td>miniature_pinscher</td>\n",
       "      <td>0.222752</td>\n",
       "      <td>True</td>\n",
       "    </tr>\n",
       "    <tr>\n",
       "      <th>4</th>\n",
       "      <td>666049248165822465</td>\n",
       "      <td>https://pbs.twimg.com/media/CT5IQmsXIAAKY4A.jpg</td>\n",
       "      <td>1</td>\n",
       "      <td>miniature_pinscher</td>\n",
       "      <td>0.560311</td>\n",
       "      <td>True</td>\n",
       "      <td>Rottweiler</td>\n",
       "      <td>0.243682</td>\n",
       "      <td>True</td>\n",
       "      <td>Doberman</td>\n",
       "      <td>0.154629</td>\n",
       "      <td>True</td>\n",
       "    </tr>\n",
       "  </tbody>\n",
       "</table>\n",
       "</div>"
      ],
      "text/plain": [
       "             tweet_id                                          jpg_url  \\\n",
       "0  666020888022790149  https://pbs.twimg.com/media/CT4udn0WwAA0aMy.jpg   \n",
       "1  666029285002620928  https://pbs.twimg.com/media/CT42GRgUYAA5iDo.jpg   \n",
       "2  666033412701032449  https://pbs.twimg.com/media/CT4521TWwAEvMyu.jpg   \n",
       "3  666044226329800704  https://pbs.twimg.com/media/CT5Dr8HUEAA-lEu.jpg   \n",
       "4  666049248165822465  https://pbs.twimg.com/media/CT5IQmsXIAAKY4A.jpg   \n",
       "\n",
       "   img_num                      p1   p1_conf  p1_dog                  p2  \\\n",
       "0        1  Welsh_springer_spaniel  0.465074    True              collie   \n",
       "1        1                 redbone  0.506826    True  miniature_pinscher   \n",
       "2        1         German_shepherd  0.596461    True            malinois   \n",
       "3        1     Rhodesian_ridgeback  0.408143    True             redbone   \n",
       "4        1      miniature_pinscher  0.560311    True          Rottweiler   \n",
       "\n",
       "    p2_conf  p2_dog                   p3   p3_conf  p3_dog  \n",
       "0  0.156665    True    Shetland_sheepdog  0.061428    True  \n",
       "1  0.074192    True  Rhodesian_ridgeback  0.072010    True  \n",
       "2  0.138584    True           bloodhound  0.116197    True  \n",
       "3  0.360687    True   miniature_pinscher  0.222752    True  \n",
       "4  0.243682    True             Doberman  0.154629    True  "
      ]
     },
     "execution_count": 25,
     "metadata": {},
     "output_type": "execute_result"
    }
   ],
   "source": [
    "df_image.head(5)"
   ]
  },
  {
   "cell_type": "markdown",
   "metadata": {},
   "source": [
    "> Some column names are not very explicit on their content like `p1`, `p1_conf`, `p1_dog`, also, we may have to join `p1`, `p2`, `p3` into one column."
   ]
  },
  {
   "cell_type": "code",
   "execution_count": 26,
   "metadata": {
    "scrolled": true
   },
   "outputs": [
    {
     "name": "stdout",
     "output_type": "stream",
     "text": [
      "<class 'pandas.core.frame.DataFrame'>\n",
      "RangeIndex: 2075 entries, 0 to 2074\n",
      "Data columns (total 12 columns):\n",
      " #   Column    Non-Null Count  Dtype  \n",
      "---  ------    --------------  -----  \n",
      " 0   tweet_id  2075 non-null   int64  \n",
      " 1   jpg_url   2075 non-null   object \n",
      " 2   img_num   2075 non-null   int64  \n",
      " 3   p1        2075 non-null   object \n",
      " 4   p1_conf   2075 non-null   float64\n",
      " 5   p1_dog    2075 non-null   bool   \n",
      " 6   p2        2075 non-null   object \n",
      " 7   p2_conf   2075 non-null   float64\n",
      " 8   p2_dog    2075 non-null   bool   \n",
      " 9   p3        2075 non-null   object \n",
      " 10  p3_conf   2075 non-null   float64\n",
      " 11  p3_dog    2075 non-null   bool   \n",
      "dtypes: bool(3), float64(3), int64(2), object(4)\n",
      "memory usage: 152.1+ KB\n"
     ]
    }
   ],
   "source": [
    "df_image.info()"
   ]
  },
  {
   "cell_type": "markdown",
   "metadata": {},
   "source": [
    "> `tweet_id` should be a string not an int, there are no missing values in the dataset"
   ]
  },
  {
   "cell_type": "code",
   "execution_count": 27,
   "metadata": {},
   "outputs": [
    {
     "data": {
      "text/plain": [
       "(2075, 12)"
      ]
     },
     "execution_count": 27,
     "metadata": {},
     "output_type": "execute_result"
    }
   ],
   "source": [
    "df_image.shape"
   ]
  },
  {
   "cell_type": "code",
   "execution_count": 28,
   "metadata": {},
   "outputs": [
    {
     "data": {
      "text/html": [
       "<div>\n",
       "<style scoped>\n",
       "    .dataframe tbody tr th:only-of-type {\n",
       "        vertical-align: middle;\n",
       "    }\n",
       "\n",
       "    .dataframe tbody tr th {\n",
       "        vertical-align: top;\n",
       "    }\n",
       "\n",
       "    .dataframe thead th {\n",
       "        text-align: right;\n",
       "    }\n",
       "</style>\n",
       "<table border=\"1\" class=\"dataframe\">\n",
       "  <thead>\n",
       "    <tr style=\"text-align: right;\">\n",
       "      <th></th>\n",
       "      <th>tweet_id</th>\n",
       "      <th>img_num</th>\n",
       "      <th>p1_conf</th>\n",
       "      <th>p2_conf</th>\n",
       "      <th>p3_conf</th>\n",
       "    </tr>\n",
       "  </thead>\n",
       "  <tbody>\n",
       "    <tr>\n",
       "      <th>count</th>\n",
       "      <td>2.075000e+03</td>\n",
       "      <td>2075.000000</td>\n",
       "      <td>2075.000000</td>\n",
       "      <td>2.075000e+03</td>\n",
       "      <td>2.075000e+03</td>\n",
       "    </tr>\n",
       "    <tr>\n",
       "      <th>mean</th>\n",
       "      <td>7.384514e+17</td>\n",
       "      <td>1.203855</td>\n",
       "      <td>0.594548</td>\n",
       "      <td>1.345886e-01</td>\n",
       "      <td>6.032417e-02</td>\n",
       "    </tr>\n",
       "    <tr>\n",
       "      <th>std</th>\n",
       "      <td>6.785203e+16</td>\n",
       "      <td>0.561875</td>\n",
       "      <td>0.271174</td>\n",
       "      <td>1.006657e-01</td>\n",
       "      <td>5.090593e-02</td>\n",
       "    </tr>\n",
       "    <tr>\n",
       "      <th>min</th>\n",
       "      <td>6.660209e+17</td>\n",
       "      <td>1.000000</td>\n",
       "      <td>0.044333</td>\n",
       "      <td>1.011300e-08</td>\n",
       "      <td>1.740170e-10</td>\n",
       "    </tr>\n",
       "    <tr>\n",
       "      <th>25%</th>\n",
       "      <td>6.764835e+17</td>\n",
       "      <td>1.000000</td>\n",
       "      <td>0.364412</td>\n",
       "      <td>5.388625e-02</td>\n",
       "      <td>1.622240e-02</td>\n",
       "    </tr>\n",
       "    <tr>\n",
       "      <th>50%</th>\n",
       "      <td>7.119988e+17</td>\n",
       "      <td>1.000000</td>\n",
       "      <td>0.588230</td>\n",
       "      <td>1.181810e-01</td>\n",
       "      <td>4.944380e-02</td>\n",
       "    </tr>\n",
       "    <tr>\n",
       "      <th>75%</th>\n",
       "      <td>7.932034e+17</td>\n",
       "      <td>1.000000</td>\n",
       "      <td>0.843855</td>\n",
       "      <td>1.955655e-01</td>\n",
       "      <td>9.180755e-02</td>\n",
       "    </tr>\n",
       "    <tr>\n",
       "      <th>max</th>\n",
       "      <td>8.924206e+17</td>\n",
       "      <td>4.000000</td>\n",
       "      <td>1.000000</td>\n",
       "      <td>4.880140e-01</td>\n",
       "      <td>2.734190e-01</td>\n",
       "    </tr>\n",
       "  </tbody>\n",
       "</table>\n",
       "</div>"
      ],
      "text/plain": [
       "           tweet_id      img_num      p1_conf       p2_conf       p3_conf\n",
       "count  2.075000e+03  2075.000000  2075.000000  2.075000e+03  2.075000e+03\n",
       "mean   7.384514e+17     1.203855     0.594548  1.345886e-01  6.032417e-02\n",
       "std    6.785203e+16     0.561875     0.271174  1.006657e-01  5.090593e-02\n",
       "min    6.660209e+17     1.000000     0.044333  1.011300e-08  1.740170e-10\n",
       "25%    6.764835e+17     1.000000     0.364412  5.388625e-02  1.622240e-02\n",
       "50%    7.119988e+17     1.000000     0.588230  1.181810e-01  4.944380e-02\n",
       "75%    7.932034e+17     1.000000     0.843855  1.955655e-01  9.180755e-02\n",
       "max    8.924206e+17     4.000000     1.000000  4.880140e-01  2.734190e-01"
      ]
     },
     "execution_count": 28,
     "metadata": {},
     "output_type": "execute_result"
    }
   ],
   "source": [
    "df_image.describe()"
   ]
  },
  {
   "cell_type": "code",
   "execution_count": 29,
   "metadata": {},
   "outputs": [
    {
     "data": {
      "text/plain": [
       "tweet_id    0\n",
       "jpg_url     0\n",
       "img_num     0\n",
       "p1          0\n",
       "p1_conf     0\n",
       "p1_dog      0\n",
       "p2          0\n",
       "p2_conf     0\n",
       "p2_dog      0\n",
       "p3          0\n",
       "p3_conf     0\n",
       "p3_dog      0\n",
       "dtype: int64"
      ]
     },
     "execution_count": 29,
     "metadata": {},
     "output_type": "execute_result"
    }
   ],
   "source": [
    "# Missing values\n",
    "\n",
    "df_image.isnull().sum()"
   ]
  },
  {
   "cell_type": "code",
   "execution_count": 30,
   "metadata": {
    "scrolled": true
   },
   "outputs": [
    {
     "data": {
      "text/plain": [
       "0"
      ]
     },
     "execution_count": 30,
     "metadata": {},
     "output_type": "execute_result"
    }
   ],
   "source": [
    "# Duplicated values:\n",
    "\n",
    "df_image.duplicated().sum()"
   ]
  },
  {
   "cell_type": "code",
   "execution_count": 31,
   "metadata": {},
   "outputs": [
    {
     "data": {
      "text/plain": [
       "(str, str, str)"
      ]
     },
     "execution_count": 31,
     "metadata": {},
     "output_type": "execute_result"
    }
   ],
   "source": [
    "# view data types for p1, p2, p3\n",
    "\n",
    "type(df_image.p1[0]), type(df_image.p2[0]), type(df_image.p3[0])"
   ]
  },
  {
   "cell_type": "code",
   "execution_count": 32,
   "metadata": {
    "scrolled": true
   },
   "outputs": [
    {
     "data": {
      "text/plain": [
       "golden_retriever      150\n",
       "Labrador_retriever    100\n",
       "Pembroke               89\n",
       "Chihuahua              83\n",
       "pug                    57\n",
       "                     ... \n",
       "pillow                  1\n",
       "carousel                1\n",
       "bald_eagle              1\n",
       "lorikeet                1\n",
       "orange                  1\n",
       "Name: p1, Length: 378, dtype: int64"
      ]
     },
     "execution_count": 32,
     "metadata": {},
     "output_type": "execute_result"
    }
   ],
   "source": [
    "df_image.p1.value_counts()"
   ]
  },
  {
   "cell_type": "code",
   "execution_count": 33,
   "metadata": {
    "scrolled": true
   },
   "outputs": [
    {
     "data": {
      "text/plain": [
       "Labrador_retriever    104\n",
       "golden_retriever       92\n",
       "Cardigan               73\n",
       "Chihuahua              44\n",
       "Pomeranian             42\n",
       "                     ... \n",
       "medicine_chest          1\n",
       "quail                   1\n",
       "horse_cart              1\n",
       "waffle_iron             1\n",
       "bagel                   1\n",
       "Name: p2, Length: 405, dtype: int64"
      ]
     },
     "execution_count": 33,
     "metadata": {},
     "output_type": "execute_result"
    }
   ],
   "source": [
    "df_image.p2.value_counts()"
   ]
  },
  {
   "cell_type": "code",
   "execution_count": 34,
   "metadata": {
    "scrolled": false
   },
   "outputs": [
    {
     "data": {
      "text/plain": [
       "Labrador_retriever    79\n",
       "Chihuahua             58\n",
       "golden_retriever      48\n",
       "Eskimo_dog            38\n",
       "kelpie                35\n",
       "                      ..\n",
       "ox                     1\n",
       "assault_rifle          1\n",
       "axolotl                1\n",
       "pot                    1\n",
       "banana                 1\n",
       "Name: p3, Length: 408, dtype: int64"
      ]
     },
     "execution_count": 34,
     "metadata": {},
     "output_type": "execute_result"
    }
   ],
   "source": [
    "df_image.p3.value_counts()"
   ]
  },
  {
   "cell_type": "code",
   "execution_count": 35,
   "metadata": {},
   "outputs": [
    {
     "data": {
      "text/html": [
       "<div>\n",
       "<style scoped>\n",
       "    .dataframe tbody tr th:only-of-type {\n",
       "        vertical-align: middle;\n",
       "    }\n",
       "\n",
       "    .dataframe tbody tr th {\n",
       "        vertical-align: top;\n",
       "    }\n",
       "\n",
       "    .dataframe thead th {\n",
       "        text-align: right;\n",
       "    }\n",
       "</style>\n",
       "<table border=\"1\" class=\"dataframe\">\n",
       "  <thead>\n",
       "    <tr style=\"text-align: right;\">\n",
       "      <th></th>\n",
       "      <th>tweet_id</th>\n",
       "      <th>jpg_url</th>\n",
       "      <th>img_num</th>\n",
       "      <th>p1</th>\n",
       "      <th>p1_conf</th>\n",
       "      <th>p1_dog</th>\n",
       "      <th>p2</th>\n",
       "      <th>p2_conf</th>\n",
       "      <th>p2_dog</th>\n",
       "      <th>p3</th>\n",
       "      <th>p3_conf</th>\n",
       "      <th>p3_dog</th>\n",
       "    </tr>\n",
       "  </thead>\n",
       "  <tbody>\n",
       "  </tbody>\n",
       "</table>\n",
       "</div>"
      ],
      "text/plain": [
       "Empty DataFrame\n",
       "Columns: [tweet_id, jpg_url, img_num, p1, p1_conf, p1_dog, p2, p2_conf, p2_dog, p3, p3_conf, p3_dog]\n",
       "Index: []"
      ]
     },
     "execution_count": 35,
     "metadata": {},
     "output_type": "execute_result"
    }
   ],
   "source": [
    "# Check for images with p1_conf greater than 100%\n",
    "\n",
    "df_image[df_image.p1_conf > 1]"
   ]
  },
  {
   "cell_type": "code",
   "execution_count": 36,
   "metadata": {},
   "outputs": [
    {
     "data": {
      "text/html": [
       "<div>\n",
       "<style scoped>\n",
       "    .dataframe tbody tr th:only-of-type {\n",
       "        vertical-align: middle;\n",
       "    }\n",
       "\n",
       "    .dataframe tbody tr th {\n",
       "        vertical-align: top;\n",
       "    }\n",
       "\n",
       "    .dataframe thead th {\n",
       "        text-align: right;\n",
       "    }\n",
       "</style>\n",
       "<table border=\"1\" class=\"dataframe\">\n",
       "  <thead>\n",
       "    <tr style=\"text-align: right;\">\n",
       "      <th></th>\n",
       "      <th>tweet_id</th>\n",
       "      <th>jpg_url</th>\n",
       "      <th>img_num</th>\n",
       "      <th>p1</th>\n",
       "      <th>p1_conf</th>\n",
       "      <th>p1_dog</th>\n",
       "      <th>p2</th>\n",
       "      <th>p2_conf</th>\n",
       "      <th>p2_dog</th>\n",
       "      <th>p3</th>\n",
       "      <th>p3_conf</th>\n",
       "      <th>p3_dog</th>\n",
       "    </tr>\n",
       "  </thead>\n",
       "  <tbody>\n",
       "  </tbody>\n",
       "</table>\n",
       "</div>"
      ],
      "text/plain": [
       "Empty DataFrame\n",
       "Columns: [tweet_id, jpg_url, img_num, p1, p1_conf, p1_dog, p2, p2_conf, p2_dog, p3, p3_conf, p3_dog]\n",
       "Index: []"
      ]
     },
     "execution_count": 36,
     "metadata": {},
     "output_type": "execute_result"
    }
   ],
   "source": [
    "# Check for images with p2_conf greater than 100%\n",
    "\n",
    "df_image[df_image.p2_conf > 1]"
   ]
  },
  {
   "cell_type": "code",
   "execution_count": 37,
   "metadata": {},
   "outputs": [
    {
     "data": {
      "text/html": [
       "<div>\n",
       "<style scoped>\n",
       "    .dataframe tbody tr th:only-of-type {\n",
       "        vertical-align: middle;\n",
       "    }\n",
       "\n",
       "    .dataframe tbody tr th {\n",
       "        vertical-align: top;\n",
       "    }\n",
       "\n",
       "    .dataframe thead th {\n",
       "        text-align: right;\n",
       "    }\n",
       "</style>\n",
       "<table border=\"1\" class=\"dataframe\">\n",
       "  <thead>\n",
       "    <tr style=\"text-align: right;\">\n",
       "      <th></th>\n",
       "      <th>tweet_id</th>\n",
       "      <th>jpg_url</th>\n",
       "      <th>img_num</th>\n",
       "      <th>p1</th>\n",
       "      <th>p1_conf</th>\n",
       "      <th>p1_dog</th>\n",
       "      <th>p2</th>\n",
       "      <th>p2_conf</th>\n",
       "      <th>p2_dog</th>\n",
       "      <th>p3</th>\n",
       "      <th>p3_conf</th>\n",
       "      <th>p3_dog</th>\n",
       "    </tr>\n",
       "  </thead>\n",
       "  <tbody>\n",
       "  </tbody>\n",
       "</table>\n",
       "</div>"
      ],
      "text/plain": [
       "Empty DataFrame\n",
       "Columns: [tweet_id, jpg_url, img_num, p1, p1_conf, p1_dog, p2, p2_conf, p2_dog, p3, p3_conf, p3_dog]\n",
       "Index: []"
      ]
     },
     "execution_count": 37,
     "metadata": {},
     "output_type": "execute_result"
    }
   ],
   "source": [
    "# Check for images with p3_conf greater than 100%\n",
    "\n",
    "df_image[df_image.p3_conf > 1]"
   ]
  },
  {
   "cell_type": "code",
   "execution_count": 38,
   "metadata": {},
   "outputs": [
    {
     "data": {
      "text/plain": [
       "True     1532\n",
       "False     543\n",
       "Name: p1_dog, dtype: int64"
      ]
     },
     "execution_count": 38,
     "metadata": {},
     "output_type": "execute_result"
    }
   ],
   "source": [
    "# verify how many predictions in p1 were rightly made.\n",
    "df_image.p1_dog.value_counts()"
   ]
  },
  {
   "cell_type": "code",
   "execution_count": 39,
   "metadata": {},
   "outputs": [
    {
     "data": {
      "text/plain": [
       "True     1553\n",
       "False     522\n",
       "Name: p2_dog, dtype: int64"
      ]
     },
     "execution_count": 39,
     "metadata": {},
     "output_type": "execute_result"
    }
   ],
   "source": [
    "# verify how many predictions in p2 were rightly made.\n",
    "df_image.p2_dog.value_counts()"
   ]
  },
  {
   "cell_type": "code",
   "execution_count": 40,
   "metadata": {},
   "outputs": [
    {
     "data": {
      "text/plain": [
       "True     1499\n",
       "False     576\n",
       "Name: p3_dog, dtype: int64"
      ]
     },
     "execution_count": 40,
     "metadata": {},
     "output_type": "execute_result"
    }
   ],
   "source": [
    "# verify how many predictions in p3 were rightly made.\n",
    "df_image.p3_dog.value_counts()"
   ]
  },
  {
   "cell_type": "markdown",
   "metadata": {},
   "source": [
    "### Dataset 3: Tweet API data"
   ]
  },
  {
   "cell_type": "code",
   "execution_count": 41,
   "metadata": {
    "scrolled": true
   },
   "outputs": [
    {
     "data": {
      "text/html": [
       "<div>\n",
       "<style scoped>\n",
       "    .dataframe tbody tr th:only-of-type {\n",
       "        vertical-align: middle;\n",
       "    }\n",
       "\n",
       "    .dataframe tbody tr th {\n",
       "        vertical-align: top;\n",
       "    }\n",
       "\n",
       "    .dataframe thead th {\n",
       "        text-align: right;\n",
       "    }\n",
       "</style>\n",
       "<table border=\"1\" class=\"dataframe\">\n",
       "  <thead>\n",
       "    <tr style=\"text-align: right;\">\n",
       "      <th></th>\n",
       "      <th>tweet_id</th>\n",
       "      <th>retweet_count</th>\n",
       "      <th>favorite_count</th>\n",
       "      <th>created_at</th>\n",
       "      <th>full_text</th>\n",
       "    </tr>\n",
       "  </thead>\n",
       "  <tbody>\n",
       "    <tr>\n",
       "      <th>0</th>\n",
       "      <td>892420643555336193</td>\n",
       "      <td>8853</td>\n",
       "      <td>39467</td>\n",
       "      <td>Tue Aug 01 16:23:56 +0000 2017</td>\n",
       "      <td>This is Phineas. He's a mystical boy. Only eve...</td>\n",
       "    </tr>\n",
       "    <tr>\n",
       "      <th>1</th>\n",
       "      <td>892177421306343426</td>\n",
       "      <td>6514</td>\n",
       "      <td>33819</td>\n",
       "      <td>Tue Aug 01 00:17:27 +0000 2017</td>\n",
       "      <td>This is Tilly. She's just checking pup on you....</td>\n",
       "    </tr>\n",
       "    <tr>\n",
       "      <th>2</th>\n",
       "      <td>891815181378084864</td>\n",
       "      <td>4328</td>\n",
       "      <td>25461</td>\n",
       "      <td>Mon Jul 31 00:18:03 +0000 2017</td>\n",
       "      <td>This is Archie. He is a rare Norwegian Pouncin...</td>\n",
       "    </tr>\n",
       "    <tr>\n",
       "      <th>3</th>\n",
       "      <td>891689557279858688</td>\n",
       "      <td>8964</td>\n",
       "      <td>42908</td>\n",
       "      <td>Sun Jul 30 15:58:51 +0000 2017</td>\n",
       "      <td>This is Darla. She commenced a snooze mid meal...</td>\n",
       "    </tr>\n",
       "    <tr>\n",
       "      <th>4</th>\n",
       "      <td>891327558926688256</td>\n",
       "      <td>9774</td>\n",
       "      <td>41048</td>\n",
       "      <td>Sat Jul 29 16:00:24 +0000 2017</td>\n",
       "      <td>This is Franklin. He would like you to stop ca...</td>\n",
       "    </tr>\n",
       "    <tr>\n",
       "      <th>...</th>\n",
       "      <td>...</td>\n",
       "      <td>...</td>\n",
       "      <td>...</td>\n",
       "      <td>...</td>\n",
       "      <td>...</td>\n",
       "    </tr>\n",
       "    <tr>\n",
       "      <th>2349</th>\n",
       "      <td>666049248165822465</td>\n",
       "      <td>41</td>\n",
       "      <td>111</td>\n",
       "      <td>Mon Nov 16 00:24:50 +0000 2015</td>\n",
       "      <td>Here we have a 1949 1st generation vulpix. Enj...</td>\n",
       "    </tr>\n",
       "    <tr>\n",
       "      <th>2350</th>\n",
       "      <td>666044226329800704</td>\n",
       "      <td>147</td>\n",
       "      <td>311</td>\n",
       "      <td>Mon Nov 16 00:04:52 +0000 2015</td>\n",
       "      <td>This is a purebred Piers Morgan. Loves to Netf...</td>\n",
       "    </tr>\n",
       "    <tr>\n",
       "      <th>2351</th>\n",
       "      <td>666033412701032449</td>\n",
       "      <td>47</td>\n",
       "      <td>128</td>\n",
       "      <td>Sun Nov 15 23:21:54 +0000 2015</td>\n",
       "      <td>Here is a very happy pup. Big fan of well-main...</td>\n",
       "    </tr>\n",
       "    <tr>\n",
       "      <th>2352</th>\n",
       "      <td>666029285002620928</td>\n",
       "      <td>48</td>\n",
       "      <td>132</td>\n",
       "      <td>Sun Nov 15 23:05:30 +0000 2015</td>\n",
       "      <td>This is a western brown Mitsubishi terrier. Up...</td>\n",
       "    </tr>\n",
       "    <tr>\n",
       "      <th>2353</th>\n",
       "      <td>666020888022790149</td>\n",
       "      <td>532</td>\n",
       "      <td>2535</td>\n",
       "      <td>Sun Nov 15 22:32:08 +0000 2015</td>\n",
       "      <td>Here we have a Japanese Irish Setter. Lost eye...</td>\n",
       "    </tr>\n",
       "  </tbody>\n",
       "</table>\n",
       "<p>2354 rows × 5 columns</p>\n",
       "</div>"
      ],
      "text/plain": [
       "                tweet_id  retweet_count  favorite_count  \\\n",
       "0     892420643555336193           8853           39467   \n",
       "1     892177421306343426           6514           33819   \n",
       "2     891815181378084864           4328           25461   \n",
       "3     891689557279858688           8964           42908   \n",
       "4     891327558926688256           9774           41048   \n",
       "...                  ...            ...             ...   \n",
       "2349  666049248165822465             41             111   \n",
       "2350  666044226329800704            147             311   \n",
       "2351  666033412701032449             47             128   \n",
       "2352  666029285002620928             48             132   \n",
       "2353  666020888022790149            532            2535   \n",
       "\n",
       "                          created_at  \\\n",
       "0     Tue Aug 01 16:23:56 +0000 2017   \n",
       "1     Tue Aug 01 00:17:27 +0000 2017   \n",
       "2     Mon Jul 31 00:18:03 +0000 2017   \n",
       "3     Sun Jul 30 15:58:51 +0000 2017   \n",
       "4     Sat Jul 29 16:00:24 +0000 2017   \n",
       "...                              ...   \n",
       "2349  Mon Nov 16 00:24:50 +0000 2015   \n",
       "2350  Mon Nov 16 00:04:52 +0000 2015   \n",
       "2351  Sun Nov 15 23:21:54 +0000 2015   \n",
       "2352  Sun Nov 15 23:05:30 +0000 2015   \n",
       "2353  Sun Nov 15 22:32:08 +0000 2015   \n",
       "\n",
       "                                              full_text  \n",
       "0     This is Phineas. He's a mystical boy. Only eve...  \n",
       "1     This is Tilly. She's just checking pup on you....  \n",
       "2     This is Archie. He is a rare Norwegian Pouncin...  \n",
       "3     This is Darla. She commenced a snooze mid meal...  \n",
       "4     This is Franklin. He would like you to stop ca...  \n",
       "...                                                 ...  \n",
       "2349  Here we have a 1949 1st generation vulpix. Enj...  \n",
       "2350  This is a purebred Piers Morgan. Loves to Netf...  \n",
       "2351  Here is a very happy pup. Big fan of well-main...  \n",
       "2352  This is a western brown Mitsubishi terrier. Up...  \n",
       "2353  Here we have a Japanese Irish Setter. Lost eye...  \n",
       "\n",
       "[2354 rows x 5 columns]"
      ]
     },
     "execution_count": 41,
     "metadata": {},
     "output_type": "execute_result"
    }
   ],
   "source": [
    "tweet_df"
   ]
  },
  {
   "cell_type": "code",
   "execution_count": 42,
   "metadata": {},
   "outputs": [
    {
     "name": "stdout",
     "output_type": "stream",
     "text": [
      "<class 'pandas.core.frame.DataFrame'>\n",
      "RangeIndex: 2354 entries, 0 to 2353\n",
      "Data columns (total 5 columns):\n",
      " #   Column          Non-Null Count  Dtype \n",
      "---  ------          --------------  ----- \n",
      " 0   tweet_id        2354 non-null   int64 \n",
      " 1   retweet_count   2354 non-null   int64 \n",
      " 2   favorite_count  2354 non-null   int64 \n",
      " 3   created_at      2354 non-null   object\n",
      " 4   full_text       2354 non-null   object\n",
      "dtypes: int64(3), object(2)\n",
      "memory usage: 92.1+ KB\n"
     ]
    }
   ],
   "source": [
    "tweet_df.info()"
   ]
  },
  {
   "cell_type": "markdown",
   "metadata": {},
   "source": [
    "> `tweet_id` should be string instead of int\n",
    "\n",
    "> `created_at` should be datetime"
   ]
  },
  {
   "cell_type": "code",
   "execution_count": 43,
   "metadata": {},
   "outputs": [
    {
     "data": {
      "text/plain": [
       "tweet_id          0\n",
       "retweet_count     0\n",
       "favorite_count    0\n",
       "created_at        0\n",
       "full_text         0\n",
       "dtype: int64"
      ]
     },
     "execution_count": 43,
     "metadata": {},
     "output_type": "execute_result"
    }
   ],
   "source": [
    "tweet_df.isnull().sum()"
   ]
  },
  {
   "cell_type": "code",
   "execution_count": 44,
   "metadata": {},
   "outputs": [
    {
     "data": {
      "text/plain": [
       "0"
      ]
     },
     "execution_count": 44,
     "metadata": {},
     "output_type": "execute_result"
    }
   ],
   "source": [
    "# check for duplicated rows\n",
    "\n",
    "tweet_df.duplicated().sum()"
   ]
  },
  {
   "cell_type": "code",
   "execution_count": 45,
   "metadata": {},
   "outputs": [
    {
     "data": {
      "text/html": [
       "<div>\n",
       "<style scoped>\n",
       "    .dataframe tbody tr th:only-of-type {\n",
       "        vertical-align: middle;\n",
       "    }\n",
       "\n",
       "    .dataframe tbody tr th {\n",
       "        vertical-align: top;\n",
       "    }\n",
       "\n",
       "    .dataframe thead th {\n",
       "        text-align: right;\n",
       "    }\n",
       "</style>\n",
       "<table border=\"1\" class=\"dataframe\">\n",
       "  <thead>\n",
       "    <tr style=\"text-align: right;\">\n",
       "      <th></th>\n",
       "      <th>tweet_id</th>\n",
       "      <th>retweet_count</th>\n",
       "      <th>favorite_count</th>\n",
       "    </tr>\n",
       "  </thead>\n",
       "  <tbody>\n",
       "    <tr>\n",
       "      <th>count</th>\n",
       "      <td>2.354000e+03</td>\n",
       "      <td>2354.000000</td>\n",
       "      <td>2354.000000</td>\n",
       "    </tr>\n",
       "    <tr>\n",
       "      <th>mean</th>\n",
       "      <td>7.426978e+17</td>\n",
       "      <td>3164.797366</td>\n",
       "      <td>8080.968564</td>\n",
       "    </tr>\n",
       "    <tr>\n",
       "      <th>std</th>\n",
       "      <td>6.852812e+16</td>\n",
       "      <td>5284.770364</td>\n",
       "      <td>11814.771334</td>\n",
       "    </tr>\n",
       "    <tr>\n",
       "      <th>min</th>\n",
       "      <td>6.660209e+17</td>\n",
       "      <td>0.000000</td>\n",
       "      <td>0.000000</td>\n",
       "    </tr>\n",
       "    <tr>\n",
       "      <th>25%</th>\n",
       "      <td>6.783975e+17</td>\n",
       "      <td>624.500000</td>\n",
       "      <td>1415.000000</td>\n",
       "    </tr>\n",
       "    <tr>\n",
       "      <th>50%</th>\n",
       "      <td>7.194596e+17</td>\n",
       "      <td>1473.500000</td>\n",
       "      <td>3603.500000</td>\n",
       "    </tr>\n",
       "    <tr>\n",
       "      <th>75%</th>\n",
       "      <td>7.993058e+17</td>\n",
       "      <td>3652.000000</td>\n",
       "      <td>10122.250000</td>\n",
       "    </tr>\n",
       "    <tr>\n",
       "      <th>max</th>\n",
       "      <td>8.924206e+17</td>\n",
       "      <td>79515.000000</td>\n",
       "      <td>132810.000000</td>\n",
       "    </tr>\n",
       "  </tbody>\n",
       "</table>\n",
       "</div>"
      ],
      "text/plain": [
       "           tweet_id  retweet_count  favorite_count\n",
       "count  2.354000e+03    2354.000000     2354.000000\n",
       "mean   7.426978e+17    3164.797366     8080.968564\n",
       "std    6.852812e+16    5284.770364    11814.771334\n",
       "min    6.660209e+17       0.000000        0.000000\n",
       "25%    6.783975e+17     624.500000     1415.000000\n",
       "50%    7.194596e+17    1473.500000     3603.500000\n",
       "75%    7.993058e+17    3652.000000    10122.250000\n",
       "max    8.924206e+17   79515.000000   132810.000000"
      ]
     },
     "execution_count": 45,
     "metadata": {},
     "output_type": "execute_result"
    }
   ],
   "source": [
    "tweet_df.describe()"
   ]
  },
  {
   "cell_type": "code",
   "execution_count": 46,
   "metadata": {},
   "outputs": [
    {
     "data": {
      "text/plain": [
       "0"
      ]
     },
     "execution_count": 46,
     "metadata": {},
     "output_type": "execute_result"
    }
   ],
   "source": [
    "# check using full_text, the dogs that have two stages (doggo and floofer)\n",
    "\n",
    "tweet_df.full_text[(tweet_df.full_text.str.contains ('doggo')) & (tweet_df.full_text.str.contains ('floofer'))].count()"
   ]
  },
  {
   "cell_type": "code",
   "execution_count": 47,
   "metadata": {},
   "outputs": [
    {
     "data": {
      "text/plain": [
       "10"
      ]
     },
     "execution_count": 47,
     "metadata": {},
     "output_type": "execute_result"
    }
   ],
   "source": [
    "# check using full_text, the dogs that have two stages (doggo and pupper)\n",
    "\n",
    "tweet_df.full_text[(tweet_df.full_text.str.contains ('doggo')) & (tweet_df.full_text.str.contains ('pupper'))].count()"
   ]
  },
  {
   "cell_type": "code",
   "execution_count": 48,
   "metadata": {},
   "outputs": [
    {
     "data": {
      "text/plain": [
       "2"
      ]
     },
     "execution_count": 48,
     "metadata": {},
     "output_type": "execute_result"
    }
   ],
   "source": [
    "# check using full_text, the dogs that have two stages (doggo and puppo)\n",
    "\n",
    "tweet_df.full_text[(tweet_df.full_text.str.contains ('doggo')) & (tweet_df.full_text.str.contains ('puppo'))].count()"
   ]
  },
  {
   "cell_type": "code",
   "execution_count": 49,
   "metadata": {},
   "outputs": [
    {
     "data": {
      "text/plain": [
       "0"
      ]
     },
     "execution_count": 49,
     "metadata": {},
     "output_type": "execute_result"
    }
   ],
   "source": [
    "# check using full_text, the dogs that have two stages (floofer and pupper)\n",
    "\n",
    "tweet_df.full_text[(tweet_df.full_text.str.contains ('floofer')) & (tweet_df.full_text.str.contains ('pupper'))].count()"
   ]
  },
  {
   "cell_type": "code",
   "execution_count": 50,
   "metadata": {},
   "outputs": [
    {
     "data": {
      "text/plain": [
       "0"
      ]
     },
     "execution_count": 50,
     "metadata": {},
     "output_type": "execute_result"
    }
   ],
   "source": [
    "# check using full_text, the dogs that have two stages (floofer and puppo)\n",
    "\n",
    "tweet_df.full_text[(tweet_df.full_text.str.contains ('floofer')) & (tweet_df.full_text.str.contains ('puppo'))].count()"
   ]
  },
  {
   "cell_type": "code",
   "execution_count": 51,
   "metadata": {},
   "outputs": [
    {
     "data": {
      "text/plain": [
       "0"
      ]
     },
     "execution_count": 51,
     "metadata": {},
     "output_type": "execute_result"
    }
   ],
   "source": [
    "# check using full_text, the dogs that have two stages (pupper and puppo)\n",
    "\n",
    "tweet_df.full_text[(tweet_df.full_text.str.contains ('pupper')) & (tweet_df.full_text.str.contains ('puppo'))].count()"
   ]
  },
  {
   "cell_type": "markdown",
   "metadata": {},
   "source": [
    "### Quality issues\n",
    "1. Missing data in the df dataset. Like `in_reply_to_status_id`, `in_reply_to_user_id`, `retweeted_status_id`, `retweeted_status_user_id`, `retweeted_status_timestamp`, `source` and `expanded_urls`.\n",
    "\n",
    "\n",
    "2. `tweet_id` should be string not int. I will convert it to string since there is no calculation required.\n",
    "\n",
    "\n",
    "3. `created_at`, `retweeted_status_timestamp` current type is object (str) rather than datetime. I will change it to datetime.\n",
    "\n",
    "\n",
    "4. `in_reply_to_status_id`, `in_reply_to_user_id`, `timestamp` amongst other columns to be dropped. \n",
    "\n",
    "\n",
    "5. Change the first letter of all names to uppercase\n",
    "\n",
    "\n",
    "6. Doggo, floofer, pupper, puppo column all carry some None values, we could drop those values.\n",
    "\n",
    "\n",
    "7. Some invalid dog names exist ('None', 'such', 'a', 'quite', 'not', 'one', 'incredibly', 'mad', 'an', 'very', 'just', 'my', 'his', 'actually', 'getting', 'this', 'unacceptable', 'all', 'old', 'infuriating', 'the', 'by', 'officially', 'life', 'light', 'space'). Also dog names are not titled ('BeBe','DonDon','CeCe', 'JD', 'DayZ')\n",
    "\n",
    "\n",
    "8. Retweets are not original tweets, keep only original tweets.\n",
    "\n",
    "9. Drop all predictions that are not dog predictions."
   ]
  },
  {
   "cell_type": "markdown",
   "metadata": {
    "extensions": {
     "jupyter_dashboards": {
      "version": 1,
      "views": {
       "grid_default": {
        "col": 0,
        "height": 7,
        "hidden": false,
        "row": 40,
        "width": 12
       },
       "report_default": {
        "hidden": false
       }
      }
     }
    }
   },
   "source": [
    "### Tidiness issues\n",
    "1. Merge the three datasets.\n",
    "\n",
    "\n",
    "2. The twitter_archive dataset: doggo, floofer, pupper, puppo (dog types) columns needs to be restructured.\n",
    "\n",
    "\n",
    "3. Restructure p1, p2 and p3 as one column dog_breed "
   ]
  },
  {
   "cell_type": "markdown",
   "metadata": {
    "extensions": {
     "jupyter_dashboards": {
      "version": 1,
      "views": {
       "grid_default": {
        "col": 4,
        "height": 4,
        "hidden": false,
        "row": 32,
        "width": 4
       },
       "report_default": {
        "hidden": false
       }
      }
     }
    }
   },
   "source": [
    "## Cleaning Data\n",
    "In this section, clean **all** of the issues you documented while assessing. \n",
    "\n",
    "**Note:** Make a copy of the original data before cleaning. Cleaning includes merging individual pieces of data according to the rules of [tidy data](https://cran.r-project.org/web/packages/tidyr/vignettes/tidy-data.html). The result should be a high-quality and tidy master pandas DataFrame (or DataFrames, if appropriate)."
   ]
  },
  {
   "cell_type": "markdown",
   "metadata": {},
   "source": [
    "> **For the cleaning process**, I took the option of creating copies of each dataset, merging this copies into one dataframe, then performing the quality and tidiness cleaning on the data."
   ]
  },
  {
   "cell_type": "code",
   "execution_count": 52,
   "metadata": {},
   "outputs": [],
   "source": [
    "# Make copies of original pieces of data\n",
    "df_clean = df.copy()\n",
    "image_clean = df_image.copy()\n",
    "tweet_clean = tweet_df.copy()"
   ]
  },
  {
   "cell_type": "markdown",
   "metadata": {},
   "source": [
    "### Issue #1: We are going to be taking care of all the tidiness issues mentioned. Some quality issues will also be taken care of in the process!"
   ]
  },
  {
   "cell_type": "markdown",
   "metadata": {},
   "source": [
    "#### Define: Merge the 3 copy datasets using INNER join."
   ]
  },
  {
   "cell_type": "markdown",
   "metadata": {},
   "source": [
    "#### Code"
   ]
  },
  {
   "cell_type": "code",
   "execution_count": 53,
   "metadata": {},
   "outputs": [],
   "source": [
    "# Merge the 3 dataframes into a new df; tweet_new_df\n",
    "\n",
    "tweet_new_df = pd.merge(df_clean, image_clean, how = 'inner', on = ['tweet_id'] )\n",
    "tweet_new_df = pd.merge(tweet_new_df, tweet_clean, how = 'inner', on = ['tweet_id'])\n",
    "tweet_new_df.to_csv('tweet_new.csv', encoding = 'utf-8')"
   ]
  },
  {
   "cell_type": "markdown",
   "metadata": {},
   "source": [
    "#### Test"
   ]
  },
  {
   "cell_type": "code",
   "execution_count": 54,
   "metadata": {
    "scrolled": true
   },
   "outputs": [
    {
     "data": {
      "text/html": [
       "<div>\n",
       "<style scoped>\n",
       "    .dataframe tbody tr th:only-of-type {\n",
       "        vertical-align: middle;\n",
       "    }\n",
       "\n",
       "    .dataframe tbody tr th {\n",
       "        vertical-align: top;\n",
       "    }\n",
       "\n",
       "    .dataframe thead th {\n",
       "        text-align: right;\n",
       "    }\n",
       "</style>\n",
       "<table border=\"1\" class=\"dataframe\">\n",
       "  <thead>\n",
       "    <tr style=\"text-align: right;\">\n",
       "      <th></th>\n",
       "      <th>tweet_id</th>\n",
       "      <th>in_reply_to_status_id</th>\n",
       "      <th>in_reply_to_user_id</th>\n",
       "      <th>timestamp</th>\n",
       "      <th>source</th>\n",
       "      <th>text</th>\n",
       "      <th>retweeted_status_id</th>\n",
       "      <th>retweeted_status_user_id</th>\n",
       "      <th>retweeted_status_timestamp</th>\n",
       "      <th>expanded_urls</th>\n",
       "      <th>...</th>\n",
       "      <th>p2</th>\n",
       "      <th>p2_conf</th>\n",
       "      <th>p2_dog</th>\n",
       "      <th>p3</th>\n",
       "      <th>p3_conf</th>\n",
       "      <th>p3_dog</th>\n",
       "      <th>retweet_count</th>\n",
       "      <th>favorite_count</th>\n",
       "      <th>created_at</th>\n",
       "      <th>full_text</th>\n",
       "    </tr>\n",
       "  </thead>\n",
       "  <tbody>\n",
       "    <tr>\n",
       "      <th>0</th>\n",
       "      <td>892420643555336193</td>\n",
       "      <td>NaN</td>\n",
       "      <td>NaN</td>\n",
       "      <td>2017-08-01 16:23:56 +0000</td>\n",
       "      <td>&lt;a href=\"http://twitter.com/download/iphone\" r...</td>\n",
       "      <td>This is Phineas. He's a mystical boy. Only eve...</td>\n",
       "      <td>NaN</td>\n",
       "      <td>NaN</td>\n",
       "      <td>NaN</td>\n",
       "      <td>https://twitter.com/dog_rates/status/892420643...</td>\n",
       "      <td>...</td>\n",
       "      <td>bagel</td>\n",
       "      <td>0.085851</td>\n",
       "      <td>False</td>\n",
       "      <td>banana</td>\n",
       "      <td>0.076110</td>\n",
       "      <td>False</td>\n",
       "      <td>8853</td>\n",
       "      <td>39467</td>\n",
       "      <td>Tue Aug 01 16:23:56 +0000 2017</td>\n",
       "      <td>This is Phineas. He's a mystical boy. Only eve...</td>\n",
       "    </tr>\n",
       "    <tr>\n",
       "      <th>1</th>\n",
       "      <td>892177421306343426</td>\n",
       "      <td>NaN</td>\n",
       "      <td>NaN</td>\n",
       "      <td>2017-08-01 00:17:27 +0000</td>\n",
       "      <td>&lt;a href=\"http://twitter.com/download/iphone\" r...</td>\n",
       "      <td>This is Tilly. She's just checking pup on you....</td>\n",
       "      <td>NaN</td>\n",
       "      <td>NaN</td>\n",
       "      <td>NaN</td>\n",
       "      <td>https://twitter.com/dog_rates/status/892177421...</td>\n",
       "      <td>...</td>\n",
       "      <td>Pekinese</td>\n",
       "      <td>0.090647</td>\n",
       "      <td>True</td>\n",
       "      <td>papillon</td>\n",
       "      <td>0.068957</td>\n",
       "      <td>True</td>\n",
       "      <td>6514</td>\n",
       "      <td>33819</td>\n",
       "      <td>Tue Aug 01 00:17:27 +0000 2017</td>\n",
       "      <td>This is Tilly. She's just checking pup on you....</td>\n",
       "    </tr>\n",
       "    <tr>\n",
       "      <th>2</th>\n",
       "      <td>891815181378084864</td>\n",
       "      <td>NaN</td>\n",
       "      <td>NaN</td>\n",
       "      <td>2017-07-31 00:18:03 +0000</td>\n",
       "      <td>&lt;a href=\"http://twitter.com/download/iphone\" r...</td>\n",
       "      <td>This is Archie. He is a rare Norwegian Pouncin...</td>\n",
       "      <td>NaN</td>\n",
       "      <td>NaN</td>\n",
       "      <td>NaN</td>\n",
       "      <td>https://twitter.com/dog_rates/status/891815181...</td>\n",
       "      <td>...</td>\n",
       "      <td>malamute</td>\n",
       "      <td>0.078253</td>\n",
       "      <td>True</td>\n",
       "      <td>kelpie</td>\n",
       "      <td>0.031379</td>\n",
       "      <td>True</td>\n",
       "      <td>4328</td>\n",
       "      <td>25461</td>\n",
       "      <td>Mon Jul 31 00:18:03 +0000 2017</td>\n",
       "      <td>This is Archie. He is a rare Norwegian Pouncin...</td>\n",
       "    </tr>\n",
       "    <tr>\n",
       "      <th>3</th>\n",
       "      <td>891689557279858688</td>\n",
       "      <td>NaN</td>\n",
       "      <td>NaN</td>\n",
       "      <td>2017-07-30 15:58:51 +0000</td>\n",
       "      <td>&lt;a href=\"http://twitter.com/download/iphone\" r...</td>\n",
       "      <td>This is Darla. She commenced a snooze mid meal...</td>\n",
       "      <td>NaN</td>\n",
       "      <td>NaN</td>\n",
       "      <td>NaN</td>\n",
       "      <td>https://twitter.com/dog_rates/status/891689557...</td>\n",
       "      <td>...</td>\n",
       "      <td>Labrador_retriever</td>\n",
       "      <td>0.168086</td>\n",
       "      <td>True</td>\n",
       "      <td>spatula</td>\n",
       "      <td>0.040836</td>\n",
       "      <td>False</td>\n",
       "      <td>8964</td>\n",
       "      <td>42908</td>\n",
       "      <td>Sun Jul 30 15:58:51 +0000 2017</td>\n",
       "      <td>This is Darla. She commenced a snooze mid meal...</td>\n",
       "    </tr>\n",
       "    <tr>\n",
       "      <th>4</th>\n",
       "      <td>891327558926688256</td>\n",
       "      <td>NaN</td>\n",
       "      <td>NaN</td>\n",
       "      <td>2017-07-29 16:00:24 +0000</td>\n",
       "      <td>&lt;a href=\"http://twitter.com/download/iphone\" r...</td>\n",
       "      <td>This is Franklin. He would like you to stop ca...</td>\n",
       "      <td>NaN</td>\n",
       "      <td>NaN</td>\n",
       "      <td>NaN</td>\n",
       "      <td>https://twitter.com/dog_rates/status/891327558...</td>\n",
       "      <td>...</td>\n",
       "      <td>English_springer</td>\n",
       "      <td>0.225770</td>\n",
       "      <td>True</td>\n",
       "      <td>German_short-haired_pointer</td>\n",
       "      <td>0.175219</td>\n",
       "      <td>True</td>\n",
       "      <td>9774</td>\n",
       "      <td>41048</td>\n",
       "      <td>Sat Jul 29 16:00:24 +0000 2017</td>\n",
       "      <td>This is Franklin. He would like you to stop ca...</td>\n",
       "    </tr>\n",
       "  </tbody>\n",
       "</table>\n",
       "<p>5 rows × 32 columns</p>\n",
       "</div>"
      ],
      "text/plain": [
       "             tweet_id  in_reply_to_status_id  in_reply_to_user_id  \\\n",
       "0  892420643555336193                    NaN                  NaN   \n",
       "1  892177421306343426                    NaN                  NaN   \n",
       "2  891815181378084864                    NaN                  NaN   \n",
       "3  891689557279858688                    NaN                  NaN   \n",
       "4  891327558926688256                    NaN                  NaN   \n",
       "\n",
       "                   timestamp  \\\n",
       "0  2017-08-01 16:23:56 +0000   \n",
       "1  2017-08-01 00:17:27 +0000   \n",
       "2  2017-07-31 00:18:03 +0000   \n",
       "3  2017-07-30 15:58:51 +0000   \n",
       "4  2017-07-29 16:00:24 +0000   \n",
       "\n",
       "                                              source  \\\n",
       "0  <a href=\"http://twitter.com/download/iphone\" r...   \n",
       "1  <a href=\"http://twitter.com/download/iphone\" r...   \n",
       "2  <a href=\"http://twitter.com/download/iphone\" r...   \n",
       "3  <a href=\"http://twitter.com/download/iphone\" r...   \n",
       "4  <a href=\"http://twitter.com/download/iphone\" r...   \n",
       "\n",
       "                                                text  retweeted_status_id  \\\n",
       "0  This is Phineas. He's a mystical boy. Only eve...                  NaN   \n",
       "1  This is Tilly. She's just checking pup on you....                  NaN   \n",
       "2  This is Archie. He is a rare Norwegian Pouncin...                  NaN   \n",
       "3  This is Darla. She commenced a snooze mid meal...                  NaN   \n",
       "4  This is Franklin. He would like you to stop ca...                  NaN   \n",
       "\n",
       "   retweeted_status_user_id retweeted_status_timestamp  \\\n",
       "0                       NaN                        NaN   \n",
       "1                       NaN                        NaN   \n",
       "2                       NaN                        NaN   \n",
       "3                       NaN                        NaN   \n",
       "4                       NaN                        NaN   \n",
       "\n",
       "                                       expanded_urls  ...                  p2  \\\n",
       "0  https://twitter.com/dog_rates/status/892420643...  ...               bagel   \n",
       "1  https://twitter.com/dog_rates/status/892177421...  ...            Pekinese   \n",
       "2  https://twitter.com/dog_rates/status/891815181...  ...            malamute   \n",
       "3  https://twitter.com/dog_rates/status/891689557...  ...  Labrador_retriever   \n",
       "4  https://twitter.com/dog_rates/status/891327558...  ...    English_springer   \n",
       "\n",
       "    p2_conf p2_dog                           p3   p3_conf p3_dog  \\\n",
       "0  0.085851  False                       banana  0.076110  False   \n",
       "1  0.090647   True                     papillon  0.068957   True   \n",
       "2  0.078253   True                       kelpie  0.031379   True   \n",
       "3  0.168086   True                      spatula  0.040836  False   \n",
       "4  0.225770   True  German_short-haired_pointer  0.175219   True   \n",
       "\n",
       "  retweet_count favorite_count                      created_at  \\\n",
       "0          8853          39467  Tue Aug 01 16:23:56 +0000 2017   \n",
       "1          6514          33819  Tue Aug 01 00:17:27 +0000 2017   \n",
       "2          4328          25461  Mon Jul 31 00:18:03 +0000 2017   \n",
       "3          8964          42908  Sun Jul 30 15:58:51 +0000 2017   \n",
       "4          9774          41048  Sat Jul 29 16:00:24 +0000 2017   \n",
       "\n",
       "                                           full_text  \n",
       "0  This is Phineas. He's a mystical boy. Only eve...  \n",
       "1  This is Tilly. She's just checking pup on you....  \n",
       "2  This is Archie. He is a rare Norwegian Pouncin...  \n",
       "3  This is Darla. She commenced a snooze mid meal...  \n",
       "4  This is Franklin. He would like you to stop ca...  \n",
       "\n",
       "[5 rows x 32 columns]"
      ]
     },
     "execution_count": 54,
     "metadata": {},
     "output_type": "execute_result"
    }
   ],
   "source": [
    "tweet_new_df.head()"
   ]
  },
  {
   "cell_type": "code",
   "execution_count": 55,
   "metadata": {},
   "outputs": [
    {
     "name": "stdout",
     "output_type": "stream",
     "text": [
      "<class 'pandas.core.frame.DataFrame'>\n",
      "Int64Index: 2073 entries, 0 to 2072\n",
      "Data columns (total 32 columns):\n",
      " #   Column                      Non-Null Count  Dtype  \n",
      "---  ------                      --------------  -----  \n",
      " 0   tweet_id                    2073 non-null   int64  \n",
      " 1   in_reply_to_status_id       23 non-null     float64\n",
      " 2   in_reply_to_user_id         23 non-null     float64\n",
      " 3   timestamp                   2073 non-null   object \n",
      " 4   source                      2073 non-null   object \n",
      " 5   text                        2073 non-null   object \n",
      " 6   retweeted_status_id         79 non-null     float64\n",
      " 7   retweeted_status_user_id    79 non-null     float64\n",
      " 8   retweeted_status_timestamp  79 non-null     object \n",
      " 9   expanded_urls               2073 non-null   object \n",
      " 10  rating_numerator            2073 non-null   int64  \n",
      " 11  rating_denominator          2073 non-null   int64  \n",
      " 12  name                        2073 non-null   object \n",
      " 13  doggo                       2073 non-null   object \n",
      " 14  floofer                     2073 non-null   object \n",
      " 15  pupper                      2073 non-null   object \n",
      " 16  puppo                       2073 non-null   object \n",
      " 17  jpg_url                     2073 non-null   object \n",
      " 18  img_num                     2073 non-null   int64  \n",
      " 19  p1                          2073 non-null   object \n",
      " 20  p1_conf                     2073 non-null   float64\n",
      " 21  p1_dog                      2073 non-null   bool   \n",
      " 22  p2                          2073 non-null   object \n",
      " 23  p2_conf                     2073 non-null   float64\n",
      " 24  p2_dog                      2073 non-null   bool   \n",
      " 25  p3                          2073 non-null   object \n",
      " 26  p3_conf                     2073 non-null   float64\n",
      " 27  p3_dog                      2073 non-null   bool   \n",
      " 28  retweet_count               2073 non-null   int64  \n",
      " 29  favorite_count              2073 non-null   int64  \n",
      " 30  created_at                  2073 non-null   object \n",
      " 31  full_text                   2073 non-null   object \n",
      "dtypes: bool(3), float64(7), int64(6), object(16)\n",
      "memory usage: 491.9+ KB\n"
     ]
    }
   ],
   "source": [
    "tweet_new_df.info()"
   ]
  },
  {
   "cell_type": "markdown",
   "metadata": {},
   "source": [
    "#### Define: Replace None with an empty string"
   ]
  },
  {
   "cell_type": "markdown",
   "metadata": {},
   "source": [
    "#### Code"
   ]
  },
  {
   "cell_type": "code",
   "execution_count": 56,
   "metadata": {},
   "outputs": [],
   "source": [
    "# The archive_clean dataset: doggo, floofer, pupper, puppo (dog types) columns needs to be restructured\n",
    "# replace None with an empty string\n",
    "tweet_new_df.doggo.replace('None', '', inplace = True)\n",
    "tweet_new_df.floofer.replace('None', '', inplace = True)\n",
    "tweet_new_df.puppo.replace('None', '', inplace = True)\n",
    "tweet_new_df.pupper.replace('None', '', inplace = True)"
   ]
  },
  {
   "cell_type": "markdown",
   "metadata": {},
   "source": [
    "#### Define: Merge Columns into dog_types column"
   ]
  },
  {
   "cell_type": "markdown",
   "metadata": {},
   "source": [
    "#### Code"
   ]
  },
  {
   "cell_type": "code",
   "execution_count": 57,
   "metadata": {},
   "outputs": [],
   "source": [
    "# Merge four columns\n",
    "tweet_new_df['dog_types'] = tweet_new_df.doggo + tweet_new_df.pupper + tweet_new_df.puppo + tweet_new_df.floofer\n",
    "\n",
    "# drop doggo, floofer, pupper, puppo\n",
    "dog_cols = ['doggo', 'floofer', 'pupper', 'puppo']\n",
    "tweet_new_df.drop(columns=dog_cols, inplace=True)"
   ]
  },
  {
   "cell_type": "markdown",
   "metadata": {},
   "source": [
    "#### Define: Seperate Dog types using |"
   ]
  },
  {
   "cell_type": "markdown",
   "metadata": {},
   "source": [
    "#### Code:"
   ]
  },
  {
   "cell_type": "code",
   "execution_count": 58,
   "metadata": {},
   "outputs": [],
   "source": [
    "# place a slash for multiple dog type\n",
    "tweet_new_df.loc[tweet_new_df.dog_types == 'doggopupper', 'dog_types'] = 'doggo|pupper'\n",
    "tweet_new_df.loc[tweet_new_df.dog_types == 'doggopuppo', 'dog_types'] = 'doggo|puppo'\n",
    "tweet_new_df.loc[tweet_new_df.dog_types == 'doggofloofer', 'dog_types'] = 'doggo|floofer'"
   ]
  },
  {
   "cell_type": "markdown",
   "metadata": {},
   "source": [
    "#### Test"
   ]
  },
  {
   "cell_type": "code",
   "execution_count": 59,
   "metadata": {},
   "outputs": [
    {
     "data": {
      "text/plain": [
       "Index(['tweet_id', 'in_reply_to_status_id', 'in_reply_to_user_id', 'timestamp',\n",
       "       'source', 'text', 'retweeted_status_id', 'retweeted_status_user_id',\n",
       "       'retweeted_status_timestamp', 'expanded_urls', 'rating_numerator',\n",
       "       'rating_denominator', 'name', 'jpg_url', 'img_num', 'p1', 'p1_conf',\n",
       "       'p1_dog', 'p2', 'p2_conf', 'p2_dog', 'p3', 'p3_conf', 'p3_dog',\n",
       "       'retweet_count', 'favorite_count', 'created_at', 'full_text',\n",
       "       'dog_types'],\n",
       "      dtype='object')"
      ]
     },
     "execution_count": 59,
     "metadata": {},
     "output_type": "execute_result"
    }
   ],
   "source": [
    "tweet_new_df.columns"
   ]
  },
  {
   "cell_type": "code",
   "execution_count": 60,
   "metadata": {},
   "outputs": [
    {
     "data": {
      "text/plain": [
       "                 1753\n",
       "pupper            210\n",
       "doggo              67\n",
       "puppo              23\n",
       "doggo|pupper       11\n",
       "floofer             7\n",
       "doggo|puppo         1\n",
       "doggo|floofer       1\n",
       "Name: dog_types, dtype: int64"
      ]
     },
     "execution_count": 60,
     "metadata": {},
     "output_type": "execute_result"
    }
   ],
   "source": [
    "tweet_new_df.dog_types.value_counts()"
   ]
  },
  {
   "cell_type": "markdown",
   "metadata": {},
   "source": [
    "#### Define: Drop probabilities of not dog"
   ]
  },
  {
   "cell_type": "markdown",
   "metadata": {},
   "source": [
    "#### Code:"
   ]
  },
  {
   "cell_type": "code",
   "execution_count": 61,
   "metadata": {},
   "outputs": [],
   "source": [
    "# Find indexes of pictures that are not of dogs\n",
    "not_dog = tweet_new_df[(tweet_new_df[\"p1_dog\"] == False) &\n",
    "         (tweet_new_df[\"p2_dog\"] == False) &\n",
    "         (tweet_new_df[\"p3_dog\"] == False)][\"tweet_id\"].index\n",
    "\n",
    "# Find indexes of pictures that are have a low prediction confidence <0.25\n",
    "no_dog = tweet_new_df[(tweet_new_df[\"p1_dog\"] == False) &\n",
    "         (tweet_new_df[\"p2_conf\"] < 0.25) &\n",
    "         (tweet_new_df[\"p3_conf\"] < 0.25)][\"tweet_id\"].index\n",
    "\n",
    "remove_row = not_dog.append(no_dog)\n",
    "\n",
    "tweet_new_df.drop(remove_row, inplace=True)"
   ]
  },
  {
   "cell_type": "markdown",
   "metadata": {},
   "source": [
    "#### Test:"
   ]
  },
  {
   "cell_type": "code",
   "execution_count": 62,
   "metadata": {
    "scrolled": true
   },
   "outputs": [
    {
     "data": {
      "text/html": [
       "<div>\n",
       "<style scoped>\n",
       "    .dataframe tbody tr th:only-of-type {\n",
       "        vertical-align: middle;\n",
       "    }\n",
       "\n",
       "    .dataframe tbody tr th {\n",
       "        vertical-align: top;\n",
       "    }\n",
       "\n",
       "    .dataframe thead th {\n",
       "        text-align: right;\n",
       "    }\n",
       "</style>\n",
       "<table border=\"1\" class=\"dataframe\">\n",
       "  <thead>\n",
       "    <tr style=\"text-align: right;\">\n",
       "      <th></th>\n",
       "      <th>p1</th>\n",
       "      <th>p2</th>\n",
       "      <th>p3</th>\n",
       "    </tr>\n",
       "  </thead>\n",
       "  <tbody>\n",
       "    <tr>\n",
       "      <th>1</th>\n",
       "      <td>Chihuahua</td>\n",
       "      <td>Pekinese</td>\n",
       "      <td>papillon</td>\n",
       "    </tr>\n",
       "    <tr>\n",
       "      <th>2</th>\n",
       "      <td>Chihuahua</td>\n",
       "      <td>malamute</td>\n",
       "      <td>kelpie</td>\n",
       "    </tr>\n",
       "    <tr>\n",
       "      <th>4</th>\n",
       "      <td>basset</td>\n",
       "      <td>English_springer</td>\n",
       "      <td>German_short-haired_pointer</td>\n",
       "    </tr>\n",
       "    <tr>\n",
       "      <th>5</th>\n",
       "      <td>Chesapeake_Bay_retriever</td>\n",
       "      <td>Irish_terrier</td>\n",
       "      <td>Indian_elephant</td>\n",
       "    </tr>\n",
       "    <tr>\n",
       "      <th>6</th>\n",
       "      <td>Appenzeller</td>\n",
       "      <td>Border_collie</td>\n",
       "      <td>ice_lolly</td>\n",
       "    </tr>\n",
       "    <tr>\n",
       "      <th>7</th>\n",
       "      <td>Pomeranian</td>\n",
       "      <td>Eskimo_dog</td>\n",
       "      <td>Pembroke</td>\n",
       "    </tr>\n",
       "    <tr>\n",
       "      <th>8</th>\n",
       "      <td>Irish_terrier</td>\n",
       "      <td>Irish_setter</td>\n",
       "      <td>Chesapeake_Bay_retriever</td>\n",
       "    </tr>\n",
       "    <tr>\n",
       "      <th>9</th>\n",
       "      <td>Pembroke</td>\n",
       "      <td>Cardigan</td>\n",
       "      <td>Chihuahua</td>\n",
       "    </tr>\n",
       "    <tr>\n",
       "      <th>10</th>\n",
       "      <td>Samoyed</td>\n",
       "      <td>Pomeranian</td>\n",
       "      <td>chow</td>\n",
       "    </tr>\n",
       "    <tr>\n",
       "      <th>11</th>\n",
       "      <td>French_bulldog</td>\n",
       "      <td>Labrador_retriever</td>\n",
       "      <td>muzzle</td>\n",
       "    </tr>\n",
       "  </tbody>\n",
       "</table>\n",
       "</div>"
      ],
      "text/plain": [
       "                          p1                  p2                           p3\n",
       "1                  Chihuahua            Pekinese                     papillon\n",
       "2                  Chihuahua            malamute                       kelpie\n",
       "4                     basset    English_springer  German_short-haired_pointer\n",
       "5   Chesapeake_Bay_retriever       Irish_terrier              Indian_elephant\n",
       "6                Appenzeller       Border_collie                    ice_lolly\n",
       "7                 Pomeranian          Eskimo_dog                     Pembroke\n",
       "8              Irish_terrier        Irish_setter     Chesapeake_Bay_retriever\n",
       "9                   Pembroke            Cardigan                    Chihuahua\n",
       "10                   Samoyed          Pomeranian                         chow\n",
       "11            French_bulldog  Labrador_retriever                       muzzle"
      ]
     },
     "execution_count": 62,
     "metadata": {},
     "output_type": "execute_result"
    }
   ],
   "source": [
    "tweet_new_df[['p1','p2','p3']].head(10)"
   ]
  },
  {
   "cell_type": "markdown",
   "metadata": {},
   "source": [
    "#### Define: Replacing every underscore with space"
   ]
  },
  {
   "cell_type": "markdown",
   "metadata": {},
   "source": [
    "#### Code:"
   ]
  },
  {
   "cell_type": "code",
   "execution_count": 63,
   "metadata": {},
   "outputs": [],
   "source": [
    "# Replace underscore with space\n",
    "\n",
    "tweet_new_df['p1'] = tweet_new_df.p1.str.replace('_',' ')\n",
    "tweet_new_df['p2'] = tweet_new_df.p2.str.replace('_',' ')\n",
    "tweet_new_df['p3'] = tweet_new_df.p3.str.replace('_',' ')\n",
    "\n",
    "# Capitalize the content (every word) using title\n",
    "\n",
    "tweet_new_df['p1'] = tweet_new_df.p1.str.title()\n",
    "tweet_new_df['p2'] = tweet_new_df.p2.str.title()\n",
    "tweet_new_df['p3'] = tweet_new_df.p3.str.title()"
   ]
  },
  {
   "cell_type": "markdown",
   "metadata": {},
   "source": [
    "***Test***"
   ]
  },
  {
   "cell_type": "code",
   "execution_count": 64,
   "metadata": {
    "scrolled": false
   },
   "outputs": [
    {
     "data": {
      "text/html": [
       "<div>\n",
       "<style scoped>\n",
       "    .dataframe tbody tr th:only-of-type {\n",
       "        vertical-align: middle;\n",
       "    }\n",
       "\n",
       "    .dataframe tbody tr th {\n",
       "        vertical-align: top;\n",
       "    }\n",
       "\n",
       "    .dataframe thead th {\n",
       "        text-align: right;\n",
       "    }\n",
       "</style>\n",
       "<table border=\"1\" class=\"dataframe\">\n",
       "  <thead>\n",
       "    <tr style=\"text-align: right;\">\n",
       "      <th></th>\n",
       "      <th>p1</th>\n",
       "      <th>p2</th>\n",
       "      <th>p3</th>\n",
       "    </tr>\n",
       "  </thead>\n",
       "  <tbody>\n",
       "    <tr>\n",
       "      <th>1</th>\n",
       "      <td>Chihuahua</td>\n",
       "      <td>Pekinese</td>\n",
       "      <td>Papillon</td>\n",
       "    </tr>\n",
       "    <tr>\n",
       "      <th>2</th>\n",
       "      <td>Chihuahua</td>\n",
       "      <td>Malamute</td>\n",
       "      <td>Kelpie</td>\n",
       "    </tr>\n",
       "    <tr>\n",
       "      <th>4</th>\n",
       "      <td>Basset</td>\n",
       "      <td>English Springer</td>\n",
       "      <td>German Short-Haired Pointer</td>\n",
       "    </tr>\n",
       "    <tr>\n",
       "      <th>5</th>\n",
       "      <td>Chesapeake Bay Retriever</td>\n",
       "      <td>Irish Terrier</td>\n",
       "      <td>Indian Elephant</td>\n",
       "    </tr>\n",
       "    <tr>\n",
       "      <th>6</th>\n",
       "      <td>Appenzeller</td>\n",
       "      <td>Border Collie</td>\n",
       "      <td>Ice Lolly</td>\n",
       "    </tr>\n",
       "    <tr>\n",
       "      <th>7</th>\n",
       "      <td>Pomeranian</td>\n",
       "      <td>Eskimo Dog</td>\n",
       "      <td>Pembroke</td>\n",
       "    </tr>\n",
       "    <tr>\n",
       "      <th>8</th>\n",
       "      <td>Irish Terrier</td>\n",
       "      <td>Irish Setter</td>\n",
       "      <td>Chesapeake Bay Retriever</td>\n",
       "    </tr>\n",
       "    <tr>\n",
       "      <th>9</th>\n",
       "      <td>Pembroke</td>\n",
       "      <td>Cardigan</td>\n",
       "      <td>Chihuahua</td>\n",
       "    </tr>\n",
       "    <tr>\n",
       "      <th>10</th>\n",
       "      <td>Samoyed</td>\n",
       "      <td>Pomeranian</td>\n",
       "      <td>Chow</td>\n",
       "    </tr>\n",
       "    <tr>\n",
       "      <th>11</th>\n",
       "      <td>French Bulldog</td>\n",
       "      <td>Labrador Retriever</td>\n",
       "      <td>Muzzle</td>\n",
       "    </tr>\n",
       "  </tbody>\n",
       "</table>\n",
       "</div>"
      ],
      "text/plain": [
       "                          p1                  p2                           p3\n",
       "1                  Chihuahua            Pekinese                     Papillon\n",
       "2                  Chihuahua            Malamute                       Kelpie\n",
       "4                     Basset    English Springer  German Short-Haired Pointer\n",
       "5   Chesapeake Bay Retriever       Irish Terrier              Indian Elephant\n",
       "6                Appenzeller       Border Collie                    Ice Lolly\n",
       "7                 Pomeranian          Eskimo Dog                     Pembroke\n",
       "8              Irish Terrier        Irish Setter     Chesapeake Bay Retriever\n",
       "9                   Pembroke            Cardigan                    Chihuahua\n",
       "10                   Samoyed          Pomeranian                         Chow\n",
       "11            French Bulldog  Labrador Retriever                       Muzzle"
      ]
     },
     "execution_count": 64,
     "metadata": {},
     "output_type": "execute_result"
    }
   ],
   "source": [
    "tweet_new_df[['p1','p2','p3']].head(10)"
   ]
  },
  {
   "cell_type": "markdown",
   "metadata": {},
   "source": [
    "#### Define: Restructure and Delete `p1`,`p1_conf`,`p1_dog`,`p2`,`p2_conf`,`p2_dog`,`p3`,`p3_conf`,`p3_dog` columns"
   ]
  },
  {
   "cell_type": "markdown",
   "metadata": {},
   "source": [
    "#### Code:"
   ]
  },
  {
   "cell_type": "code",
   "execution_count": 65,
   "metadata": {},
   "outputs": [],
   "source": [
    "# creating 2 empty lists to save choices for each row in the dataset\n",
    "\n",
    "dog_breed = []\n",
    "breed_confidence = []\n",
    "\n",
    "# this function iterates through prediction columns to find the best prediction which is a breed of dog\n",
    "\n",
    "def confidence(row):\n",
    "    if row['p1_dog'] == True:\n",
    "        dog_breed.append(row['p1'])\n",
    "        breed_confidence.append(row['p1_conf'])\n",
    "    elif row['p2_dog'] == True:\n",
    "        dog_breed.append(row['p2'])\n",
    "        breed_confidence.append(row['p2_conf'])\n",
    "    elif row['p3_dog'] == True:\n",
    "        dog_breed.append(row['p3'])\n",
    "        breed_confidence.append(row['p3_conf'])\n",
    "    else:\n",
    "        dog_breed.append('Unknown')\n",
    "        breed_confidence.append(0)\n",
    "        \n",
    "\n",
    "tweet_new_df.apply(confidence, axis=1)\n",
    "\n",
    "# adding to dataframe\n",
    "\n",
    "tweet_new_df['dog_breed'] = dog_breed\n",
    "tweet_new_df['breed_confidence'] = breed_confidence"
   ]
  },
  {
   "cell_type": "code",
   "execution_count": 66,
   "metadata": {},
   "outputs": [],
   "source": [
    "# Drop 'p1','p1_conf','p1_dog','p2','p2_conf','p2_dog','p3','p3_conf','p3_dog' columns\n",
    "\n",
    "tweet_new_df = tweet_new_df.drop(['p1','p1_conf','p1_dog','p2','p2_conf','p2_dog','p3','p3_conf','p3_dog'],axis=1)"
   ]
  },
  {
   "cell_type": "markdown",
   "metadata": {},
   "source": [
    "#### Test:"
   ]
  },
  {
   "cell_type": "code",
   "execution_count": 67,
   "metadata": {},
   "outputs": [
    {
     "name": "stdout",
     "output_type": "stream",
     "text": [
      "<class 'pandas.core.frame.DataFrame'>\n",
      "Int64Index: 1548 entries, 1 to 2072\n",
      "Data columns (total 22 columns):\n",
      " #   Column                      Non-Null Count  Dtype  \n",
      "---  ------                      --------------  -----  \n",
      " 0   tweet_id                    1548 non-null   int64  \n",
      " 1   in_reply_to_status_id       14 non-null     float64\n",
      " 2   in_reply_to_user_id         14 non-null     float64\n",
      " 3   timestamp                   1548 non-null   object \n",
      " 4   source                      1548 non-null   object \n",
      " 5   text                        1548 non-null   object \n",
      " 6   retweeted_status_id         55 non-null     float64\n",
      " 7   retweeted_status_user_id    55 non-null     float64\n",
      " 8   retweeted_status_timestamp  55 non-null     object \n",
      " 9   expanded_urls               1548 non-null   object \n",
      " 10  rating_numerator            1548 non-null   int64  \n",
      " 11  rating_denominator          1548 non-null   int64  \n",
      " 12  name                        1548 non-null   object \n",
      " 13  jpg_url                     1548 non-null   object \n",
      " 14  img_num                     1548 non-null   int64  \n",
      " 15  retweet_count               1548 non-null   int64  \n",
      " 16  favorite_count              1548 non-null   int64  \n",
      " 17  created_at                  1548 non-null   object \n",
      " 18  full_text                   1548 non-null   object \n",
      " 19  dog_types                   1548 non-null   object \n",
      " 20  dog_breed                   1548 non-null   object \n",
      " 21  breed_confidence            1548 non-null   float64\n",
      "dtypes: float64(5), int64(6), object(11)\n",
      "memory usage: 278.2+ KB\n"
     ]
    }
   ],
   "source": [
    "tweet_new_df.info()"
   ]
  },
  {
   "cell_type": "markdown",
   "metadata": {},
   "source": [
    "### Issue #2: From here on, we will be taking care of the remaining quality issues"
   ]
  },
  {
   "cell_type": "markdown",
   "metadata": {},
   "source": [
    "#### Define: Clear all retweets and replies"
   ]
  },
  {
   "cell_type": "markdown",
   "metadata": {},
   "source": [
    "#### Code:"
   ]
  },
  {
   "cell_type": "code",
   "execution_count": 68,
   "metadata": {},
   "outputs": [],
   "source": [
    "tweet_new_df = tweet_new_df[tweet_new_df.in_reply_to_status_id.isnull() == True]\n",
    "tweet_new_df = tweet_new_df[tweet_new_df.retweeted_status_id.isnull() == True]"
   ]
  },
  {
   "cell_type": "markdown",
   "metadata": {},
   "source": [
    "#### Test:"
   ]
  },
  {
   "cell_type": "code",
   "execution_count": 69,
   "metadata": {},
   "outputs": [
    {
     "name": "stdout",
     "output_type": "stream",
     "text": [
      "<class 'pandas.core.frame.DataFrame'>\n",
      "Int64Index: 1479 entries, 1 to 2072\n",
      "Data columns (total 22 columns):\n",
      " #   Column                      Non-Null Count  Dtype  \n",
      "---  ------                      --------------  -----  \n",
      " 0   tweet_id                    1479 non-null   int64  \n",
      " 1   in_reply_to_status_id       0 non-null      float64\n",
      " 2   in_reply_to_user_id         0 non-null      float64\n",
      " 3   timestamp                   1479 non-null   object \n",
      " 4   source                      1479 non-null   object \n",
      " 5   text                        1479 non-null   object \n",
      " 6   retweeted_status_id         0 non-null      float64\n",
      " 7   retweeted_status_user_id    0 non-null      float64\n",
      " 8   retweeted_status_timestamp  0 non-null      object \n",
      " 9   expanded_urls               1479 non-null   object \n",
      " 10  rating_numerator            1479 non-null   int64  \n",
      " 11  rating_denominator          1479 non-null   int64  \n",
      " 12  name                        1479 non-null   object \n",
      " 13  jpg_url                     1479 non-null   object \n",
      " 14  img_num                     1479 non-null   int64  \n",
      " 15  retweet_count               1479 non-null   int64  \n",
      " 16  favorite_count              1479 non-null   int64  \n",
      " 17  created_at                  1479 non-null   object \n",
      " 18  full_text                   1479 non-null   object \n",
      " 19  dog_types                   1479 non-null   object \n",
      " 20  dog_breed                   1479 non-null   object \n",
      " 21  breed_confidence            1479 non-null   float64\n",
      "dtypes: float64(5), int64(6), object(11)\n",
      "memory usage: 265.8+ KB\n"
     ]
    }
   ],
   "source": [
    "tweet_new_df.info()"
   ]
  },
  {
   "cell_type": "markdown",
   "metadata": {},
   "source": [
    "#### Define: Drop all retweets and replies column, expanded_urls and source column as they would no longer be needed"
   ]
  },
  {
   "cell_type": "markdown",
   "metadata": {},
   "source": [
    "#### Code:"
   ]
  },
  {
   "cell_type": "code",
   "execution_count": 70,
   "metadata": {},
   "outputs": [],
   "source": [
    "remove_cols = ['in_reply_to_status_id', 'in_reply_to_user_id', 'retweeted_status_id', 'retweeted_status_user_id', \n",
    "               'retweeted_status_timestamp', 'expanded_urls', 'source','text','img_num', 'jpg_url', 'timestamp']\n",
    "tweet_new_df.drop(columns=remove_cols, inplace=True)"
   ]
  },
  {
   "cell_type": "markdown",
   "metadata": {},
   "source": [
    "#### Test"
   ]
  },
  {
   "cell_type": "code",
   "execution_count": 71,
   "metadata": {},
   "outputs": [
    {
     "name": "stdout",
     "output_type": "stream",
     "text": [
      "<class 'pandas.core.frame.DataFrame'>\n",
      "Int64Index: 1479 entries, 1 to 2072\n",
      "Data columns (total 11 columns):\n",
      " #   Column              Non-Null Count  Dtype  \n",
      "---  ------              --------------  -----  \n",
      " 0   tweet_id            1479 non-null   int64  \n",
      " 1   rating_numerator    1479 non-null   int64  \n",
      " 2   rating_denominator  1479 non-null   int64  \n",
      " 3   name                1479 non-null   object \n",
      " 4   retweet_count       1479 non-null   int64  \n",
      " 5   favorite_count      1479 non-null   int64  \n",
      " 6   created_at          1479 non-null   object \n",
      " 7   full_text           1479 non-null   object \n",
      " 8   dog_types           1479 non-null   object \n",
      " 9   dog_breed           1479 non-null   object \n",
      " 10  breed_confidence    1479 non-null   float64\n",
      "dtypes: float64(1), int64(5), object(5)\n",
      "memory usage: 138.7+ KB\n"
     ]
    }
   ],
   "source": [
    "tweet_new_df.info()"
   ]
  },
  {
   "cell_type": "markdown",
   "metadata": {},
   "source": [
    "#### Define: Correct the Data Types"
   ]
  },
  {
   "cell_type": "markdown",
   "metadata": {},
   "source": [
    "#### Code:"
   ]
  },
  {
   "cell_type": "code",
   "execution_count": 72,
   "metadata": {},
   "outputs": [],
   "source": [
    "# created_at to datetime\n",
    "tweet_new_df.created_at = pd.to_datetime(tweet_new_df['created_at'])\n",
    "\n",
    "# tweet_id to str\n",
    "tweet_new_df.tweet_id = tweet_new_df.tweet_id.astype(str)\n",
    "\n",
    "# ratings to float\n",
    "tweet_new_df.rating_denominator = tweet_new_df.rating_denominator.astype(float)\n",
    "tweet_new_df.rating_numerator = tweet_new_df.rating_numerator.astype(float)"
   ]
  },
  {
   "cell_type": "markdown",
   "metadata": {},
   "source": [
    "#### Test:"
   ]
  },
  {
   "cell_type": "code",
   "execution_count": 73,
   "metadata": {},
   "outputs": [
    {
     "name": "stdout",
     "output_type": "stream",
     "text": [
      "<class 'pandas.core.frame.DataFrame'>\n",
      "Int64Index: 1479 entries, 1 to 2072\n",
      "Data columns (total 11 columns):\n",
      " #   Column              Non-Null Count  Dtype              \n",
      "---  ------              --------------  -----              \n",
      " 0   tweet_id            1479 non-null   object             \n",
      " 1   rating_numerator    1479 non-null   float64            \n",
      " 2   rating_denominator  1479 non-null   float64            \n",
      " 3   name                1479 non-null   object             \n",
      " 4   retweet_count       1479 non-null   int64              \n",
      " 5   favorite_count      1479 non-null   int64              \n",
      " 6   created_at          1479 non-null   datetime64[ns, UTC]\n",
      " 7   full_text           1479 non-null   object             \n",
      " 8   dog_types           1479 non-null   object             \n",
      " 9   dog_breed           1479 non-null   object             \n",
      " 10  breed_confidence    1479 non-null   float64            \n",
      "dtypes: datetime64[ns, UTC](1), float64(3), int64(2), object(5)\n",
      "memory usage: 138.7+ KB\n"
     ]
    }
   ],
   "source": [
    "tweet_new_df.info()"
   ]
  },
  {
   "cell_type": "markdown",
   "metadata": {},
   "source": [
    "#### Define:  Correct erroneous names"
   ]
  },
  {
   "cell_type": "markdown",
   "metadata": {},
   "source": [
    "#### Code:"
   ]
  },
  {
   "cell_type": "code",
   "execution_count": 74,
   "metadata": {
    "scrolled": true
   },
   "outputs": [
    {
     "data": {
      "text/plain": [
       "None          353\n",
       "a              43\n",
       "Cooper         10\n",
       "Charlie        10\n",
       "Oliver          9\n",
       "             ... \n",
       "Grey            1\n",
       "Willem          1\n",
       "Davey           1\n",
       "Fizz            1\n",
       "Christoper      1\n",
       "Name: name, Length: 770, dtype: int64"
      ]
     },
     "execution_count": 74,
     "metadata": {},
     "output_type": "execute_result"
    }
   ],
   "source": [
    "tweet_new_df.name.value_counts()"
   ]
  },
  {
   "cell_type": "code",
   "execution_count": 75,
   "metadata": {
    "scrolled": true
   },
   "outputs": [
    {
     "data": {
      "text/html": [
       "<div>\n",
       "<style scoped>\n",
       "    .dataframe tbody tr th:only-of-type {\n",
       "        vertical-align: middle;\n",
       "    }\n",
       "\n",
       "    .dataframe tbody tr th {\n",
       "        vertical-align: top;\n",
       "    }\n",
       "\n",
       "    .dataframe thead th {\n",
       "        text-align: right;\n",
       "    }\n",
       "</style>\n",
       "<table border=\"1\" class=\"dataframe\">\n",
       "  <thead>\n",
       "    <tr style=\"text-align: right;\">\n",
       "      <th></th>\n",
       "      <th>tweet_id</th>\n",
       "      <th>full_text</th>\n",
       "      <th>name</th>\n",
       "    </tr>\n",
       "  </thead>\n",
       "  <tbody>\n",
       "    <tr>\n",
       "      <th>50</th>\n",
       "      <td>881536004380872706</td>\n",
       "      <td>Here is a pupper approaching maximum borkdrive...</td>\n",
       "      <td>a</td>\n",
       "    </tr>\n",
       "    <tr>\n",
       "      <th>155</th>\n",
       "      <td>855459453768019968</td>\n",
       "      <td>Guys, we only rate dogs. This is quite clearly...</td>\n",
       "      <td>quite</td>\n",
       "    </tr>\n",
       "    <tr>\n",
       "      <th>293</th>\n",
       "      <td>828650029636317184</td>\n",
       "      <td>Occasionally, we're sent fantastic stories. Th...</td>\n",
       "      <td>one</td>\n",
       "    </tr>\n",
       "    <tr>\n",
       "      <th>438</th>\n",
       "      <td>806219024703037440</td>\n",
       "      <td>We only rate dogs. Please stop sending in non-...</td>\n",
       "      <td>incredibly</td>\n",
       "    </tr>\n",
       "    <tr>\n",
       "      <th>647</th>\n",
       "      <td>772581559778025472</td>\n",
       "      <td>Guys this is getting so out of hand. We only r...</td>\n",
       "      <td>a</td>\n",
       "    </tr>\n",
       "    <tr>\n",
       "      <th>...</th>\n",
       "      <td>...</td>\n",
       "      <td>...</td>\n",
       "      <td>...</td>\n",
       "    </tr>\n",
       "    <tr>\n",
       "      <th>2065</th>\n",
       "      <td>666055525042405380</td>\n",
       "      <td>Here is a Siberian heavily armored polar bear ...</td>\n",
       "      <td>a</td>\n",
       "    </tr>\n",
       "    <tr>\n",
       "      <th>2067</th>\n",
       "      <td>666050758794694657</td>\n",
       "      <td>This is a truly beautiful English Wilson Staff...</td>\n",
       "      <td>a</td>\n",
       "    </tr>\n",
       "    <tr>\n",
       "      <th>2069</th>\n",
       "      <td>666044226329800704</td>\n",
       "      <td>This is a purebred Piers Morgan. Loves to Netf...</td>\n",
       "      <td>a</td>\n",
       "    </tr>\n",
       "    <tr>\n",
       "      <th>2070</th>\n",
       "      <td>666033412701032449</td>\n",
       "      <td>Here is a very happy pup. Big fan of well-main...</td>\n",
       "      <td>a</td>\n",
       "    </tr>\n",
       "    <tr>\n",
       "      <th>2071</th>\n",
       "      <td>666029285002620928</td>\n",
       "      <td>This is a western brown Mitsubishi terrier. Up...</td>\n",
       "      <td>a</td>\n",
       "    </tr>\n",
       "  </tbody>\n",
       "</table>\n",
       "<p>71 rows × 3 columns</p>\n",
       "</div>"
      ],
      "text/plain": [
       "                tweet_id                                          full_text  \\\n",
       "50    881536004380872706  Here is a pupper approaching maximum borkdrive...   \n",
       "155   855459453768019968  Guys, we only rate dogs. This is quite clearly...   \n",
       "293   828650029636317184  Occasionally, we're sent fantastic stories. Th...   \n",
       "438   806219024703037440  We only rate dogs. Please stop sending in non-...   \n",
       "647   772581559778025472  Guys this is getting so out of hand. We only r...   \n",
       "...                  ...                                                ...   \n",
       "2065  666055525042405380  Here is a Siberian heavily armored polar bear ...   \n",
       "2067  666050758794694657  This is a truly beautiful English Wilson Staff...   \n",
       "2069  666044226329800704  This is a purebred Piers Morgan. Loves to Netf...   \n",
       "2070  666033412701032449  Here is a very happy pup. Big fan of well-main...   \n",
       "2071  666029285002620928  This is a western brown Mitsubishi terrier. Up...   \n",
       "\n",
       "            name  \n",
       "50             a  \n",
       "155        quite  \n",
       "293          one  \n",
       "438   incredibly  \n",
       "647            a  \n",
       "...          ...  \n",
       "2065           a  \n",
       "2067           a  \n",
       "2069           a  \n",
       "2070           a  \n",
       "2071           a  \n",
       "\n",
       "[71 rows x 3 columns]"
      ]
     },
     "execution_count": 75,
     "metadata": {},
     "output_type": "execute_result"
    }
   ],
   "source": [
    "# Show all names that start with lower case\n",
    "\n",
    "tweet_new_df[tweet_new_df['name'].str.islower()][['tweet_id','full_text','name']]"
   ]
  },
  {
   "cell_type": "code",
   "execution_count": 76,
   "metadata": {},
   "outputs": [],
   "source": [
    "# Creating 3 lists:\n",
    "\n",
    "## lwr_name_is where the name starts with lower case and the `full_text` column includes the string \"name is\":\n",
    "## lwr_named where the name starts with lower case and the `full_text` column includes the string \"named\":\n",
    "## lwr where the name starts with lower case:\n",
    "\n",
    "lwr_name_is = tweet_new_df.loc[(tweet_new_df['name'].str.islower()) & (tweet_new_df['full_text'].str.contains('name is'))]['tweet_id'].tolist()\n",
    "\n",
    "lwr_named = tweet_new_df.loc[(tweet_new_df['name'].str.islower()) & (tweet_new_df['full_text'].str.contains('named'))]['tweet_id'].tolist()\n",
    "\n",
    "lwr = tweet_new_df.loc[(tweet_new_df['name'].str.islower())]['tweet_id'].tolist()\n",
    "\n",
    "\n",
    "# a loop that returns the word after the string \"name is\" and assigns it to column 'name'\n",
    "\n",
    "for twt in lwr_name_is:\n",
    "    text = tweet_new_df.full_text[tweet_new_df.tweet_id == twt].iloc[0]\n",
    "    tweet_new_df.loc[tweet_new_df.tweet_id == twt,'name'] = re.findall(\"name is\\s(\\w+)\", text)\n",
    "\n",
    "# a loop that returns the word after the string \"name is\" and assigns it to column 'name'\n",
    "\n",
    "for twt in lwr_named:\n",
    "    text = tweet_new_df.full_text[tweet_new_df.tweet_id == twt].iloc[0]\n",
    "    tweet_new_df.loc[tweet_new_df.tweet_id == twt,'name'] = re.findall(r\"named\\s(\\w+)\", text)    \n",
    "\n",
    "# ar loop that assigns \"None\" to column 'name'\n",
    "for twt in lwr:\n",
    "    text = tweet_new_df.full_text[tweet_new_df.tweet_id == twt].iloc[0]\n",
    "    tweet_new_df.loc[tweet_new_df.tweet_id == twt,'name'] = \"None\""
   ]
  },
  {
   "cell_type": "code",
   "execution_count": 77,
   "metadata": {},
   "outputs": [],
   "source": [
    "# drop dog names with None\n",
    "tweet_new_df = tweet_new_df.loc[tweet_new_df.name != 'None']\n",
    "\n",
    "# drop text that says 'We only rate dogs'\n",
    "remove_row = tweet_new_df[tweet_new_df['full_text'].str.contains(\"We only rate dogs\")][\"tweet_id\"].index\n",
    "tweet_new_df.drop(remove_row, inplace=True)"
   ]
  },
  {
   "cell_type": "markdown",
   "metadata": {},
   "source": [
    "#### Test:"
   ]
  },
  {
   "cell_type": "code",
   "execution_count": 78,
   "metadata": {
    "scrolled": true
   },
   "outputs": [
    {
     "data": {
      "text/plain": [
       "Charlie       10\n",
       "Cooper        10\n",
       "Oliver         9\n",
       "Lucy           8\n",
       "Tucker         8\n",
       "              ..\n",
       "Grey           1\n",
       "Willem         1\n",
       "Davey          1\n",
       "Fizz           1\n",
       "Christoper     1\n",
       "Name: name, Length: 753, dtype: int64"
      ]
     },
     "execution_count": 78,
     "metadata": {},
     "output_type": "execute_result"
    }
   ],
   "source": [
    "tweet_new_df.name.value_counts()"
   ]
  },
  {
   "cell_type": "code",
   "execution_count": 79,
   "metadata": {
    "scrolled": true
   },
   "outputs": [
    {
     "data": {
      "text/html": [
       "<div>\n",
       "<style scoped>\n",
       "    .dataframe tbody tr th:only-of-type {\n",
       "        vertical-align: middle;\n",
       "    }\n",
       "\n",
       "    .dataframe tbody tr th {\n",
       "        vertical-align: top;\n",
       "    }\n",
       "\n",
       "    .dataframe thead th {\n",
       "        text-align: right;\n",
       "    }\n",
       "</style>\n",
       "<table border=\"1\" class=\"dataframe\">\n",
       "  <thead>\n",
       "    <tr style=\"text-align: right;\">\n",
       "      <th></th>\n",
       "      <th>tweet_id</th>\n",
       "      <th>rating_numerator</th>\n",
       "      <th>rating_denominator</th>\n",
       "      <th>name</th>\n",
       "      <th>retweet_count</th>\n",
       "      <th>favorite_count</th>\n",
       "      <th>created_at</th>\n",
       "      <th>full_text</th>\n",
       "      <th>dog_types</th>\n",
       "      <th>dog_breed</th>\n",
       "      <th>breed_confidence</th>\n",
       "    </tr>\n",
       "  </thead>\n",
       "  <tbody>\n",
       "    <tr>\n",
       "      <th>1</th>\n",
       "      <td>892177421306343426</td>\n",
       "      <td>13.0</td>\n",
       "      <td>10.0</td>\n",
       "      <td>Tilly</td>\n",
       "      <td>6514</td>\n",
       "      <td>33819</td>\n",
       "      <td>2017-08-01 00:17:27+00:00</td>\n",
       "      <td>This is Tilly. She's just checking pup on you....</td>\n",
       "      <td></td>\n",
       "      <td>Chihuahua</td>\n",
       "      <td>0.323581</td>\n",
       "    </tr>\n",
       "    <tr>\n",
       "      <th>2</th>\n",
       "      <td>891815181378084864</td>\n",
       "      <td>12.0</td>\n",
       "      <td>10.0</td>\n",
       "      <td>Archie</td>\n",
       "      <td>4328</td>\n",
       "      <td>25461</td>\n",
       "      <td>2017-07-31 00:18:03+00:00</td>\n",
       "      <td>This is Archie. He is a rare Norwegian Pouncin...</td>\n",
       "      <td></td>\n",
       "      <td>Chihuahua</td>\n",
       "      <td>0.716012</td>\n",
       "    </tr>\n",
       "    <tr>\n",
       "      <th>4</th>\n",
       "      <td>891327558926688256</td>\n",
       "      <td>12.0</td>\n",
       "      <td>10.0</td>\n",
       "      <td>Franklin</td>\n",
       "      <td>9774</td>\n",
       "      <td>41048</td>\n",
       "      <td>2017-07-29 16:00:24+00:00</td>\n",
       "      <td>This is Franklin. He would like you to stop ca...</td>\n",
       "      <td></td>\n",
       "      <td>Basset</td>\n",
       "      <td>0.555712</td>\n",
       "    </tr>\n",
       "    <tr>\n",
       "      <th>6</th>\n",
       "      <td>890971913173991426</td>\n",
       "      <td>13.0</td>\n",
       "      <td>10.0</td>\n",
       "      <td>Jax</td>\n",
       "      <td>2158</td>\n",
       "      <td>12041</td>\n",
       "      <td>2017-07-28 16:27:12+00:00</td>\n",
       "      <td>Meet Jax. He enjoys ice cream so much he gets ...</td>\n",
       "      <td></td>\n",
       "      <td>Appenzeller</td>\n",
       "      <td>0.341703</td>\n",
       "    </tr>\n",
       "    <tr>\n",
       "      <th>8</th>\n",
       "      <td>890609185150312448</td>\n",
       "      <td>13.0</td>\n",
       "      <td>10.0</td>\n",
       "      <td>Zoey</td>\n",
       "      <td>4429</td>\n",
       "      <td>28226</td>\n",
       "      <td>2017-07-27 16:25:51+00:00</td>\n",
       "      <td>This is Zoey. She doesn't want to be one of th...</td>\n",
       "      <td></td>\n",
       "      <td>Irish Terrier</td>\n",
       "      <td>0.487574</td>\n",
       "    </tr>\n",
       "    <tr>\n",
       "      <th>...</th>\n",
       "      <td>...</td>\n",
       "      <td>...</td>\n",
       "      <td>...</td>\n",
       "      <td>...</td>\n",
       "      <td>...</td>\n",
       "      <td>...</td>\n",
       "      <td>...</td>\n",
       "      <td>...</td>\n",
       "      <td>...</td>\n",
       "      <td>...</td>\n",
       "      <td>...</td>\n",
       "    </tr>\n",
       "    <tr>\n",
       "      <th>2032</th>\n",
       "      <td>666691418707132416</td>\n",
       "      <td>8.0</td>\n",
       "      <td>10.0</td>\n",
       "      <td>Christoper</td>\n",
       "      <td>51</td>\n",
       "      <td>196</td>\n",
       "      <td>2015-11-17 18:56:35+00:00</td>\n",
       "      <td>This is Christoper. He is a spotted Penne. Can...</td>\n",
       "      <td></td>\n",
       "      <td>German Shepherd</td>\n",
       "      <td>0.975401</td>\n",
       "    </tr>\n",
       "    <tr>\n",
       "      <th>2034</th>\n",
       "      <td>666644823164719104</td>\n",
       "      <td>9.0</td>\n",
       "      <td>10.0</td>\n",
       "      <td>Jimothy</td>\n",
       "      <td>88</td>\n",
       "      <td>238</td>\n",
       "      <td>2015-11-17 15:51:26+00:00</td>\n",
       "      <td>This is Jimothy. He is a Botwanian Gouda. Can ...</td>\n",
       "      <td></td>\n",
       "      <td>Ibizan Hound</td>\n",
       "      <td>0.044333</td>\n",
       "    </tr>\n",
       "    <tr>\n",
       "      <th>2035</th>\n",
       "      <td>666454714377183233</td>\n",
       "      <td>10.0</td>\n",
       "      <td>10.0</td>\n",
       "      <td>Kreggory</td>\n",
       "      <td>223</td>\n",
       "      <td>545</td>\n",
       "      <td>2015-11-17 03:16:00+00:00</td>\n",
       "      <td>I'll name the dogs from now on. This is Kreggo...</td>\n",
       "      <td></td>\n",
       "      <td>Dalmatian</td>\n",
       "      <td>0.278954</td>\n",
       "    </tr>\n",
       "    <tr>\n",
       "      <th>2036</th>\n",
       "      <td>666447344410484738</td>\n",
       "      <td>9.0</td>\n",
       "      <td>10.0</td>\n",
       "      <td>Scout</td>\n",
       "      <td>23</td>\n",
       "      <td>107</td>\n",
       "      <td>2015-11-17 02:46:43+00:00</td>\n",
       "      <td>This is Scout. She is a black Downton Abbey. I...</td>\n",
       "      <td></td>\n",
       "      <td>Curly-Coated Retriever</td>\n",
       "      <td>0.322084</td>\n",
       "    </tr>\n",
       "    <tr>\n",
       "      <th>2042</th>\n",
       "      <td>666418789513326592</td>\n",
       "      <td>10.0</td>\n",
       "      <td>10.0</td>\n",
       "      <td>Walter</td>\n",
       "      <td>48</td>\n",
       "      <td>129</td>\n",
       "      <td>2015-11-17 00:53:15+00:00</td>\n",
       "      <td>This is Walter. He is an Alaskan Terrapin. Lov...</td>\n",
       "      <td></td>\n",
       "      <td>Toy Terrier</td>\n",
       "      <td>0.149680</td>\n",
       "    </tr>\n",
       "  </tbody>\n",
       "</table>\n",
       "<p>1055 rows × 11 columns</p>\n",
       "</div>"
      ],
      "text/plain": [
       "                tweet_id  rating_numerator  rating_denominator        name  \\\n",
       "1     892177421306343426              13.0                10.0       Tilly   \n",
       "2     891815181378084864              12.0                10.0      Archie   \n",
       "4     891327558926688256              12.0                10.0    Franklin   \n",
       "6     890971913173991426              13.0                10.0         Jax   \n",
       "8     890609185150312448              13.0                10.0        Zoey   \n",
       "...                  ...               ...                 ...         ...   \n",
       "2032  666691418707132416               8.0                10.0  Christoper   \n",
       "2034  666644823164719104               9.0                10.0     Jimothy   \n",
       "2035  666454714377183233              10.0                10.0    Kreggory   \n",
       "2036  666447344410484738               9.0                10.0       Scout   \n",
       "2042  666418789513326592              10.0                10.0      Walter   \n",
       "\n",
       "      retweet_count  favorite_count                created_at  \\\n",
       "1              6514           33819 2017-08-01 00:17:27+00:00   \n",
       "2              4328           25461 2017-07-31 00:18:03+00:00   \n",
       "4              9774           41048 2017-07-29 16:00:24+00:00   \n",
       "6              2158           12041 2017-07-28 16:27:12+00:00   \n",
       "8              4429           28226 2017-07-27 16:25:51+00:00   \n",
       "...             ...             ...                       ...   \n",
       "2032             51             196 2015-11-17 18:56:35+00:00   \n",
       "2034             88             238 2015-11-17 15:51:26+00:00   \n",
       "2035            223             545 2015-11-17 03:16:00+00:00   \n",
       "2036             23             107 2015-11-17 02:46:43+00:00   \n",
       "2042             48             129 2015-11-17 00:53:15+00:00   \n",
       "\n",
       "                                              full_text dog_types  \\\n",
       "1     This is Tilly. She's just checking pup on you....             \n",
       "2     This is Archie. He is a rare Norwegian Pouncin...             \n",
       "4     This is Franklin. He would like you to stop ca...             \n",
       "6     Meet Jax. He enjoys ice cream so much he gets ...             \n",
       "8     This is Zoey. She doesn't want to be one of th...             \n",
       "...                                                 ...       ...   \n",
       "2032  This is Christoper. He is a spotted Penne. Can...             \n",
       "2034  This is Jimothy. He is a Botwanian Gouda. Can ...             \n",
       "2035  I'll name the dogs from now on. This is Kreggo...             \n",
       "2036  This is Scout. She is a black Downton Abbey. I...             \n",
       "2042  This is Walter. He is an Alaskan Terrapin. Lov...             \n",
       "\n",
       "                   dog_breed  breed_confidence  \n",
       "1                  Chihuahua          0.323581  \n",
       "2                  Chihuahua          0.716012  \n",
       "4                     Basset          0.555712  \n",
       "6                Appenzeller          0.341703  \n",
       "8              Irish Terrier          0.487574  \n",
       "...                      ...               ...  \n",
       "2032         German Shepherd          0.975401  \n",
       "2034            Ibizan Hound          0.044333  \n",
       "2035               Dalmatian          0.278954  \n",
       "2036  Curly-Coated Retriever          0.322084  \n",
       "2042             Toy Terrier          0.149680  \n",
       "\n",
       "[1055 rows x 11 columns]"
      ]
     },
     "execution_count": 79,
     "metadata": {},
     "output_type": "execute_result"
    }
   ],
   "source": [
    "tweet_new_df"
   ]
  },
  {
   "cell_type": "code",
   "execution_count": 80,
   "metadata": {
    "scrolled": true
   },
   "outputs": [
    {
     "data": {
      "text/html": [
       "<div>\n",
       "<style scoped>\n",
       "    .dataframe tbody tr th:only-of-type {\n",
       "        vertical-align: middle;\n",
       "    }\n",
       "\n",
       "    .dataframe tbody tr th {\n",
       "        vertical-align: top;\n",
       "    }\n",
       "\n",
       "    .dataframe thead th {\n",
       "        text-align: right;\n",
       "    }\n",
       "</style>\n",
       "<table border=\"1\" class=\"dataframe\">\n",
       "  <thead>\n",
       "    <tr style=\"text-align: right;\">\n",
       "      <th></th>\n",
       "      <th>tweet_id</th>\n",
       "      <th>rating_numerator</th>\n",
       "      <th>rating_denominator</th>\n",
       "      <th>name</th>\n",
       "      <th>retweet_count</th>\n",
       "      <th>favorite_count</th>\n",
       "      <th>created_at</th>\n",
       "      <th>full_text</th>\n",
       "      <th>dog_types</th>\n",
       "      <th>dog_breed</th>\n",
       "      <th>breed_confidence</th>\n",
       "    </tr>\n",
       "  </thead>\n",
       "  <tbody>\n",
       "    <tr>\n",
       "      <th>1</th>\n",
       "      <td>892177421306343426</td>\n",
       "      <td>13.0</td>\n",
       "      <td>10.0</td>\n",
       "      <td>Tilly</td>\n",
       "      <td>6514</td>\n",
       "      <td>33819</td>\n",
       "      <td>2017-08-01 00:17:27+00:00</td>\n",
       "      <td>This is Tilly. She's just checking pup on you....</td>\n",
       "      <td></td>\n",
       "      <td>Chihuahua</td>\n",
       "      <td>0.323581</td>\n",
       "    </tr>\n",
       "    <tr>\n",
       "      <th>2</th>\n",
       "      <td>891815181378084864</td>\n",
       "      <td>12.0</td>\n",
       "      <td>10.0</td>\n",
       "      <td>Archie</td>\n",
       "      <td>4328</td>\n",
       "      <td>25461</td>\n",
       "      <td>2017-07-31 00:18:03+00:00</td>\n",
       "      <td>This is Archie. He is a rare Norwegian Pouncin...</td>\n",
       "      <td></td>\n",
       "      <td>Chihuahua</td>\n",
       "      <td>0.716012</td>\n",
       "    </tr>\n",
       "    <tr>\n",
       "      <th>4</th>\n",
       "      <td>891327558926688256</td>\n",
       "      <td>12.0</td>\n",
       "      <td>10.0</td>\n",
       "      <td>Franklin</td>\n",
       "      <td>9774</td>\n",
       "      <td>41048</td>\n",
       "      <td>2017-07-29 16:00:24+00:00</td>\n",
       "      <td>This is Franklin. He would like you to stop ca...</td>\n",
       "      <td></td>\n",
       "      <td>Basset</td>\n",
       "      <td>0.555712</td>\n",
       "    </tr>\n",
       "    <tr>\n",
       "      <th>6</th>\n",
       "      <td>890971913173991426</td>\n",
       "      <td>13.0</td>\n",
       "      <td>10.0</td>\n",
       "      <td>Jax</td>\n",
       "      <td>2158</td>\n",
       "      <td>12041</td>\n",
       "      <td>2017-07-28 16:27:12+00:00</td>\n",
       "      <td>Meet Jax. He enjoys ice cream so much he gets ...</td>\n",
       "      <td></td>\n",
       "      <td>Appenzeller</td>\n",
       "      <td>0.341703</td>\n",
       "    </tr>\n",
       "    <tr>\n",
       "      <th>8</th>\n",
       "      <td>890609185150312448</td>\n",
       "      <td>13.0</td>\n",
       "      <td>10.0</td>\n",
       "      <td>Zoey</td>\n",
       "      <td>4429</td>\n",
       "      <td>28226</td>\n",
       "      <td>2017-07-27 16:25:51+00:00</td>\n",
       "      <td>This is Zoey. She doesn't want to be one of th...</td>\n",
       "      <td></td>\n",
       "      <td>Irish Terrier</td>\n",
       "      <td>0.487574</td>\n",
       "    </tr>\n",
       "  </tbody>\n",
       "</table>\n",
       "</div>"
      ],
      "text/plain": [
       "             tweet_id  rating_numerator  rating_denominator      name  \\\n",
       "1  892177421306343426              13.0                10.0     Tilly   \n",
       "2  891815181378084864              12.0                10.0    Archie   \n",
       "4  891327558926688256              12.0                10.0  Franklin   \n",
       "6  890971913173991426              13.0                10.0       Jax   \n",
       "8  890609185150312448              13.0                10.0      Zoey   \n",
       "\n",
       "   retweet_count  favorite_count                created_at  \\\n",
       "1           6514           33819 2017-08-01 00:17:27+00:00   \n",
       "2           4328           25461 2017-07-31 00:18:03+00:00   \n",
       "4           9774           41048 2017-07-29 16:00:24+00:00   \n",
       "6           2158           12041 2017-07-28 16:27:12+00:00   \n",
       "8           4429           28226 2017-07-27 16:25:51+00:00   \n",
       "\n",
       "                                           full_text dog_types      dog_breed  \\\n",
       "1  This is Tilly. She's just checking pup on you....                Chihuahua   \n",
       "2  This is Archie. He is a rare Norwegian Pouncin...                Chihuahua   \n",
       "4  This is Franklin. He would like you to stop ca...                   Basset   \n",
       "6  Meet Jax. He enjoys ice cream so much he gets ...              Appenzeller   \n",
       "8  This is Zoey. She doesn't want to be one of th...            Irish Terrier   \n",
       "\n",
       "   breed_confidence  \n",
       "1          0.323581  \n",
       "2          0.716012  \n",
       "4          0.555712  \n",
       "6          0.341703  \n",
       "8          0.487574  "
      ]
     },
     "execution_count": 80,
     "metadata": {},
     "output_type": "execute_result"
    }
   ],
   "source": [
    "tweet_new_df.head(5)"
   ]
  },
  {
   "cell_type": "markdown",
   "metadata": {},
   "source": [
    "#### Define: Rearrange the columns"
   ]
  },
  {
   "cell_type": "markdown",
   "metadata": {},
   "source": [
    "#### Code:"
   ]
  },
  {
   "cell_type": "code",
   "execution_count": 81,
   "metadata": {},
   "outputs": [],
   "source": [
    "# Create a list to re-sort the dataframe columns\n",
    "sort_cols = ['tweet_id', 'created_at', 'name','full_text','dog_types', 'dog_breed','retweet_count', 'favorite_count',\n",
    "             'rating_numerator', 'rating_denominator', 'breed_confidence']\n",
    "\n",
    "tweet_new_df = tweet_new_df[sort_cols]"
   ]
  },
  {
   "cell_type": "markdown",
   "metadata": {},
   "source": [
    "#### Test:"
   ]
  },
  {
   "cell_type": "code",
   "execution_count": 82,
   "metadata": {
    "scrolled": true
   },
   "outputs": [
    {
     "data": {
      "text/html": [
       "<div>\n",
       "<style scoped>\n",
       "    .dataframe tbody tr th:only-of-type {\n",
       "        vertical-align: middle;\n",
       "    }\n",
       "\n",
       "    .dataframe tbody tr th {\n",
       "        vertical-align: top;\n",
       "    }\n",
       "\n",
       "    .dataframe thead th {\n",
       "        text-align: right;\n",
       "    }\n",
       "</style>\n",
       "<table border=\"1\" class=\"dataframe\">\n",
       "  <thead>\n",
       "    <tr style=\"text-align: right;\">\n",
       "      <th></th>\n",
       "      <th>tweet_id</th>\n",
       "      <th>created_at</th>\n",
       "      <th>name</th>\n",
       "      <th>full_text</th>\n",
       "      <th>dog_types</th>\n",
       "      <th>dog_breed</th>\n",
       "      <th>retweet_count</th>\n",
       "      <th>favorite_count</th>\n",
       "      <th>rating_numerator</th>\n",
       "      <th>rating_denominator</th>\n",
       "      <th>breed_confidence</th>\n",
       "    </tr>\n",
       "  </thead>\n",
       "  <tbody>\n",
       "    <tr>\n",
       "      <th>1</th>\n",
       "      <td>892177421306343426</td>\n",
       "      <td>2017-08-01 00:17:27+00:00</td>\n",
       "      <td>Tilly</td>\n",
       "      <td>This is Tilly. She's just checking pup on you....</td>\n",
       "      <td></td>\n",
       "      <td>Chihuahua</td>\n",
       "      <td>6514</td>\n",
       "      <td>33819</td>\n",
       "      <td>13.0</td>\n",
       "      <td>10.0</td>\n",
       "      <td>0.323581</td>\n",
       "    </tr>\n",
       "    <tr>\n",
       "      <th>2</th>\n",
       "      <td>891815181378084864</td>\n",
       "      <td>2017-07-31 00:18:03+00:00</td>\n",
       "      <td>Archie</td>\n",
       "      <td>This is Archie. He is a rare Norwegian Pouncin...</td>\n",
       "      <td></td>\n",
       "      <td>Chihuahua</td>\n",
       "      <td>4328</td>\n",
       "      <td>25461</td>\n",
       "      <td>12.0</td>\n",
       "      <td>10.0</td>\n",
       "      <td>0.716012</td>\n",
       "    </tr>\n",
       "    <tr>\n",
       "      <th>4</th>\n",
       "      <td>891327558926688256</td>\n",
       "      <td>2017-07-29 16:00:24+00:00</td>\n",
       "      <td>Franklin</td>\n",
       "      <td>This is Franklin. He would like you to stop ca...</td>\n",
       "      <td></td>\n",
       "      <td>Basset</td>\n",
       "      <td>9774</td>\n",
       "      <td>41048</td>\n",
       "      <td>12.0</td>\n",
       "      <td>10.0</td>\n",
       "      <td>0.555712</td>\n",
       "    </tr>\n",
       "    <tr>\n",
       "      <th>6</th>\n",
       "      <td>890971913173991426</td>\n",
       "      <td>2017-07-28 16:27:12+00:00</td>\n",
       "      <td>Jax</td>\n",
       "      <td>Meet Jax. He enjoys ice cream so much he gets ...</td>\n",
       "      <td></td>\n",
       "      <td>Appenzeller</td>\n",
       "      <td>2158</td>\n",
       "      <td>12041</td>\n",
       "      <td>13.0</td>\n",
       "      <td>10.0</td>\n",
       "      <td>0.341703</td>\n",
       "    </tr>\n",
       "    <tr>\n",
       "      <th>8</th>\n",
       "      <td>890609185150312448</td>\n",
       "      <td>2017-07-27 16:25:51+00:00</td>\n",
       "      <td>Zoey</td>\n",
       "      <td>This is Zoey. She doesn't want to be one of th...</td>\n",
       "      <td></td>\n",
       "      <td>Irish Terrier</td>\n",
       "      <td>4429</td>\n",
       "      <td>28226</td>\n",
       "      <td>13.0</td>\n",
       "      <td>10.0</td>\n",
       "      <td>0.487574</td>\n",
       "    </tr>\n",
       "    <tr>\n",
       "      <th>...</th>\n",
       "      <td>...</td>\n",
       "      <td>...</td>\n",
       "      <td>...</td>\n",
       "      <td>...</td>\n",
       "      <td>...</td>\n",
       "      <td>...</td>\n",
       "      <td>...</td>\n",
       "      <td>...</td>\n",
       "      <td>...</td>\n",
       "      <td>...</td>\n",
       "      <td>...</td>\n",
       "    </tr>\n",
       "    <tr>\n",
       "      <th>2032</th>\n",
       "      <td>666691418707132416</td>\n",
       "      <td>2015-11-17 18:56:35+00:00</td>\n",
       "      <td>Christoper</td>\n",
       "      <td>This is Christoper. He is a spotted Penne. Can...</td>\n",
       "      <td></td>\n",
       "      <td>German Shepherd</td>\n",
       "      <td>51</td>\n",
       "      <td>196</td>\n",
       "      <td>8.0</td>\n",
       "      <td>10.0</td>\n",
       "      <td>0.975401</td>\n",
       "    </tr>\n",
       "    <tr>\n",
       "      <th>2034</th>\n",
       "      <td>666644823164719104</td>\n",
       "      <td>2015-11-17 15:51:26+00:00</td>\n",
       "      <td>Jimothy</td>\n",
       "      <td>This is Jimothy. He is a Botwanian Gouda. Can ...</td>\n",
       "      <td></td>\n",
       "      <td>Ibizan Hound</td>\n",
       "      <td>88</td>\n",
       "      <td>238</td>\n",
       "      <td>9.0</td>\n",
       "      <td>10.0</td>\n",
       "      <td>0.044333</td>\n",
       "    </tr>\n",
       "    <tr>\n",
       "      <th>2035</th>\n",
       "      <td>666454714377183233</td>\n",
       "      <td>2015-11-17 03:16:00+00:00</td>\n",
       "      <td>Kreggory</td>\n",
       "      <td>I'll name the dogs from now on. This is Kreggo...</td>\n",
       "      <td></td>\n",
       "      <td>Dalmatian</td>\n",
       "      <td>223</td>\n",
       "      <td>545</td>\n",
       "      <td>10.0</td>\n",
       "      <td>10.0</td>\n",
       "      <td>0.278954</td>\n",
       "    </tr>\n",
       "    <tr>\n",
       "      <th>2036</th>\n",
       "      <td>666447344410484738</td>\n",
       "      <td>2015-11-17 02:46:43+00:00</td>\n",
       "      <td>Scout</td>\n",
       "      <td>This is Scout. She is a black Downton Abbey. I...</td>\n",
       "      <td></td>\n",
       "      <td>Curly-Coated Retriever</td>\n",
       "      <td>23</td>\n",
       "      <td>107</td>\n",
       "      <td>9.0</td>\n",
       "      <td>10.0</td>\n",
       "      <td>0.322084</td>\n",
       "    </tr>\n",
       "    <tr>\n",
       "      <th>2042</th>\n",
       "      <td>666418789513326592</td>\n",
       "      <td>2015-11-17 00:53:15+00:00</td>\n",
       "      <td>Walter</td>\n",
       "      <td>This is Walter. He is an Alaskan Terrapin. Lov...</td>\n",
       "      <td></td>\n",
       "      <td>Toy Terrier</td>\n",
       "      <td>48</td>\n",
       "      <td>129</td>\n",
       "      <td>10.0</td>\n",
       "      <td>10.0</td>\n",
       "      <td>0.149680</td>\n",
       "    </tr>\n",
       "  </tbody>\n",
       "</table>\n",
       "<p>1055 rows × 11 columns</p>\n",
       "</div>"
      ],
      "text/plain": [
       "                tweet_id                created_at        name  \\\n",
       "1     892177421306343426 2017-08-01 00:17:27+00:00       Tilly   \n",
       "2     891815181378084864 2017-07-31 00:18:03+00:00      Archie   \n",
       "4     891327558926688256 2017-07-29 16:00:24+00:00    Franklin   \n",
       "6     890971913173991426 2017-07-28 16:27:12+00:00         Jax   \n",
       "8     890609185150312448 2017-07-27 16:25:51+00:00        Zoey   \n",
       "...                  ...                       ...         ...   \n",
       "2032  666691418707132416 2015-11-17 18:56:35+00:00  Christoper   \n",
       "2034  666644823164719104 2015-11-17 15:51:26+00:00     Jimothy   \n",
       "2035  666454714377183233 2015-11-17 03:16:00+00:00    Kreggory   \n",
       "2036  666447344410484738 2015-11-17 02:46:43+00:00       Scout   \n",
       "2042  666418789513326592 2015-11-17 00:53:15+00:00      Walter   \n",
       "\n",
       "                                              full_text dog_types  \\\n",
       "1     This is Tilly. She's just checking pup on you....             \n",
       "2     This is Archie. He is a rare Norwegian Pouncin...             \n",
       "4     This is Franklin. He would like you to stop ca...             \n",
       "6     Meet Jax. He enjoys ice cream so much he gets ...             \n",
       "8     This is Zoey. She doesn't want to be one of th...             \n",
       "...                                                 ...       ...   \n",
       "2032  This is Christoper. He is a spotted Penne. Can...             \n",
       "2034  This is Jimothy. He is a Botwanian Gouda. Can ...             \n",
       "2035  I'll name the dogs from now on. This is Kreggo...             \n",
       "2036  This is Scout. She is a black Downton Abbey. I...             \n",
       "2042  This is Walter. He is an Alaskan Terrapin. Lov...             \n",
       "\n",
       "                   dog_breed  retweet_count  favorite_count  rating_numerator  \\\n",
       "1                  Chihuahua           6514           33819              13.0   \n",
       "2                  Chihuahua           4328           25461              12.0   \n",
       "4                     Basset           9774           41048              12.0   \n",
       "6                Appenzeller           2158           12041              13.0   \n",
       "8              Irish Terrier           4429           28226              13.0   \n",
       "...                      ...            ...             ...               ...   \n",
       "2032         German Shepherd             51             196               8.0   \n",
       "2034            Ibizan Hound             88             238               9.0   \n",
       "2035               Dalmatian            223             545              10.0   \n",
       "2036  Curly-Coated Retriever             23             107               9.0   \n",
       "2042             Toy Terrier             48             129              10.0   \n",
       "\n",
       "      rating_denominator  breed_confidence  \n",
       "1                   10.0          0.323581  \n",
       "2                   10.0          0.716012  \n",
       "4                   10.0          0.555712  \n",
       "6                   10.0          0.341703  \n",
       "8                   10.0          0.487574  \n",
       "...                  ...               ...  \n",
       "2032                10.0          0.975401  \n",
       "2034                10.0          0.044333  \n",
       "2035                10.0          0.278954  \n",
       "2036                10.0          0.322084  \n",
       "2042                10.0          0.149680  \n",
       "\n",
       "[1055 rows x 11 columns]"
      ]
     },
     "execution_count": 82,
     "metadata": {},
     "output_type": "execute_result"
    }
   ],
   "source": [
    "tweet_new_df"
   ]
  },
  {
   "cell_type": "markdown",
   "metadata": {},
   "source": [
    "## Storing Data\n",
    "Save gathered, assessed, and cleaned master dataset to a CSV file named \"twitter_archive_master.csv\"."
   ]
  },
  {
   "cell_type": "code",
   "execution_count": 83,
   "metadata": {},
   "outputs": [],
   "source": [
    "tweet_new_df.to_csv('twitter_archive_master.csv', index=False, encoding = 'utf-8')"
   ]
  },
  {
   "cell_type": "markdown",
   "metadata": {},
   "source": [
    "## Analyzing and Visualizing Data\n",
    "In this section, analyze and visualize your wrangled data. You must produce at least **three (3) insights and one (1) visualization.**"
   ]
  },
  {
   "cell_type": "code",
   "execution_count": 84,
   "metadata": {
    "scrolled": true
   },
   "outputs": [
    {
     "data": {
      "text/html": [
       "<div>\n",
       "<style scoped>\n",
       "    .dataframe tbody tr th:only-of-type {\n",
       "        vertical-align: middle;\n",
       "    }\n",
       "\n",
       "    .dataframe tbody tr th {\n",
       "        vertical-align: top;\n",
       "    }\n",
       "\n",
       "    .dataframe thead th {\n",
       "        text-align: right;\n",
       "    }\n",
       "</style>\n",
       "<table border=\"1\" class=\"dataframe\">\n",
       "  <thead>\n",
       "    <tr style=\"text-align: right;\">\n",
       "      <th></th>\n",
       "      <th>tweet_id</th>\n",
       "      <th>created_at</th>\n",
       "      <th>name</th>\n",
       "      <th>full_text</th>\n",
       "      <th>dog_types</th>\n",
       "      <th>dog_breed</th>\n",
       "      <th>retweet_count</th>\n",
       "      <th>favorite_count</th>\n",
       "      <th>rating_numerator</th>\n",
       "      <th>rating_denominator</th>\n",
       "      <th>breed_confidence</th>\n",
       "    </tr>\n",
       "  </thead>\n",
       "  <tbody>\n",
       "    <tr>\n",
       "      <th>0</th>\n",
       "      <td>892177421306343426</td>\n",
       "      <td>2017-08-01 00:17:27+00:00</td>\n",
       "      <td>Tilly</td>\n",
       "      <td>This is Tilly. She's just checking pup on you....</td>\n",
       "      <td>NaN</td>\n",
       "      <td>Chihuahua</td>\n",
       "      <td>6514</td>\n",
       "      <td>33819</td>\n",
       "      <td>13.0</td>\n",
       "      <td>10.0</td>\n",
       "      <td>0.323581</td>\n",
       "    </tr>\n",
       "    <tr>\n",
       "      <th>1</th>\n",
       "      <td>891815181378084864</td>\n",
       "      <td>2017-07-31 00:18:03+00:00</td>\n",
       "      <td>Archie</td>\n",
       "      <td>This is Archie. He is a rare Norwegian Pouncin...</td>\n",
       "      <td>NaN</td>\n",
       "      <td>Chihuahua</td>\n",
       "      <td>4328</td>\n",
       "      <td>25461</td>\n",
       "      <td>12.0</td>\n",
       "      <td>10.0</td>\n",
       "      <td>0.716012</td>\n",
       "    </tr>\n",
       "    <tr>\n",
       "      <th>2</th>\n",
       "      <td>891327558926688256</td>\n",
       "      <td>2017-07-29 16:00:24+00:00</td>\n",
       "      <td>Franklin</td>\n",
       "      <td>This is Franklin. He would like you to stop ca...</td>\n",
       "      <td>NaN</td>\n",
       "      <td>Basset</td>\n",
       "      <td>9774</td>\n",
       "      <td>41048</td>\n",
       "      <td>12.0</td>\n",
       "      <td>10.0</td>\n",
       "      <td>0.555712</td>\n",
       "    </tr>\n",
       "    <tr>\n",
       "      <th>3</th>\n",
       "      <td>890971913173991426</td>\n",
       "      <td>2017-07-28 16:27:12+00:00</td>\n",
       "      <td>Jax</td>\n",
       "      <td>Meet Jax. He enjoys ice cream so much he gets ...</td>\n",
       "      <td>NaN</td>\n",
       "      <td>Appenzeller</td>\n",
       "      <td>2158</td>\n",
       "      <td>12041</td>\n",
       "      <td>13.0</td>\n",
       "      <td>10.0</td>\n",
       "      <td>0.341703</td>\n",
       "    </tr>\n",
       "    <tr>\n",
       "      <th>4</th>\n",
       "      <td>890609185150312448</td>\n",
       "      <td>2017-07-27 16:25:51+00:00</td>\n",
       "      <td>Zoey</td>\n",
       "      <td>This is Zoey. She doesn't want to be one of th...</td>\n",
       "      <td>NaN</td>\n",
       "      <td>Irish Terrier</td>\n",
       "      <td>4429</td>\n",
       "      <td>28226</td>\n",
       "      <td>13.0</td>\n",
       "      <td>10.0</td>\n",
       "      <td>0.487574</td>\n",
       "    </tr>\n",
       "  </tbody>\n",
       "</table>\n",
       "</div>"
      ],
      "text/plain": [
       "             tweet_id                 created_at      name  \\\n",
       "0  892177421306343426  2017-08-01 00:17:27+00:00     Tilly   \n",
       "1  891815181378084864  2017-07-31 00:18:03+00:00    Archie   \n",
       "2  891327558926688256  2017-07-29 16:00:24+00:00  Franklin   \n",
       "3  890971913173991426  2017-07-28 16:27:12+00:00       Jax   \n",
       "4  890609185150312448  2017-07-27 16:25:51+00:00      Zoey   \n",
       "\n",
       "                                           full_text dog_types      dog_breed  \\\n",
       "0  This is Tilly. She's just checking pup on you....       NaN      Chihuahua   \n",
       "1  This is Archie. He is a rare Norwegian Pouncin...       NaN      Chihuahua   \n",
       "2  This is Franklin. He would like you to stop ca...       NaN         Basset   \n",
       "3  Meet Jax. He enjoys ice cream so much he gets ...       NaN    Appenzeller   \n",
       "4  This is Zoey. She doesn't want to be one of th...       NaN  Irish Terrier   \n",
       "\n",
       "   retweet_count  favorite_count  rating_numerator  rating_denominator  \\\n",
       "0           6514           33819              13.0                10.0   \n",
       "1           4328           25461              12.0                10.0   \n",
       "2           9774           41048              12.0                10.0   \n",
       "3           2158           12041              13.0                10.0   \n",
       "4           4429           28226              13.0                10.0   \n",
       "\n",
       "   breed_confidence  \n",
       "0          0.323581  \n",
       "1          0.716012  \n",
       "2          0.555712  \n",
       "3          0.341703  \n",
       "4          0.487574  "
      ]
     },
     "execution_count": 84,
     "metadata": {},
     "output_type": "execute_result"
    }
   ],
   "source": [
    "df1 = pd.read_csv('./twitter_archive_master.csv')\n",
    "df1.head()"
   ]
  },
  {
   "cell_type": "code",
   "execution_count": 85,
   "metadata": {
    "scrolled": true
   },
   "outputs": [
    {
     "data": {
      "text/plain": [
       "Golden Retriever      95\n",
       "Pembroke              64\n",
       "Labrador Retriever    64\n",
       "Chihuahua             59\n",
       "Pug                   39\n",
       "                      ..\n",
       "Scotch Terrier         1\n",
       "Japanese Spaniel       1\n",
       "Standard Schnauzer     1\n",
       "Gordon Setter          1\n",
       "Brabancon Griffon      1\n",
       "Name: dog_breed, Length: 109, dtype: int64"
      ]
     },
     "execution_count": 85,
     "metadata": {},
     "output_type": "execute_result"
    }
   ],
   "source": [
    "df1['dog_breed'].value_counts()"
   ]
  },
  {
   "cell_type": "markdown",
   "metadata": {},
   "source": [
    ">From the above statistics, we observe that the most common dog breed rated is the Golden Retriever(95)"
   ]
  },
  {
   "cell_type": "code",
   "execution_count": 86,
   "metadata": {
    "scrolled": true
   },
   "outputs": [
    {
     "data": {
      "text/plain": [
       "pupper          85\n",
       "doggo           29\n",
       "puppo           14\n",
       "floofer          5\n",
       "doggo|pupper     3\n",
       "Name: dog_types, dtype: int64"
      ]
     },
     "execution_count": 86,
     "metadata": {},
     "output_type": "execute_result"
    }
   ],
   "source": [
    "df1['dog_types'].value_counts()"
   ]
  },
  {
   "cell_type": "markdown",
   "metadata": {},
   "source": [
    ">From the above statistics, we observe that the most common dog type is the pupper(85)"
   ]
  },
  {
   "cell_type": "code",
   "execution_count": 87,
   "metadata": {
    "scrolled": true
   },
   "outputs": [
    {
     "data": {
      "text/plain": [
       "Charlie       10\n",
       "Cooper        10\n",
       "Oliver         9\n",
       "Lucy           8\n",
       "Tucker         8\n",
       "              ..\n",
       "Grey           1\n",
       "Willem         1\n",
       "Davey          1\n",
       "Fizz           1\n",
       "Christoper     1\n",
       "Name: name, Length: 753, dtype: int64"
      ]
     },
     "execution_count": 87,
     "metadata": {},
     "output_type": "execute_result"
    }
   ],
   "source": [
    "df1['name'].value_counts()"
   ]
  },
  {
   "cell_type": "markdown",
   "metadata": {},
   "source": [
    ">From the above statistics, we observe that the most common dog names were Charlie and Cooper"
   ]
  },
  {
   "cell_type": "code",
   "execution_count": 88,
   "metadata": {},
   "outputs": [],
   "source": [
    "# group dataset by dog breed, by dog type and by name\n",
    "df1_breed = df1.groupby(['dog_breed']).sum()\n",
    "df1_type = df1.groupby(['dog_types']).sum()\n",
    "df1_name = df1.groupby(['name']).sum()"
   ]
  },
  {
   "cell_type": "code",
   "execution_count": 89,
   "metadata": {},
   "outputs": [
    {
     "data": {
      "text/html": [
       "<div>\n",
       "<style scoped>\n",
       "    .dataframe tbody tr th:only-of-type {\n",
       "        vertical-align: middle;\n",
       "    }\n",
       "\n",
       "    .dataframe tbody tr th {\n",
       "        vertical-align: top;\n",
       "    }\n",
       "\n",
       "    .dataframe thead th {\n",
       "        text-align: right;\n",
       "    }\n",
       "</style>\n",
       "<table border=\"1\" class=\"dataframe\">\n",
       "  <thead>\n",
       "    <tr style=\"text-align: right;\">\n",
       "      <th></th>\n",
       "      <th>tweet_id</th>\n",
       "      <th>retweet_count</th>\n",
       "      <th>favorite_count</th>\n",
       "      <th>rating_numerator</th>\n",
       "      <th>rating_denominator</th>\n",
       "      <th>breed_confidence</th>\n",
       "    </tr>\n",
       "    <tr>\n",
       "      <th>dog_breed</th>\n",
       "      <th></th>\n",
       "      <th></th>\n",
       "      <th></th>\n",
       "      <th></th>\n",
       "      <th></th>\n",
       "      <th></th>\n",
       "    </tr>\n",
       "  </thead>\n",
       "  <tbody>\n",
       "    <tr>\n",
       "      <th>Afghan Hound</th>\n",
       "      <td>2.412486e+18</td>\n",
       "      <td>17928</td>\n",
       "      <td>51980</td>\n",
       "      <td>29.0</td>\n",
       "      <td>30.0</td>\n",
       "      <td>1.301878</td>\n",
       "    </tr>\n",
       "    <tr>\n",
       "      <th>Airedale</th>\n",
       "      <td>6.525036e+18</td>\n",
       "      <td>14106</td>\n",
       "      <td>54524</td>\n",
       "      <td>92.0</td>\n",
       "      <td>90.0</td>\n",
       "      <td>5.510836</td>\n",
       "    </tr>\n",
       "    <tr>\n",
       "      <th>American Staffordshire Terrier</th>\n",
       "      <td>7.590439e+18</td>\n",
       "      <td>20705</td>\n",
       "      <td>77191</td>\n",
       "      <td>109.0</td>\n",
       "      <td>100.0</td>\n",
       "      <td>6.623528</td>\n",
       "    </tr>\n",
       "    <tr>\n",
       "      <th>Appenzeller</th>\n",
       "      <td>8.909719e+17</td>\n",
       "      <td>2158</td>\n",
       "      <td>12041</td>\n",
       "      <td>13.0</td>\n",
       "      <td>10.0</td>\n",
       "      <td>0.341703</td>\n",
       "    </tr>\n",
       "    <tr>\n",
       "      <th>Australian Terrier</th>\n",
       "      <td>1.557184e+18</td>\n",
       "      <td>6157</td>\n",
       "      <td>22255</td>\n",
       "      <td>23.0</td>\n",
       "      <td>20.0</td>\n",
       "      <td>0.615167</td>\n",
       "    </tr>\n",
       "    <tr>\n",
       "      <th>...</th>\n",
       "      <td>...</td>\n",
       "      <td>...</td>\n",
       "      <td>...</td>\n",
       "      <td>...</td>\n",
       "      <td>...</td>\n",
       "      <td>...</td>\n",
       "    </tr>\n",
       "    <tr>\n",
       "      <th>Welsh Springer Spaniel</th>\n",
       "      <td>1.442958e+18</td>\n",
       "      <td>1019</td>\n",
       "      <td>5562</td>\n",
       "      <td>19.0</td>\n",
       "      <td>20.0</td>\n",
       "      <td>0.934632</td>\n",
       "    </tr>\n",
       "    <tr>\n",
       "      <th>West Highland White Terrier</th>\n",
       "      <td>4.390944e+18</td>\n",
       "      <td>7113</td>\n",
       "      <td>37638</td>\n",
       "      <td>63.0</td>\n",
       "      <td>60.0</td>\n",
       "      <td>3.847305</td>\n",
       "    </tr>\n",
       "    <tr>\n",
       "      <th>Whippet</th>\n",
       "      <td>5.403429e+18</td>\n",
       "      <td>18666</td>\n",
       "      <td>66189</td>\n",
       "      <td>76.0</td>\n",
       "      <td>70.0</td>\n",
       "      <td>3.559101</td>\n",
       "    </tr>\n",
       "    <tr>\n",
       "      <th>Wire-Haired Fox Terrier</th>\n",
       "      <td>1.542543e+18</td>\n",
       "      <td>5847</td>\n",
       "      <td>17077</td>\n",
       "      <td>23.0</td>\n",
       "      <td>20.0</td>\n",
       "      <td>0.611191</td>\n",
       "    </tr>\n",
       "    <tr>\n",
       "      <th>Yorkshire Terrier</th>\n",
       "      <td>4.433303e+18</td>\n",
       "      <td>11457</td>\n",
       "      <td>40154</td>\n",
       "      <td>66.0</td>\n",
       "      <td>60.0</td>\n",
       "      <td>3.392893</td>\n",
       "    </tr>\n",
       "  </tbody>\n",
       "</table>\n",
       "<p>109 rows × 6 columns</p>\n",
       "</div>"
      ],
      "text/plain": [
       "                                    tweet_id  retweet_count  favorite_count  \\\n",
       "dog_breed                                                                     \n",
       "Afghan Hound                    2.412486e+18          17928           51980   \n",
       "Airedale                        6.525036e+18          14106           54524   \n",
       "American Staffordshire Terrier  7.590439e+18          20705           77191   \n",
       "Appenzeller                     8.909719e+17           2158           12041   \n",
       "Australian Terrier              1.557184e+18           6157           22255   \n",
       "...                                      ...            ...             ...   \n",
       "Welsh Springer Spaniel          1.442958e+18           1019            5562   \n",
       "West Highland White Terrier     4.390944e+18           7113           37638   \n",
       "Whippet                         5.403429e+18          18666           66189   \n",
       "Wire-Haired Fox Terrier         1.542543e+18           5847           17077   \n",
       "Yorkshire Terrier               4.433303e+18          11457           40154   \n",
       "\n",
       "                                rating_numerator  rating_denominator  \\\n",
       "dog_breed                                                              \n",
       "Afghan Hound                                29.0                30.0   \n",
       "Airedale                                    92.0                90.0   \n",
       "American Staffordshire Terrier             109.0               100.0   \n",
       "Appenzeller                                 13.0                10.0   \n",
       "Australian Terrier                          23.0                20.0   \n",
       "...                                          ...                 ...   \n",
       "Welsh Springer Spaniel                      19.0                20.0   \n",
       "West Highland White Terrier                 63.0                60.0   \n",
       "Whippet                                     76.0                70.0   \n",
       "Wire-Haired Fox Terrier                     23.0                20.0   \n",
       "Yorkshire Terrier                           66.0                60.0   \n",
       "\n",
       "                                breed_confidence  \n",
       "dog_breed                                         \n",
       "Afghan Hound                            1.301878  \n",
       "Airedale                                5.510836  \n",
       "American Staffordshire Terrier          6.623528  \n",
       "Appenzeller                             0.341703  \n",
       "Australian Terrier                      0.615167  \n",
       "...                                          ...  \n",
       "Welsh Springer Spaniel                  0.934632  \n",
       "West Highland White Terrier             3.847305  \n",
       "Whippet                                 3.559101  \n",
       "Wire-Haired Fox Terrier                 0.611191  \n",
       "Yorkshire Terrier                       3.392893  \n",
       "\n",
       "[109 rows x 6 columns]"
      ]
     },
     "execution_count": 89,
     "metadata": {},
     "output_type": "execute_result"
    }
   ],
   "source": [
    "df1_breed"
   ]
  },
  {
   "cell_type": "code",
   "execution_count": 90,
   "metadata": {},
   "outputs": [
    {
     "data": {
      "text/html": [
       "<div>\n",
       "<style scoped>\n",
       "    .dataframe tbody tr th:only-of-type {\n",
       "        vertical-align: middle;\n",
       "    }\n",
       "\n",
       "    .dataframe tbody tr th {\n",
       "        vertical-align: top;\n",
       "    }\n",
       "\n",
       "    .dataframe thead th {\n",
       "        text-align: right;\n",
       "    }\n",
       "</style>\n",
       "<table border=\"1\" class=\"dataframe\">\n",
       "  <thead>\n",
       "    <tr style=\"text-align: right;\">\n",
       "      <th></th>\n",
       "      <th>tweet_id</th>\n",
       "      <th>retweet_count</th>\n",
       "      <th>favorite_count</th>\n",
       "      <th>rating_numerator</th>\n",
       "      <th>rating_denominator</th>\n",
       "      <th>breed_confidence</th>\n",
       "    </tr>\n",
       "    <tr>\n",
       "      <th>dog_types</th>\n",
       "      <th></th>\n",
       "      <th></th>\n",
       "      <th></th>\n",
       "      <th></th>\n",
       "      <th></th>\n",
       "      <th></th>\n",
       "    </tr>\n",
       "  </thead>\n",
       "  <tbody>\n",
       "    <tr>\n",
       "      <th>doggo</th>\n",
       "      <td>2.376684e+19</td>\n",
       "      <td>165740</td>\n",
       "      <td>571723</td>\n",
       "      <td>358.0</td>\n",
       "      <td>290.0</td>\n",
       "      <td>17.041746</td>\n",
       "    </tr>\n",
       "    <tr>\n",
       "      <th>doggo|pupper</th>\n",
       "      <td>2.378686e+18</td>\n",
       "      <td>7686</td>\n",
       "      <td>27513</td>\n",
       "      <td>37.0</td>\n",
       "      <td>30.0</td>\n",
       "      <td>2.542488</td>\n",
       "    </tr>\n",
       "    <tr>\n",
       "      <th>floofer</th>\n",
       "      <td>3.852196e+18</td>\n",
       "      <td>11236</td>\n",
       "      <td>47795</td>\n",
       "      <td>58.0</td>\n",
       "      <td>50.0</td>\n",
       "      <td>2.923533</td>\n",
       "    </tr>\n",
       "    <tr>\n",
       "      <th>pupper</th>\n",
       "      <td>6.199686e+19</td>\n",
       "      <td>209337</td>\n",
       "      <td>717801</td>\n",
       "      <td>920.0</td>\n",
       "      <td>850.0</td>\n",
       "      <td>56.585015</td>\n",
       "    </tr>\n",
       "    <tr>\n",
       "      <th>puppo</th>\n",
       "      <td>1.131957e+19</td>\n",
       "      <td>44564</td>\n",
       "      <td>169225</td>\n",
       "      <td>165.0</td>\n",
       "      <td>140.0</td>\n",
       "      <td>10.116101</td>\n",
       "    </tr>\n",
       "  </tbody>\n",
       "</table>\n",
       "</div>"
      ],
      "text/plain": [
       "                  tweet_id  retweet_count  favorite_count  rating_numerator  \\\n",
       "dog_types                                                                     \n",
       "doggo         2.376684e+19         165740          571723             358.0   \n",
       "doggo|pupper  2.378686e+18           7686           27513              37.0   \n",
       "floofer       3.852196e+18          11236           47795              58.0   \n",
       "pupper        6.199686e+19         209337          717801             920.0   \n",
       "puppo         1.131957e+19          44564          169225             165.0   \n",
       "\n",
       "              rating_denominator  breed_confidence  \n",
       "dog_types                                           \n",
       "doggo                      290.0         17.041746  \n",
       "doggo|pupper                30.0          2.542488  \n",
       "floofer                     50.0          2.923533  \n",
       "pupper                     850.0         56.585015  \n",
       "puppo                      140.0         10.116101  "
      ]
     },
     "execution_count": 90,
     "metadata": {},
     "output_type": "execute_result"
    }
   ],
   "source": [
    "df1_type"
   ]
  },
  {
   "cell_type": "code",
   "execution_count": 91,
   "metadata": {},
   "outputs": [
    {
     "data": {
      "text/html": [
       "<div>\n",
       "<style scoped>\n",
       "    .dataframe tbody tr th:only-of-type {\n",
       "        vertical-align: middle;\n",
       "    }\n",
       "\n",
       "    .dataframe tbody tr th {\n",
       "        vertical-align: top;\n",
       "    }\n",
       "\n",
       "    .dataframe thead th {\n",
       "        text-align: right;\n",
       "    }\n",
       "</style>\n",
       "<table border=\"1\" class=\"dataframe\">\n",
       "  <thead>\n",
       "    <tr style=\"text-align: right;\">\n",
       "      <th></th>\n",
       "      <th>tweet_id</th>\n",
       "      <th>retweet_count</th>\n",
       "      <th>favorite_count</th>\n",
       "      <th>rating_numerator</th>\n",
       "      <th>rating_denominator</th>\n",
       "      <th>breed_confidence</th>\n",
       "    </tr>\n",
       "    <tr>\n",
       "      <th>name</th>\n",
       "      <th></th>\n",
       "      <th></th>\n",
       "      <th></th>\n",
       "      <th></th>\n",
       "      <th></th>\n",
       "      <th></th>\n",
       "    </tr>\n",
       "  </thead>\n",
       "  <tbody>\n",
       "    <tr>\n",
       "      <th>Abby</th>\n",
       "      <td>1491722466608648192</td>\n",
       "      <td>2753</td>\n",
       "      <td>9925</td>\n",
       "      <td>21.0</td>\n",
       "      <td>20.0</td>\n",
       "      <td>0.683986</td>\n",
       "    </tr>\n",
       "    <tr>\n",
       "      <th>Ace</th>\n",
       "      <td>753294487569522688</td>\n",
       "      <td>1191</td>\n",
       "      <td>3758</td>\n",
       "      <td>11.0</td>\n",
       "      <td>10.0</td>\n",
       "      <td>0.194773</td>\n",
       "    </tr>\n",
       "    <tr>\n",
       "      <th>Acro</th>\n",
       "      <td>674019345211760640</td>\n",
       "      <td>340</td>\n",
       "      <td>1208</td>\n",
       "      <td>10.0</td>\n",
       "      <td>10.0</td>\n",
       "      <td>0.992732</td>\n",
       "    </tr>\n",
       "    <tr>\n",
       "      <th>Adele</th>\n",
       "      <td>705975130514706432</td>\n",
       "      <td>842</td>\n",
       "      <td>3397</td>\n",
       "      <td>10.0</td>\n",
       "      <td>10.0</td>\n",
       "      <td>0.587764</td>\n",
       "    </tr>\n",
       "    <tr>\n",
       "      <th>Aiden</th>\n",
       "      <td>674014384960745472</td>\n",
       "      <td>714</td>\n",
       "      <td>1676</td>\n",
       "      <td>11.0</td>\n",
       "      <td>10.0</td>\n",
       "      <td>0.742320</td>\n",
       "    </tr>\n",
       "    <tr>\n",
       "      <th>...</th>\n",
       "      <td>...</td>\n",
       "      <td>...</td>\n",
       "      <td>...</td>\n",
       "      <td>...</td>\n",
       "      <td>...</td>\n",
       "      <td>...</td>\n",
       "    </tr>\n",
       "    <tr>\n",
       "      <th>Zeus</th>\n",
       "      <td>715680795826982912</td>\n",
       "      <td>1813</td>\n",
       "      <td>4719</td>\n",
       "      <td>12.0</td>\n",
       "      <td>10.0</td>\n",
       "      <td>0.990715</td>\n",
       "    </tr>\n",
       "    <tr>\n",
       "      <th>Ziva</th>\n",
       "      <td>730211855403241472</td>\n",
       "      <td>1182</td>\n",
       "      <td>4180</td>\n",
       "      <td>11.0</td>\n",
       "      <td>10.0</td>\n",
       "      <td>0.341663</td>\n",
       "    </tr>\n",
       "    <tr>\n",
       "      <th>Zoe</th>\n",
       "      <td>750383411068534784</td>\n",
       "      <td>1309</td>\n",
       "      <td>5005</td>\n",
       "      <td>9.0</td>\n",
       "      <td>10.0</td>\n",
       "      <td>0.672791</td>\n",
       "    </tr>\n",
       "    <tr>\n",
       "      <th>Zoey</th>\n",
       "      <td>1760983234430976000</td>\n",
       "      <td>32109</td>\n",
       "      <td>113237</td>\n",
       "      <td>26.0</td>\n",
       "      <td>20.0</td>\n",
       "      <td>1.328575</td>\n",
       "    </tr>\n",
       "    <tr>\n",
       "      <th>Zooey</th>\n",
       "      <td>862831371563274240</td>\n",
       "      <td>5457</td>\n",
       "      <td>20011</td>\n",
       "      <td>13.0</td>\n",
       "      <td>10.0</td>\n",
       "      <td>0.207281</td>\n",
       "    </tr>\n",
       "  </tbody>\n",
       "</table>\n",
       "<p>753 rows × 6 columns</p>\n",
       "</div>"
      ],
      "text/plain": [
       "                  tweet_id  retweet_count  favorite_count  rating_numerator  \\\n",
       "name                                                                          \n",
       "Abby   1491722466608648192           2753            9925              21.0   \n",
       "Ace     753294487569522688           1191            3758              11.0   \n",
       "Acro    674019345211760640            340            1208              10.0   \n",
       "Adele   705975130514706432            842            3397              10.0   \n",
       "Aiden   674014384960745472            714            1676              11.0   \n",
       "...                    ...            ...             ...               ...   \n",
       "Zeus    715680795826982912           1813            4719              12.0   \n",
       "Ziva    730211855403241472           1182            4180              11.0   \n",
       "Zoe     750383411068534784           1309            5005               9.0   \n",
       "Zoey   1760983234430976000          32109          113237              26.0   \n",
       "Zooey   862831371563274240           5457           20011              13.0   \n",
       "\n",
       "       rating_denominator  breed_confidence  \n",
       "name                                         \n",
       "Abby                 20.0          0.683986  \n",
       "Ace                  10.0          0.194773  \n",
       "Acro                 10.0          0.992732  \n",
       "Adele                10.0          0.587764  \n",
       "Aiden                10.0          0.742320  \n",
       "...                   ...               ...  \n",
       "Zeus                 10.0          0.990715  \n",
       "Ziva                 10.0          0.341663  \n",
       "Zoe                  10.0          0.672791  \n",
       "Zoey                 20.0          1.328575  \n",
       "Zooey                10.0          0.207281  \n",
       "\n",
       "[753 rows x 6 columns]"
      ]
     },
     "execution_count": 91,
     "metadata": {},
     "output_type": "execute_result"
    }
   ],
   "source": [
    "df1_name"
   ]
  },
  {
   "cell_type": "code",
   "execution_count": 92,
   "metadata": {
    "scrolled": true
   },
   "outputs": [
    {
     "data": {
      "text/html": [
       "<div>\n",
       "<style scoped>\n",
       "    .dataframe tbody tr th:only-of-type {\n",
       "        vertical-align: middle;\n",
       "    }\n",
       "\n",
       "    .dataframe tbody tr th {\n",
       "        vertical-align: top;\n",
       "    }\n",
       "\n",
       "    .dataframe thead th {\n",
       "        text-align: right;\n",
       "    }\n",
       "</style>\n",
       "<table border=\"1\" class=\"dataframe\">\n",
       "  <thead>\n",
       "    <tr style=\"text-align: right;\">\n",
       "      <th></th>\n",
       "      <th>tweet_id</th>\n",
       "      <th>retweet_count</th>\n",
       "      <th>favorite_count</th>\n",
       "      <th>rating_numerator</th>\n",
       "      <th>rating_denominator</th>\n",
       "      <th>breed_confidence</th>\n",
       "    </tr>\n",
       "    <tr>\n",
       "      <th>dog_breed</th>\n",
       "      <th></th>\n",
       "      <th></th>\n",
       "      <th></th>\n",
       "      <th></th>\n",
       "      <th></th>\n",
       "      <th></th>\n",
       "    </tr>\n",
       "  </thead>\n",
       "  <tbody>\n",
       "    <tr>\n",
       "      <th>Golden Retriever</th>\n",
       "      <td>7.329526e+19</td>\n",
       "      <td>366598</td>\n",
       "      <td>1283423</td>\n",
       "      <td>1114.0</td>\n",
       "      <td>947.0</td>\n",
       "      <td>67.833893</td>\n",
       "    </tr>\n",
       "    <tr>\n",
       "      <th>Labrador Retriever</th>\n",
       "      <td>4.808945e+19</td>\n",
       "      <td>199472</td>\n",
       "      <td>728121</td>\n",
       "      <td>719.0</td>\n",
       "      <td>640.0</td>\n",
       "      <td>41.928230</td>\n",
       "    </tr>\n",
       "    <tr>\n",
       "      <th>Pembroke</th>\n",
       "      <td>4.861096e+19</td>\n",
       "      <td>201129</td>\n",
       "      <td>725412</td>\n",
       "      <td>741.0</td>\n",
       "      <td>640.0</td>\n",
       "      <td>46.080324</td>\n",
       "    </tr>\n",
       "    <tr>\n",
       "      <th>Chihuahua</th>\n",
       "      <td>4.330285e+19</td>\n",
       "      <td>174083</td>\n",
       "      <td>545599</td>\n",
       "      <td>629.0</td>\n",
       "      <td>590.0</td>\n",
       "      <td>34.597093</td>\n",
       "    </tr>\n",
       "    <tr>\n",
       "      <th>French Bulldog</th>\n",
       "      <td>1.820007e+19</td>\n",
       "      <td>117666</td>\n",
       "      <td>447576</td>\n",
       "      <td>262.0</td>\n",
       "      <td>230.0</td>\n",
       "      <td>17.765186</td>\n",
       "    </tr>\n",
       "    <tr>\n",
       "      <th>...</th>\n",
       "      <td>...</td>\n",
       "      <td>...</td>\n",
       "      <td>...</td>\n",
       "      <td>...</td>\n",
       "      <td>...</td>\n",
       "      <td>...</td>\n",
       "    </tr>\n",
       "    <tr>\n",
       "      <th>Standard Schnauzer</th>\n",
       "      <td>6.757109e+17</td>\n",
       "      <td>928</td>\n",
       "      <td>2046</td>\n",
       "      <td>12.0</td>\n",
       "      <td>10.0</td>\n",
       "      <td>0.441427</td>\n",
       "    </tr>\n",
       "    <tr>\n",
       "      <th>Groenendael</th>\n",
       "      <td>6.939424e+17</td>\n",
       "      <td>413</td>\n",
       "      <td>1896</td>\n",
       "      <td>10.0</td>\n",
       "      <td>10.0</td>\n",
       "      <td>0.550796</td>\n",
       "    </tr>\n",
       "    <tr>\n",
       "      <th>Japanese Spaniel</th>\n",
       "      <td>6.773010e+17</td>\n",
       "      <td>471</td>\n",
       "      <td>1362</td>\n",
       "      <td>5.0</td>\n",
       "      <td>10.0</td>\n",
       "      <td>0.661178</td>\n",
       "    </tr>\n",
       "    <tr>\n",
       "      <th>Ibizan Hound</th>\n",
       "      <td>1.337324e+18</td>\n",
       "      <td>403</td>\n",
       "      <td>1037</td>\n",
       "      <td>17.0</td>\n",
       "      <td>20.0</td>\n",
       "      <td>0.387067</td>\n",
       "    </tr>\n",
       "    <tr>\n",
       "      <th>Brabancon Griffon</th>\n",
       "      <td>6.693715e+17</td>\n",
       "      <td>196</td>\n",
       "      <td>524</td>\n",
       "      <td>10.0</td>\n",
       "      <td>10.0</td>\n",
       "      <td>0.483268</td>\n",
       "    </tr>\n",
       "  </tbody>\n",
       "</table>\n",
       "<p>109 rows × 6 columns</p>\n",
       "</div>"
      ],
      "text/plain": [
       "                        tweet_id  retweet_count  favorite_count  \\\n",
       "dog_breed                                                         \n",
       "Golden Retriever    7.329526e+19         366598         1283423   \n",
       "Labrador Retriever  4.808945e+19         199472          728121   \n",
       "Pembroke            4.861096e+19         201129          725412   \n",
       "Chihuahua           4.330285e+19         174083          545599   \n",
       "French Bulldog      1.820007e+19         117666          447576   \n",
       "...                          ...            ...             ...   \n",
       "Standard Schnauzer  6.757109e+17            928            2046   \n",
       "Groenendael         6.939424e+17            413            1896   \n",
       "Japanese Spaniel    6.773010e+17            471            1362   \n",
       "Ibizan Hound        1.337324e+18            403            1037   \n",
       "Brabancon Griffon   6.693715e+17            196             524   \n",
       "\n",
       "                    rating_numerator  rating_denominator  breed_confidence  \n",
       "dog_breed                                                                   \n",
       "Golden Retriever              1114.0               947.0         67.833893  \n",
       "Labrador Retriever             719.0               640.0         41.928230  \n",
       "Pembroke                       741.0               640.0         46.080324  \n",
       "Chihuahua                      629.0               590.0         34.597093  \n",
       "French Bulldog                 262.0               230.0         17.765186  \n",
       "...                              ...                 ...               ...  \n",
       "Standard Schnauzer              12.0                10.0          0.441427  \n",
       "Groenendael                     10.0                10.0          0.550796  \n",
       "Japanese Spaniel                 5.0                10.0          0.661178  \n",
       "Ibizan Hound                    17.0                20.0          0.387067  \n",
       "Brabancon Griffon               10.0                10.0          0.483268  \n",
       "\n",
       "[109 rows x 6 columns]"
      ]
     },
     "execution_count": 92,
     "metadata": {},
     "output_type": "execute_result"
    }
   ],
   "source": [
    "# sort dog breed by favourite counts\n",
    "df1_breed.sort_values(by=['favorite_count'],ascending=False)"
   ]
  },
  {
   "cell_type": "markdown",
   "metadata": {},
   "source": [
    ">From the above statistics, we observe that the dog breed with the highest favorite count is Golden Retriever"
   ]
  },
  {
   "cell_type": "code",
   "execution_count": 93,
   "metadata": {},
   "outputs": [
    {
     "data": {
      "text/html": [
       "<div>\n",
       "<style scoped>\n",
       "    .dataframe tbody tr th:only-of-type {\n",
       "        vertical-align: middle;\n",
       "    }\n",
       "\n",
       "    .dataframe tbody tr th {\n",
       "        vertical-align: top;\n",
       "    }\n",
       "\n",
       "    .dataframe thead th {\n",
       "        text-align: right;\n",
       "    }\n",
       "</style>\n",
       "<table border=\"1\" class=\"dataframe\">\n",
       "  <thead>\n",
       "    <tr style=\"text-align: right;\">\n",
       "      <th></th>\n",
       "      <th>tweet_id</th>\n",
       "      <th>retweet_count</th>\n",
       "      <th>favorite_count</th>\n",
       "      <th>rating_numerator</th>\n",
       "      <th>rating_denominator</th>\n",
       "      <th>breed_confidence</th>\n",
       "    </tr>\n",
       "    <tr>\n",
       "      <th>dog_breed</th>\n",
       "      <th></th>\n",
       "      <th></th>\n",
       "      <th></th>\n",
       "      <th></th>\n",
       "      <th></th>\n",
       "      <th></th>\n",
       "    </tr>\n",
       "  </thead>\n",
       "  <tbody>\n",
       "    <tr>\n",
       "      <th>Golden Retriever</th>\n",
       "      <td>7.329526e+19</td>\n",
       "      <td>366598</td>\n",
       "      <td>1283423</td>\n",
       "      <td>1114.0</td>\n",
       "      <td>947.0</td>\n",
       "      <td>67.833893</td>\n",
       "    </tr>\n",
       "    <tr>\n",
       "      <th>Pembroke</th>\n",
       "      <td>4.861096e+19</td>\n",
       "      <td>201129</td>\n",
       "      <td>725412</td>\n",
       "      <td>741.0</td>\n",
       "      <td>640.0</td>\n",
       "      <td>46.080324</td>\n",
       "    </tr>\n",
       "    <tr>\n",
       "      <th>Labrador Retriever</th>\n",
       "      <td>4.808945e+19</td>\n",
       "      <td>199472</td>\n",
       "      <td>728121</td>\n",
       "      <td>719.0</td>\n",
       "      <td>640.0</td>\n",
       "      <td>41.928230</td>\n",
       "    </tr>\n",
       "    <tr>\n",
       "      <th>Chihuahua</th>\n",
       "      <td>4.330285e+19</td>\n",
       "      <td>174083</td>\n",
       "      <td>545599</td>\n",
       "      <td>629.0</td>\n",
       "      <td>590.0</td>\n",
       "      <td>34.597093</td>\n",
       "    </tr>\n",
       "    <tr>\n",
       "      <th>French Bulldog</th>\n",
       "      <td>1.820007e+19</td>\n",
       "      <td>117666</td>\n",
       "      <td>447576</td>\n",
       "      <td>262.0</td>\n",
       "      <td>230.0</td>\n",
       "      <td>17.765186</td>\n",
       "    </tr>\n",
       "    <tr>\n",
       "      <th>...</th>\n",
       "      <td>...</td>\n",
       "      <td>...</td>\n",
       "      <td>...</td>\n",
       "      <td>...</td>\n",
       "      <td>...</td>\n",
       "      <td>...</td>\n",
       "    </tr>\n",
       "    <tr>\n",
       "      <th>Standard Schnauzer</th>\n",
       "      <td>6.757109e+17</td>\n",
       "      <td>928</td>\n",
       "      <td>2046</td>\n",
       "      <td>12.0</td>\n",
       "      <td>10.0</td>\n",
       "      <td>0.441427</td>\n",
       "    </tr>\n",
       "    <tr>\n",
       "      <th>Japanese Spaniel</th>\n",
       "      <td>6.773010e+17</td>\n",
       "      <td>471</td>\n",
       "      <td>1362</td>\n",
       "      <td>5.0</td>\n",
       "      <td>10.0</td>\n",
       "      <td>0.661178</td>\n",
       "    </tr>\n",
       "    <tr>\n",
       "      <th>Groenendael</th>\n",
       "      <td>6.939424e+17</td>\n",
       "      <td>413</td>\n",
       "      <td>1896</td>\n",
       "      <td>10.0</td>\n",
       "      <td>10.0</td>\n",
       "      <td>0.550796</td>\n",
       "    </tr>\n",
       "    <tr>\n",
       "      <th>Ibizan Hound</th>\n",
       "      <td>1.337324e+18</td>\n",
       "      <td>403</td>\n",
       "      <td>1037</td>\n",
       "      <td>17.0</td>\n",
       "      <td>20.0</td>\n",
       "      <td>0.387067</td>\n",
       "    </tr>\n",
       "    <tr>\n",
       "      <th>Brabancon Griffon</th>\n",
       "      <td>6.693715e+17</td>\n",
       "      <td>196</td>\n",
       "      <td>524</td>\n",
       "      <td>10.0</td>\n",
       "      <td>10.0</td>\n",
       "      <td>0.483268</td>\n",
       "    </tr>\n",
       "  </tbody>\n",
       "</table>\n",
       "<p>109 rows × 6 columns</p>\n",
       "</div>"
      ],
      "text/plain": [
       "                        tweet_id  retweet_count  favorite_count  \\\n",
       "dog_breed                                                         \n",
       "Golden Retriever    7.329526e+19         366598         1283423   \n",
       "Pembroke            4.861096e+19         201129          725412   \n",
       "Labrador Retriever  4.808945e+19         199472          728121   \n",
       "Chihuahua           4.330285e+19         174083          545599   \n",
       "French Bulldog      1.820007e+19         117666          447576   \n",
       "...                          ...            ...             ...   \n",
       "Standard Schnauzer  6.757109e+17            928            2046   \n",
       "Japanese Spaniel    6.773010e+17            471            1362   \n",
       "Groenendael         6.939424e+17            413            1896   \n",
       "Ibizan Hound        1.337324e+18            403            1037   \n",
       "Brabancon Griffon   6.693715e+17            196             524   \n",
       "\n",
       "                    rating_numerator  rating_denominator  breed_confidence  \n",
       "dog_breed                                                                   \n",
       "Golden Retriever              1114.0               947.0         67.833893  \n",
       "Pembroke                       741.0               640.0         46.080324  \n",
       "Labrador Retriever             719.0               640.0         41.928230  \n",
       "Chihuahua                      629.0               590.0         34.597093  \n",
       "French Bulldog                 262.0               230.0         17.765186  \n",
       "...                              ...                 ...               ...  \n",
       "Standard Schnauzer              12.0                10.0          0.441427  \n",
       "Japanese Spaniel                 5.0                10.0          0.661178  \n",
       "Groenendael                     10.0                10.0          0.550796  \n",
       "Ibizan Hound                    17.0                20.0          0.387067  \n",
       "Brabancon Griffon               10.0                10.0          0.483268  \n",
       "\n",
       "[109 rows x 6 columns]"
      ]
     },
     "execution_count": 93,
     "metadata": {},
     "output_type": "execute_result"
    }
   ],
   "source": [
    "# sort dog breed by favourite counts\n",
    "df1_breed.sort_values(by=['retweet_count'],ascending=False)"
   ]
  },
  {
   "cell_type": "markdown",
   "metadata": {},
   "source": [
    ">From the above statistics, we observe that the dog breed with the highest retweet count is Golden Retriever"
   ]
  },
  {
   "cell_type": "code",
   "execution_count": 94,
   "metadata": {
    "scrolled": true
   },
   "outputs": [
    {
     "data": {
      "text/html": [
       "<div>\n",
       "<style scoped>\n",
       "    .dataframe tbody tr th:only-of-type {\n",
       "        vertical-align: middle;\n",
       "    }\n",
       "\n",
       "    .dataframe tbody tr th {\n",
       "        vertical-align: top;\n",
       "    }\n",
       "\n",
       "    .dataframe thead th {\n",
       "        text-align: right;\n",
       "    }\n",
       "</style>\n",
       "<table border=\"1\" class=\"dataframe\">\n",
       "  <thead>\n",
       "    <tr style=\"text-align: right;\">\n",
       "      <th></th>\n",
       "      <th>tweet_id</th>\n",
       "      <th>retweet_count</th>\n",
       "      <th>favorite_count</th>\n",
       "      <th>rating_numerator</th>\n",
       "      <th>rating_denominator</th>\n",
       "      <th>breed_confidence</th>\n",
       "    </tr>\n",
       "    <tr>\n",
       "      <th>dog_types</th>\n",
       "      <th></th>\n",
       "      <th></th>\n",
       "      <th></th>\n",
       "      <th></th>\n",
       "      <th></th>\n",
       "      <th></th>\n",
       "    </tr>\n",
       "  </thead>\n",
       "  <tbody>\n",
       "    <tr>\n",
       "      <th>pupper</th>\n",
       "      <td>6.199686e+19</td>\n",
       "      <td>209337</td>\n",
       "      <td>717801</td>\n",
       "      <td>920.0</td>\n",
       "      <td>850.0</td>\n",
       "      <td>56.585015</td>\n",
       "    </tr>\n",
       "    <tr>\n",
       "      <th>doggo</th>\n",
       "      <td>2.376684e+19</td>\n",
       "      <td>165740</td>\n",
       "      <td>571723</td>\n",
       "      <td>358.0</td>\n",
       "      <td>290.0</td>\n",
       "      <td>17.041746</td>\n",
       "    </tr>\n",
       "    <tr>\n",
       "      <th>puppo</th>\n",
       "      <td>1.131957e+19</td>\n",
       "      <td>44564</td>\n",
       "      <td>169225</td>\n",
       "      <td>165.0</td>\n",
       "      <td>140.0</td>\n",
       "      <td>10.116101</td>\n",
       "    </tr>\n",
       "    <tr>\n",
       "      <th>floofer</th>\n",
       "      <td>3.852196e+18</td>\n",
       "      <td>11236</td>\n",
       "      <td>47795</td>\n",
       "      <td>58.0</td>\n",
       "      <td>50.0</td>\n",
       "      <td>2.923533</td>\n",
       "    </tr>\n",
       "    <tr>\n",
       "      <th>doggo|pupper</th>\n",
       "      <td>2.378686e+18</td>\n",
       "      <td>7686</td>\n",
       "      <td>27513</td>\n",
       "      <td>37.0</td>\n",
       "      <td>30.0</td>\n",
       "      <td>2.542488</td>\n",
       "    </tr>\n",
       "  </tbody>\n",
       "</table>\n",
       "</div>"
      ],
      "text/plain": [
       "                  tweet_id  retweet_count  favorite_count  rating_numerator  \\\n",
       "dog_types                                                                     \n",
       "pupper        6.199686e+19         209337          717801             920.0   \n",
       "doggo         2.376684e+19         165740          571723             358.0   \n",
       "puppo         1.131957e+19          44564          169225             165.0   \n",
       "floofer       3.852196e+18          11236           47795              58.0   \n",
       "doggo|pupper  2.378686e+18           7686           27513              37.0   \n",
       "\n",
       "              rating_denominator  breed_confidence  \n",
       "dog_types                                           \n",
       "pupper                     850.0         56.585015  \n",
       "doggo                      290.0         17.041746  \n",
       "puppo                      140.0         10.116101  \n",
       "floofer                     50.0          2.923533  \n",
       "doggo|pupper                30.0          2.542488  "
      ]
     },
     "execution_count": 94,
     "metadata": {},
     "output_type": "execute_result"
    }
   ],
   "source": [
    "# sort dog types by favourite counts\n",
    "df1_type.sort_values(by=['favorite_count'],ascending=False)"
   ]
  },
  {
   "cell_type": "markdown",
   "metadata": {},
   "source": [
    ">From the above statistics, we observe that the dog types with the highest favorite count is pupper"
   ]
  },
  {
   "cell_type": "code",
   "execution_count": 95,
   "metadata": {
    "scrolled": true
   },
   "outputs": [
    {
     "data": {
      "text/html": [
       "<div>\n",
       "<style scoped>\n",
       "    .dataframe tbody tr th:only-of-type {\n",
       "        vertical-align: middle;\n",
       "    }\n",
       "\n",
       "    .dataframe tbody tr th {\n",
       "        vertical-align: top;\n",
       "    }\n",
       "\n",
       "    .dataframe thead th {\n",
       "        text-align: right;\n",
       "    }\n",
       "</style>\n",
       "<table border=\"1\" class=\"dataframe\">\n",
       "  <thead>\n",
       "    <tr style=\"text-align: right;\">\n",
       "      <th></th>\n",
       "      <th>tweet_id</th>\n",
       "      <th>retweet_count</th>\n",
       "      <th>favorite_count</th>\n",
       "      <th>rating_numerator</th>\n",
       "      <th>rating_denominator</th>\n",
       "      <th>breed_confidence</th>\n",
       "    </tr>\n",
       "    <tr>\n",
       "      <th>dog_types</th>\n",
       "      <th></th>\n",
       "      <th></th>\n",
       "      <th></th>\n",
       "      <th></th>\n",
       "      <th></th>\n",
       "      <th></th>\n",
       "    </tr>\n",
       "  </thead>\n",
       "  <tbody>\n",
       "    <tr>\n",
       "      <th>pupper</th>\n",
       "      <td>6.199686e+19</td>\n",
       "      <td>209337</td>\n",
       "      <td>717801</td>\n",
       "      <td>920.0</td>\n",
       "      <td>850.0</td>\n",
       "      <td>56.585015</td>\n",
       "    </tr>\n",
       "    <tr>\n",
       "      <th>doggo</th>\n",
       "      <td>2.376684e+19</td>\n",
       "      <td>165740</td>\n",
       "      <td>571723</td>\n",
       "      <td>358.0</td>\n",
       "      <td>290.0</td>\n",
       "      <td>17.041746</td>\n",
       "    </tr>\n",
       "    <tr>\n",
       "      <th>puppo</th>\n",
       "      <td>1.131957e+19</td>\n",
       "      <td>44564</td>\n",
       "      <td>169225</td>\n",
       "      <td>165.0</td>\n",
       "      <td>140.0</td>\n",
       "      <td>10.116101</td>\n",
       "    </tr>\n",
       "    <tr>\n",
       "      <th>floofer</th>\n",
       "      <td>3.852196e+18</td>\n",
       "      <td>11236</td>\n",
       "      <td>47795</td>\n",
       "      <td>58.0</td>\n",
       "      <td>50.0</td>\n",
       "      <td>2.923533</td>\n",
       "    </tr>\n",
       "    <tr>\n",
       "      <th>doggo|pupper</th>\n",
       "      <td>2.378686e+18</td>\n",
       "      <td>7686</td>\n",
       "      <td>27513</td>\n",
       "      <td>37.0</td>\n",
       "      <td>30.0</td>\n",
       "      <td>2.542488</td>\n",
       "    </tr>\n",
       "  </tbody>\n",
       "</table>\n",
       "</div>"
      ],
      "text/plain": [
       "                  tweet_id  retweet_count  favorite_count  rating_numerator  \\\n",
       "dog_types                                                                     \n",
       "pupper        6.199686e+19         209337          717801             920.0   \n",
       "doggo         2.376684e+19         165740          571723             358.0   \n",
       "puppo         1.131957e+19          44564          169225             165.0   \n",
       "floofer       3.852196e+18          11236           47795              58.0   \n",
       "doggo|pupper  2.378686e+18           7686           27513              37.0   \n",
       "\n",
       "              rating_denominator  breed_confidence  \n",
       "dog_types                                           \n",
       "pupper                     850.0         56.585015  \n",
       "doggo                      290.0         17.041746  \n",
       "puppo                      140.0         10.116101  \n",
       "floofer                     50.0          2.923533  \n",
       "doggo|pupper                30.0          2.542488  "
      ]
     },
     "execution_count": 95,
     "metadata": {},
     "output_type": "execute_result"
    }
   ],
   "source": [
    "# sort dog types by favourite counts\n",
    "df1_type.sort_values(by=['retweet_count'],ascending=False)"
   ]
  },
  {
   "cell_type": "markdown",
   "metadata": {},
   "source": [
    ">From the above statistics, we observe that the dog types with the highest retweet count is pupper"
   ]
  },
  {
   "cell_type": "code",
   "execution_count": 96,
   "metadata": {
    "scrolled": false
   },
   "outputs": [
    {
     "data": {
      "text/html": [
       "<div>\n",
       "<style scoped>\n",
       "    .dataframe tbody tr th:only-of-type {\n",
       "        vertical-align: middle;\n",
       "    }\n",
       "\n",
       "    .dataframe tbody tr th {\n",
       "        vertical-align: top;\n",
       "    }\n",
       "\n",
       "    .dataframe thead th {\n",
       "        text-align: right;\n",
       "    }\n",
       "</style>\n",
       "<table border=\"1\" class=\"dataframe\">\n",
       "  <thead>\n",
       "    <tr style=\"text-align: right;\">\n",
       "      <th></th>\n",
       "      <th>tweet_id</th>\n",
       "      <th>retweet_count</th>\n",
       "      <th>favorite_count</th>\n",
       "      <th>rating_numerator</th>\n",
       "      <th>rating_denominator</th>\n",
       "      <th>breed_confidence</th>\n",
       "    </tr>\n",
       "    <tr>\n",
       "      <th>name</th>\n",
       "      <th></th>\n",
       "      <th></th>\n",
       "      <th></th>\n",
       "      <th></th>\n",
       "      <th></th>\n",
       "      <th></th>\n",
       "    </tr>\n",
       "  </thead>\n",
       "  <tbody>\n",
       "    <tr>\n",
       "      <th>Bo</th>\n",
       "      <td>3800837682296291328</td>\n",
       "      <td>54924</td>\n",
       "      <td>136148</td>\n",
       "      <td>60.0</td>\n",
       "      <td>50.0</td>\n",
       "      <td>3.268917</td>\n",
       "    </tr>\n",
       "    <tr>\n",
       "      <th>Zoey</th>\n",
       "      <td>1760983234430976000</td>\n",
       "      <td>32109</td>\n",
       "      <td>113237</td>\n",
       "      <td>26.0</td>\n",
       "      <td>20.0</td>\n",
       "      <td>1.328575</td>\n",
       "    </tr>\n",
       "    <tr>\n",
       "      <th>Duddles</th>\n",
       "      <td>879415818425184256</td>\n",
       "      <td>45849</td>\n",
       "      <td>107956</td>\n",
       "      <td>13.0</td>\n",
       "      <td>10.0</td>\n",
       "      <td>0.383404</td>\n",
       "    </tr>\n",
       "    <tr>\n",
       "      <th>Stephan</th>\n",
       "      <td>807106840509214720</td>\n",
       "      <td>56625</td>\n",
       "      <td>107015</td>\n",
       "      <td>13.0</td>\n",
       "      <td>10.0</td>\n",
       "      <td>0.505370</td>\n",
       "    </tr>\n",
       "    <tr>\n",
       "      <th>Jamesy</th>\n",
       "      <td>866450705531457536</td>\n",
       "      <td>32883</td>\n",
       "      <td>106827</td>\n",
       "      <td>13.0</td>\n",
       "      <td>10.0</td>\n",
       "      <td>0.905334</td>\n",
       "    </tr>\n",
       "    <tr>\n",
       "      <th>...</th>\n",
       "      <td>...</td>\n",
       "      <td>...</td>\n",
       "      <td>...</td>\n",
       "      <td>...</td>\n",
       "      <td>...</td>\n",
       "      <td>...</td>\n",
       "    </tr>\n",
       "    <tr>\n",
       "      <th>Lugan</th>\n",
       "      <td>666739327293083648</td>\n",
       "      <td>71</td>\n",
       "      <td>244</td>\n",
       "      <td>10.0</td>\n",
       "      <td>10.0</td>\n",
       "      <td>0.546933</td>\n",
       "    </tr>\n",
       "    <tr>\n",
       "      <th>Kenneth</th>\n",
       "      <td>667171260800061440</td>\n",
       "      <td>97</td>\n",
       "      <td>235</td>\n",
       "      <td>10.0</td>\n",
       "      <td>10.0</td>\n",
       "      <td>0.841265</td>\n",
       "    </tr>\n",
       "    <tr>\n",
       "      <th>Keet</th>\n",
       "      <td>667062181243039744</td>\n",
       "      <td>57</td>\n",
       "      <td>227</td>\n",
       "      <td>10.0</td>\n",
       "      <td>10.0</td>\n",
       "      <td>0.825678</td>\n",
       "    </tr>\n",
       "    <tr>\n",
       "      <th>Fwed</th>\n",
       "      <td>667393430834667520</td>\n",
       "      <td>60</td>\n",
       "      <td>211</td>\n",
       "      <td>8.0</td>\n",
       "      <td>10.0</td>\n",
       "      <td>0.557009</td>\n",
       "    </tr>\n",
       "    <tr>\n",
       "      <th>Christoper</th>\n",
       "      <td>666691418707132416</td>\n",
       "      <td>51</td>\n",
       "      <td>196</td>\n",
       "      <td>8.0</td>\n",
       "      <td>10.0</td>\n",
       "      <td>0.975401</td>\n",
       "    </tr>\n",
       "  </tbody>\n",
       "</table>\n",
       "<p>753 rows × 6 columns</p>\n",
       "</div>"
      ],
      "text/plain": [
       "                       tweet_id  retweet_count  favorite_count  \\\n",
       "name                                                             \n",
       "Bo          3800837682296291328          54924          136148   \n",
       "Zoey        1760983234430976000          32109          113237   \n",
       "Duddles      879415818425184256          45849          107956   \n",
       "Stephan      807106840509214720          56625          107015   \n",
       "Jamesy       866450705531457536          32883          106827   \n",
       "...                         ...            ...             ...   \n",
       "Lugan        666739327293083648             71             244   \n",
       "Kenneth      667171260800061440             97             235   \n",
       "Keet         667062181243039744             57             227   \n",
       "Fwed         667393430834667520             60             211   \n",
       "Christoper   666691418707132416             51             196   \n",
       "\n",
       "            rating_numerator  rating_denominator  breed_confidence  \n",
       "name                                                                \n",
       "Bo                      60.0                50.0          3.268917  \n",
       "Zoey                    26.0                20.0          1.328575  \n",
       "Duddles                 13.0                10.0          0.383404  \n",
       "Stephan                 13.0                10.0          0.505370  \n",
       "Jamesy                  13.0                10.0          0.905334  \n",
       "...                      ...                 ...               ...  \n",
       "Lugan                   10.0                10.0          0.546933  \n",
       "Kenneth                 10.0                10.0          0.841265  \n",
       "Keet                    10.0                10.0          0.825678  \n",
       "Fwed                     8.0                10.0          0.557009  \n",
       "Christoper               8.0                10.0          0.975401  \n",
       "\n",
       "[753 rows x 6 columns]"
      ]
     },
     "execution_count": 96,
     "metadata": {},
     "output_type": "execute_result"
    }
   ],
   "source": [
    "# sort dog name by favourite counts\n",
    "df1_name.sort_values(by=['favorite_count'],ascending=False)"
   ]
  },
  {
   "cell_type": "markdown",
   "metadata": {},
   "source": [
    ">From the above statistics, we observe that the dog name with the highest favorite count is Bo"
   ]
  },
  {
   "cell_type": "code",
   "execution_count": 97,
   "metadata": {
    "scrolled": false
   },
   "outputs": [
    {
     "data": {
      "text/html": [
       "<div>\n",
       "<style scoped>\n",
       "    .dataframe tbody tr th:only-of-type {\n",
       "        vertical-align: middle;\n",
       "    }\n",
       "\n",
       "    .dataframe tbody tr th {\n",
       "        vertical-align: top;\n",
       "    }\n",
       "\n",
       "    .dataframe thead th {\n",
       "        text-align: right;\n",
       "    }\n",
       "</style>\n",
       "<table border=\"1\" class=\"dataframe\">\n",
       "  <thead>\n",
       "    <tr style=\"text-align: right;\">\n",
       "      <th></th>\n",
       "      <th>tweet_id</th>\n",
       "      <th>retweet_count</th>\n",
       "      <th>favorite_count</th>\n",
       "      <th>rating_numerator</th>\n",
       "      <th>rating_denominator</th>\n",
       "      <th>breed_confidence</th>\n",
       "    </tr>\n",
       "    <tr>\n",
       "      <th>name</th>\n",
       "      <th></th>\n",
       "      <th></th>\n",
       "      <th></th>\n",
       "      <th></th>\n",
       "      <th></th>\n",
       "      <th></th>\n",
       "    </tr>\n",
       "  </thead>\n",
       "  <tbody>\n",
       "    <tr>\n",
       "      <th>Stephan</th>\n",
       "      <td>807106840509214720</td>\n",
       "      <td>56625</td>\n",
       "      <td>107015</td>\n",
       "      <td>13.0</td>\n",
       "      <td>10.0</td>\n",
       "      <td>0.505370</td>\n",
       "    </tr>\n",
       "    <tr>\n",
       "      <th>Bo</th>\n",
       "      <td>3800837682296291328</td>\n",
       "      <td>54924</td>\n",
       "      <td>136148</td>\n",
       "      <td>60.0</td>\n",
       "      <td>50.0</td>\n",
       "      <td>3.268917</td>\n",
       "    </tr>\n",
       "    <tr>\n",
       "      <th>Duddles</th>\n",
       "      <td>879415818425184256</td>\n",
       "      <td>45849</td>\n",
       "      <td>107956</td>\n",
       "      <td>13.0</td>\n",
       "      <td>10.0</td>\n",
       "      <td>0.383404</td>\n",
       "    </tr>\n",
       "    <tr>\n",
       "      <th>Buddy</th>\n",
       "      <td>2264065818210021376</td>\n",
       "      <td>37686</td>\n",
       "      <td>72809</td>\n",
       "      <td>34.0</td>\n",
       "      <td>30.0</td>\n",
       "      <td>1.460446</td>\n",
       "    </tr>\n",
       "    <tr>\n",
       "      <th>Jamesy</th>\n",
       "      <td>866450705531457536</td>\n",
       "      <td>32883</td>\n",
       "      <td>106827</td>\n",
       "      <td>13.0</td>\n",
       "      <td>10.0</td>\n",
       "      <td>0.905334</td>\n",
       "    </tr>\n",
       "    <tr>\n",
       "      <th>...</th>\n",
       "      <td>...</td>\n",
       "      <td>...</td>\n",
       "      <td>...</td>\n",
       "      <td>...</td>\n",
       "      <td>...</td>\n",
       "      <td>...</td>\n",
       "    </tr>\n",
       "    <tr>\n",
       "      <th>Kollin</th>\n",
       "      <td>669567591774625792</td>\n",
       "      <td>61</td>\n",
       "      <td>248</td>\n",
       "      <td>9.0</td>\n",
       "      <td>10.0</td>\n",
       "      <td>0.980511</td>\n",
       "    </tr>\n",
       "    <tr>\n",
       "      <th>Fwed</th>\n",
       "      <td>667393430834667520</td>\n",
       "      <td>60</td>\n",
       "      <td>211</td>\n",
       "      <td>8.0</td>\n",
       "      <td>10.0</td>\n",
       "      <td>0.557009</td>\n",
       "    </tr>\n",
       "    <tr>\n",
       "      <th>Keet</th>\n",
       "      <td>667062181243039744</td>\n",
       "      <td>57</td>\n",
       "      <td>227</td>\n",
       "      <td>10.0</td>\n",
       "      <td>10.0</td>\n",
       "      <td>0.825678</td>\n",
       "    </tr>\n",
       "    <tr>\n",
       "      <th>Christoper</th>\n",
       "      <td>666691418707132416</td>\n",
       "      <td>51</td>\n",
       "      <td>196</td>\n",
       "      <td>8.0</td>\n",
       "      <td>10.0</td>\n",
       "      <td>0.975401</td>\n",
       "    </tr>\n",
       "    <tr>\n",
       "      <th>Bloo</th>\n",
       "      <td>670676092097810432</td>\n",
       "      <td>45</td>\n",
       "      <td>267</td>\n",
       "      <td>8.0</td>\n",
       "      <td>10.0</td>\n",
       "      <td>0.676102</td>\n",
       "    </tr>\n",
       "  </tbody>\n",
       "</table>\n",
       "<p>753 rows × 6 columns</p>\n",
       "</div>"
      ],
      "text/plain": [
       "                       tweet_id  retweet_count  favorite_count  \\\n",
       "name                                                             \n",
       "Stephan      807106840509214720          56625          107015   \n",
       "Bo          3800837682296291328          54924          136148   \n",
       "Duddles      879415818425184256          45849          107956   \n",
       "Buddy       2264065818210021376          37686           72809   \n",
       "Jamesy       866450705531457536          32883          106827   \n",
       "...                         ...            ...             ...   \n",
       "Kollin       669567591774625792             61             248   \n",
       "Fwed         667393430834667520             60             211   \n",
       "Keet         667062181243039744             57             227   \n",
       "Christoper   666691418707132416             51             196   \n",
       "Bloo         670676092097810432             45             267   \n",
       "\n",
       "            rating_numerator  rating_denominator  breed_confidence  \n",
       "name                                                                \n",
       "Stephan                 13.0                10.0          0.505370  \n",
       "Bo                      60.0                50.0          3.268917  \n",
       "Duddles                 13.0                10.0          0.383404  \n",
       "Buddy                   34.0                30.0          1.460446  \n",
       "Jamesy                  13.0                10.0          0.905334  \n",
       "...                      ...                 ...               ...  \n",
       "Kollin                   9.0                10.0          0.980511  \n",
       "Fwed                     8.0                10.0          0.557009  \n",
       "Keet                    10.0                10.0          0.825678  \n",
       "Christoper               8.0                10.0          0.975401  \n",
       "Bloo                     8.0                10.0          0.676102  \n",
       "\n",
       "[753 rows x 6 columns]"
      ]
     },
     "execution_count": 97,
     "metadata": {},
     "output_type": "execute_result"
    }
   ],
   "source": [
    "# sort dog name by favourite counts\n",
    "df1_name.sort_values(by=['retweet_count'],ascending=False)"
   ]
  },
  {
   "cell_type": "markdown",
   "metadata": {},
   "source": [
    ">From the above statistics, we observe that the dog name with the highest retweet count is Stephan"
   ]
  },
  {
   "cell_type": "markdown",
   "metadata": {},
   "source": [
    "### Insights:\n",
    "1. 1. Most common dog type is the pupper followed by the doggo and they both have the highest (717801) and second highest (571723) followers retweets 209337 and 165740 respectively.\n",
    "\n",
    "\n",
    "2. Most common dog breed prediction is golden_retriever followed by pembroke and they both have the highest and second highest  retweets respectively.\n",
    "\n",
    "\n",
    "3. The dog names Stephan, Bo and Duddles had the top three highest followers counts respectively"
   ]
  },
  {
   "cell_type": "markdown",
   "metadata": {
    "collapsed": true
   },
   "source": [
    "### Visualization"
   ]
  },
  {
   "cell_type": "code",
   "execution_count": 98,
   "metadata": {
    "scrolled": false
   },
   "outputs": [
    {
     "data": {
      "image/png": "[encoded data removed]",
      "text/plain": [
       "<Figure size 1080x1080 with 42 Axes>"
      ]
     },
     "metadata": {
      "needs_background": "light"
     },
     "output_type": "display_data"
    }
   ],
   "source": [
    "sns.pairplot(df1);"
   ]
  },
  {
   "cell_type": "code",
   "execution_count": 99,
   "metadata": {},
   "outputs": [
    {
     "data": {
      "image/png": "[encoded data removed]",
      "text/plain": [
       "<Figure size 432x288 with 1 Axes>"
      ]
     },
     "metadata": {
      "needs_background": "light"
     },
     "output_type": "display_data"
    }
   ],
   "source": [
    "p = sns.countplot(data=df1, x='dog_types')\n",
    "p.figure.suptitle('Dog Type (Count)');"
   ]
  },
  {
   "cell_type": "code",
   "execution_count": 100,
   "metadata": {},
   "outputs": [
    {
     "data": {
      "image/png": "[encoded data removed]",
      "text/plain": [
       "<Figure size 432x288 with 1 Axes>"
      ]
     },
     "metadata": {
      "needs_background": "light"
     },
     "output_type": "display_data"
    }
   ],
   "source": [
    "p=sns.barplot(data=df1, x='dog_types', y='retweet_count')\n",
    "p.figure.suptitle('Average Retweet Count (by dog type)');"
   ]
  },
  {
   "cell_type": "code",
   "execution_count": 101,
   "metadata": {},
   "outputs": [
    {
     "data": {
      "image/png": "[encoded data removed]",
      "text/plain": [
       "<Figure size 432x288 with 1 Axes>"
      ]
     },
     "metadata": {
      "needs_background": "light"
     },
     "output_type": "display_data"
    }
   ],
   "source": [
    "p=sns.barplot(data=df1, x='dog_types', y='favorite_count')\n",
    "p.figure.suptitle('Average Favorite Count (by dog type)');"
   ]
  },
  {
   "cell_type": "markdown",
   "metadata": {},
   "source": [
    "Looking at the plots above, we note the following:\n",
    "- The pupper type has the highest count and the floofer and (doggo|pupper) has the lowest count.\n",
    "- The average retweet_count for the doggo is the highest (about 5800 retweets), where the average retweet_count for the floofer is the lowest (less than 2,500). \n",
    "- Similarly, the average favorite_count for doggo type is highest (about 20000), and the pupper has the lowest average favorite count."
   ]
  },
  {
   "cell_type": "code",
   "execution_count": 102,
   "metadata": {
    "scrolled": false
   },
   "outputs": [
    {
     "data": {
      "image/png": "[encoded data removed]",
      "text/plain": [
       "<Figure size 1080x1080 with 2 Axes>"
      ]
     },
     "metadata": {
      "needs_background": "light"
     },
     "output_type": "display_data"
    }
   ],
   "source": [
    "f,ax = plt.subplots(figsize=(15, 15))\n",
    "sns.heatmap(df1.corr(),annot=True, ax=ax);"
   ]
  },
  {
   "cell_type": "markdown",
   "metadata": {},
   "source": [
    "Looking at the heatmap above, we note the following:\n",
    "\n",
    "- There is a strong positive correlation (0.92) between `favorite_count` and `retweet_count` which support our observation above.\n",
    "- There is a relatively weak negative correlation (-0.027) between `breed_confidence` and `rating_denominator` which is interesting as different predictions may have opposing confidence levels. "
   ]
  },
  {
   "cell_type": "code",
   "execution_count": 103,
   "metadata": {
    "scrolled": true
   },
   "outputs": [
    {
     "data": {
      "image/png": "[encoded data removed]",
      "text/plain": [
       "<Figure size 720x1440 with 1 Axes>"
      ]
     },
     "metadata": {
      "needs_background": "light"
     },
     "output_type": "display_data"
    }
   ],
   "source": [
    "# Plot a histogram of dog_breed\n",
    "dims = (10, 20)\n",
    "fig, ax = plt.subplots(figsize=dims)\n",
    "sns.histplot(ax=ax, y=df1['dog_breed'], stat=\"count\");"
   ]
  },
  {
   "cell_type": "markdown",
   "metadata": {},
   "source": [
    "> From the dog_breed histogram, we see that the *golden retriever* is the most common breed in the dataset, followed by the *labrador retriever*"
   ]
  }
 ],
 "metadata": {
  "extensions": {
   "jupyter_dashboards": {
    "activeView": "report_default",
    "version": 1,
    "views": {
     "grid_default": {
      "cellMargin": 10,
      "defaultCellHeight": 20,
      "maxColumns": 12,
      "name": "grid",
      "type": "grid"
     },
     "report_default": {
      "name": "report",
      "type": "report"
     }
    }
   }
  },
  "kernelspec": {
   "display_name": "Python 3 (ipykernel)",
   "language": "python",
   "name": "python3"
  },
  "language_info": {
   "codemirror_mode": {
    "name": "ipython",
    "version": 3
   },
   "file_extension": ".py",
   "mimetype": "text/x-python",
   "name": "python",
   "nbconvert_exporter": "python",
   "pygments_lexer": "ipython3",
   "version": "3.9.12"
  }
 },
 "nbformat": 4,
 "nbformat_minor": 2
}
